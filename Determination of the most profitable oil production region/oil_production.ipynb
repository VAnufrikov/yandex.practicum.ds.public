{
 "cells": [
  {
   "cell_type": "markdown",
   "metadata": {},
   "source": [
    "# Описание проекта"
   ]
  },
  {
   "cell_type": "markdown",
   "metadata": {},
   "source": [
    "Допустим, вы работаете в добывающей компании «ГлавРосГосНефть». Нужно решить, где бурить новую скважину.\n",
    "Шаги для выбора локации обычно такие:\n",
    " - В избранном регионе собирают характеристики для скважин: качество нефти и объём её запасов;\n",
    " - Строят модель для предсказания объёма запасов в новых скважинах;\n",
    " - Выбирают скважины с самыми высокими оценками значений;\n",
    " - Определяют регион с максимальной суммарной прибылью отобранных скважин.\n",
    "\n",
    "Вам предоставлены пробы нефти в трёх регионах. Характеристики для каждой скважины в регионе уже известны. Постройте модель для определения региона, где добыча принесёт наибольшую прибыль. Проанализируйте возможную прибыль и риски техникой Bootstrap."
   ]
  },
  {
   "cell_type": "code",
   "execution_count": 139,
   "metadata": {
    "collapsed": true
   },
   "outputs": [],
   "source": [
    "import warnings\n",
    "import pandas as pd\n",
    "import numpy as np\n",
    "from matplotlib import pyplot as plt\n",
    "from sklearn.preprocessing import StandardScaler\n",
    "from sklearn.model_selection import train_test_split\n",
    "from sklearn.linear_model import LinearRegression\n",
    "from sklearn.metrics import mean_squared_error, r2_score, mean_absolute_error\n",
    "from scipy import stats as st\n",
    "\n",
    "warnings.filterwarnings('ignore') #удаляем варнинги навсегда, очень бесят при разработке\n",
    "RS = 256 # Задаем random state"
   ]
  },
  {
   "cell_type": "code",
   "execution_count": 140,
   "metadata": {},
   "outputs": [
    {
     "name": "stdout",
     "output_type": "stream",
     "text": [
      "Download complete\n"
     ]
    }
   ],
   "source": [
    "try:\n",
    "    df_0 = pd.read_csv('C:/Users/v.anufrikov/Downloads/Практикум/geo_data_0.csv')  # Локальный путь\n",
    "    df_1 = pd.read_csv('C:/Users/v.anufrikov/Downloads/Практикум/geo_data_1.csv')  # Локальный путь\n",
    "    df_2 = pd.read_csv('C:/Users/v.anufrikov/Downloads/Практикум/geo_data_2.csv')  # Локальный путь\n",
    "except:\n",
    "    df_0 = pd.read_csv('/datasets/geo_data_0.csv')  # Серверный путь\n",
    "    df_1 = pd.read_csv('/datasets/geo_data_1.csv')  # Серверный путь\n",
    "    df_2 = pd.read_csv('/datasets/geo_data_2.csv')  # Серверный путь\n",
    "finally:\n",
    "    print('Download complete')"
   ]
  },
  {
   "cell_type": "markdown",
   "metadata": {},
   "source": [
    "# Знакомство с данными"
   ]
  },
  {
   "cell_type": "code",
   "execution_count": 141,
   "metadata": {},
   "outputs": [
    {
     "name": "stdout",
     "output_type": "stream",
     "text": [
      "<class 'pandas.core.frame.DataFrame'>\n",
      "RangeIndex: 100000 entries, 0 to 99999\n",
      "Data columns (total 5 columns):\n",
      " #   Column   Non-Null Count   Dtype  \n",
      "---  ------   --------------   -----  \n",
      " 0   id       100000 non-null  object \n",
      " 1   f0       100000 non-null  float64\n",
      " 2   f1       100000 non-null  float64\n",
      " 3   f2       100000 non-null  float64\n",
      " 4   product  100000 non-null  float64\n",
      "dtypes: float64(4), object(1)\n",
      "memory usage: 3.8+ MB\n"
     ]
    }
   ],
   "source": [
    "df_0.info()"
   ]
  },
  {
   "cell_type": "code",
   "execution_count": 142,
   "metadata": {},
   "outputs": [
    {
     "name": "stdout",
     "output_type": "stream",
     "text": [
      "<class 'pandas.core.frame.DataFrame'>\n",
      "RangeIndex: 100000 entries, 0 to 99999\n",
      "Data columns (total 5 columns):\n",
      " #   Column   Non-Null Count   Dtype  \n",
      "---  ------   --------------   -----  \n",
      " 0   id       100000 non-null  object \n",
      " 1   f0       100000 non-null  float64\n",
      " 2   f1       100000 non-null  float64\n",
      " 3   f2       100000 non-null  float64\n",
      " 4   product  100000 non-null  float64\n",
      "dtypes: float64(4), object(1)\n",
      "memory usage: 3.8+ MB\n"
     ]
    }
   ],
   "source": [
    "df_1.info()"
   ]
  },
  {
   "cell_type": "code",
   "execution_count": 143,
   "metadata": {},
   "outputs": [
    {
     "name": "stdout",
     "output_type": "stream",
     "text": [
      "<class 'pandas.core.frame.DataFrame'>\n",
      "RangeIndex: 100000 entries, 0 to 99999\n",
      "Data columns (total 5 columns):\n",
      " #   Column   Non-Null Count   Dtype  \n",
      "---  ------   --------------   -----  \n",
      " 0   id       100000 non-null  object \n",
      " 1   f0       100000 non-null  float64\n",
      " 2   f1       100000 non-null  float64\n",
      " 3   f2       100000 non-null  float64\n",
      " 4   product  100000 non-null  float64\n",
      "dtypes: float64(4), object(1)\n",
      "memory usage: 3.8+ MB\n"
     ]
    }
   ],
   "source": [
    "df_2.info()"
   ]
  },
  {
   "cell_type": "markdown",
   "metadata": {},
   "source": [
    "Расшифровка полей df\n",
    " - id — уникальный идентификатор скважины;\n",
    " - f0, f1, f2 — три признака точек (неважно, что они означают, но сами признаки значимы);\n",
    " - product — объём запасов в скважине (тыс. баррелей).\n",
    "\n",
    "Доход с каждой единицы продукта составляет 450 тыс. рублей, поскольку объём указан в тысячах баррелей"
   ]
  },
  {
   "cell_type": "markdown",
   "metadata": {},
   "source": [
    " # Очистка выбросов"
   ]
  },
  {
   "cell_type": "markdown",
   "metadata": {},
   "source": [
    "> Вижу что пробелов в данных нет вследствие чего можно переходить к исследованию разброса наших признаков"
   ]
  },
  {
   "cell_type": "code",
   "execution_count": 144,
   "metadata": {},
   "outputs": [
    {
     "data": {
      "image/png": "[encoded data removed]",
      "text/plain": [
       "<Figure size 432x288 with 1 Axes>"
      ]
     },
     "metadata": {
      "needs_background": "light"
     },
     "output_type": "display_data"
    },
    {
     "data": {
      "image/png": "[encoded data removed]",
      "text/plain": [
       "<Figure size 432x288 with 1 Axes>"
      ]
     },
     "metadata": {
      "needs_background": "light"
     },
     "output_type": "display_data"
    },
    {
     "data": {
      "image/png": "[encoded data removed]",
      "text/plain": [
       "<Figure size 432x288 with 1 Axes>"
      ]
     },
     "metadata": {
      "needs_background": "light"
     },
     "output_type": "display_data"
    }
   ],
   "source": [
    "fields = ['f0', 'f1', 'f2']\n",
    "\n",
    "for df in [df_0, df_1, df_2]:\n",
    "    df.boxplot(column=fields)\n",
    "    plt.show()"
   ]
  },
  {
   "cell_type": "markdown",
   "metadata": {},
   "source": [
    "> По заданию нам необходимо напечатать на экране средний запас предсказанного сырья и RMSE модели. Проблема в том что RMSE очень не любит выбросы которые пресутсвуют у нас в выборке, поэтому я предлагаю их убрать"
   ]
  },
  {
   "cell_type": "code",
   "execution_count": 145,
   "metadata": {},
   "outputs": [
    {
     "data": {
      "image/png": "[encoded data removed]",
      "text/plain": [
       "<Figure size 432x288 with 1 Axes>"
      ]
     },
     "metadata": {
      "needs_background": "light"
     },
     "output_type": "display_data"
    },
    {
     "data": {
      "image/png": "[encoded data removed]",
      "text/plain": [
       "<Figure size 432x288 with 1 Axes>"
      ]
     },
     "metadata": {
      "needs_background": "light"
     },
     "output_type": "display_data"
    },
    {
     "data": {
      "image/png": "[encoded data removed]",
      "text/plain": [
       "<Figure size 432x288 with 1 Axes>"
      ]
     },
     "metadata": {
      "needs_background": "light"
     },
     "output_type": "display_data"
    }
   ],
   "source": [
    "df_0 = df_0[(df_0['f2'] <= 11) & (df_0['f2'] >= -6)]\n",
    "df_1 = df_1[(df_1['f1'] <= 9) & (df_1['f1'] >= -18)]\n",
    "df_2 = df_2[(df_2['f0'] <= 4.5) & (df_2['f0'] >= -4.5) & (df_2['f1'] <= 4.8) & (df_2['f1'] >= -4.8) & (df_2['f2'] <= 12) & (df_2['f2'] >= -6.5)]\n",
    "\n",
    "# Проверим, что все ок\n",
    "for df in [df_0, df_1, df_2]:\n",
    "    df.boxplot(column=fields)\n",
    "    plt.show()"
   ]
  },
  {
   "cell_type": "markdown",
   "metadata": {},
   "source": [
    "> Проверим, что не удалили много лишнего"
   ]
  },
  {
   "cell_type": "code",
   "execution_count": 146,
   "metadata": {},
   "outputs": [
    {
     "name": "stdout",
     "output_type": "stream",
     "text": [
      "index      99249\n",
      "id         99249\n",
      "f0         99249\n",
      "f1         99249\n",
      "f2         99249\n",
      "product    99249\n",
      "dtype: int64\n",
      "index      99194\n",
      "id         99194\n",
      "f0         99194\n",
      "f1         99194\n",
      "f2         99194\n",
      "product    99194\n",
      "dtype: int64\n",
      "index      97789\n",
      "id         97789\n",
      "f0         97789\n",
      "f1         97789\n",
      "f2         97789\n",
      "product    97789\n",
      "dtype: int64\n"
     ]
    }
   ],
   "source": [
    "for df in [df_0, df_1, df_2]:\n",
    "    df.reset_index(inplace=True)\n",
    "    print(df.count())"
   ]
  },
  {
   "cell_type": "markdown",
   "metadata": {},
   "source": [
    "> Мы подготовили наше датасет к разбивке и теперь спокойно можем разбить его на выбрки 75 - 25 без тестовой выборки, я все таки думаю что id можно убрать из нашего датасета, потому что у нас нет задачи понять где конкретно нам копать, нам нужно узнать лишь регион где мы будем копать в первую очередь, а эти регионы находятся в разных датасетах"
   ]
  },
  {
   "cell_type": "markdown",
   "metadata": {},
   "source": [
    "# Делим и скалируем признаки"
   ]
  },
  {
   "cell_type": "code",
   "execution_count": 147,
   "metadata": {},
   "outputs": [],
   "source": [
    "def split_scaler(df, fields):\n",
    "\n",
    "    target = df['product']\n",
    "    features = df[fields]\n",
    "\n",
    "    features_train, features_valid, target_train, target_valid = train_test_split(features,\n",
    "                                                                                  target,\n",
    "                                                                                  test_size=0.25,\n",
    "                                                                                  random_state=RS,\n",
    "                                                                                  shuffle=True)\n",
    "    # Инициализация scaler\n",
    "    scaler = StandardScaler().fit(features_train[fields])\n",
    "\n",
    "    features_train[fields] = scaler.transfoСкаrm(features_train[fields])\n",
    "    features_valid[fields] = scaler.transform(features_valid[fields])\n",
    "\n",
    "    features_train.boxplot(column=fields)\n",
    "\n",
    "    return features_train, features_valid, target_train, target_valid\n"
   ]
  },
  {
   "cell_type": "markdown",
   "metadata": {},
   "source": [
    "> Рабиваем и нормализуем даные, чтобы не перепутать данные о регионах предлагаю для удобства их как то обозвать, например 1 - Москва, 2 - Санкт Петербург, 3 - Казань.\n"
   ]
  },
  {
   "cell_type": "code",
   "execution_count": 148,
   "metadata": {},
   "outputs": [
    {
     "data": {
      "image/png": "[encoded data removed]",
      "text/plain": [
       "<Figure size 432x288 with 1 Axes>"
      ]
     },
     "metadata": {
      "needs_background": "light"
     },
     "output_type": "display_data"
    }
   ],
   "source": [
    "features_train_msk, features_valid_msk, target_train_msk, target_valid_msk = split_scaler(df_0, fields)\n",
    "features_train_spb, features_valid_spb, target_train_spb, target_valid_spb = split_scaler(df_1, fields)\n",
    "features_train_kzn, features_valid_kzn, target_train_kzn, target_valid_kzn = split_scaler(df_2, fields)"
   ]
  },
  {
   "cell_type": "markdown",
   "metadata": {},
   "source": [
    "Вспомним условия задачи\n",
    "\n",
    " - При разведке региона исследуют 500 точек, из которых с помощью машинного обучения выбирают 200 лучших для разработки.\n",
    " - Бюджет на разработку скважин в регионе — 10 млрд рублей.\n",
    " - При нынешних ценах один баррель сырья приносит 450 рублей дохода.\n",
    " - Доход с каждой единицы продукта составляет 450 тыс. рублей, поскольку объём указан в тысячах баррелей.\n",
    " - После оценки рисков нужно оставить лишь те регионы, в которых вероятность убытков меньше 2.5%.\n",
    " - Среди них выбирают регион с наибольшей средней прибылью."
   ]
  },
  {
   "cell_type": "markdown",
   "metadata": {},
   "source": [
    "# Обучаем LinearRegression модель"
   ]
  },
  {
   "cell_type": "code",
   "execution_count": 149,
   "metadata": {},
   "outputs": [],
   "source": [
    "def linear_regression_full_score(features, target, features_valid, target_valid, sity):\n",
    "    model = LinearRegression(n_jobs = -1).fit(features,\n",
    "                                              target)\n",
    "\n",
    "    predict = model.predict(features_valid)\n",
    "\n",
    "    print(f'Sity =  {sity}')\n",
    "    print(f'mse =   {np.round(mean_squared_error(target_valid, predict), 2)}')\n",
    "    print(f'rmse =  {np.round(np.sqrt(mean_squared_error(target_valid, predict)), 2)}')\n",
    "    print(f'r2 =    {np.round(r2_score(target_valid, predict), 2)}')\n",
    "    print(f'mae =   {np.round(mean_absolute_error(target_valid, predict), 2)}')\n",
    "    print(f'predicted_mean = {np.round(predict.mean(), 2)}')\n",
    "\n",
    "    #Сохраняем результаты обучения\n",
    "    sity.append('mse')\n",
    "    sity.append(np.round(mean_squared_error(target_valid, predict), 2))\n",
    "    sity.append('rmse')\n",
    "    sity.append(np.round(np.sqrt(mean_squared_error(target_valid, predict)), 2))\n",
    "    sity.append('r2')\n",
    "    sity.append(np.round(r2_score(target_valid, predict), 2))\n",
    "    sity.append('mae')\n",
    "    sity.append(np.round(mean_absolute_error(target_valid, predict), 2))\n",
    "    sity.append('predicted_mean')\n",
    "    sity.append(np.round(predict.mean(), 2))\n",
    "\n",
    "    return predict\n"
   ]
  },
  {
   "cell_type": "markdown",
   "metadata": {},
   "source": [
    "# Смотрим на метрики и считаем прибль"
   ]
  },
  {
   "cell_type": "code",
   "execution_count": 150,
   "metadata": {},
   "outputs": [
    {
     "name": "stdout",
     "output_type": "stream",
     "text": [
      "Sity =  ['Moskow']\n",
      "mse =   1430.2\n",
      "rmse =  37.82\n",
      "r2 =    0.27\n",
      "mae =   31.15\n",
      "predicted_mean = 92.5\n"
     ]
    }
   ],
   "source": [
    "Moscow = ['Moscow']\n",
    "\n",
    "predict_msk = linear_regression_full_score(features_train_msk,\n",
    "                                           target_train_msk,\n",
    "                                           features_valid_msk,\n",
    "                                           target_valid_msk,\n",
    "                                           Moscow)"
   ]
  },
  {
   "cell_type": "code",
   "execution_count": 151,
   "metadata": {},
   "outputs": [
    {
     "name": "stdout",
     "output_type": "stream",
     "text": [
      "Sity =  ['Saint Petersburg']\n",
      "mse =   0.8\n",
      "rmse =  0.89\n",
      "r2 =    1.0\n",
      "mae =   0.72\n",
      "predicted_mean = 68.99\n"
     ]
    }
   ],
   "source": [
    "Saint_petersburg = ['Saint Petersburg']\n",
    "\n",
    "predict_spb = linear_regression_full_score(features_train_spb,\n",
    "                                           target_train_spb,\n",
    "                                           features_valid_spb,\n",
    "                                           target_valid_spb,\n",
    "                                           Saint_petersburg)"
   ]
  },
  {
   "cell_type": "code",
   "execution_count": 152,
   "metadata": {},
   "outputs": [
    {
     "name": "stdout",
     "output_type": "stream",
     "text": [
      "Sity =  ['Kazan']\n",
      "mse =   1608.68\n",
      "rmse =  40.11\n",
      "r2 =    0.2\n",
      "mae =   32.91\n",
      "predicted_mean = 94.8\n"
     ]
    }
   ],
   "source": [
    "Kazan = ['Kazan']\n",
    "\n",
    "predict_kzn = linear_regression_full_score(features_train_kzn,\n",
    "                                           target_train_kzn,\n",
    "                                           features_valid_kzn,\n",
    "                                           target_valid_kzn,\n",
    "                                           Kazan)"
   ]
  },
  {
   "cell_type": "markdown",
   "metadata": {},
   "source": []
  },
  {
   "cell_type": "markdown",
   "metadata": {},
   "source": [
    "# Зададим параметры для расчета прибыли"
   ]
  },
  {
   "cell_type": "code",
   "execution_count": 153,
   "metadata": {},
   "outputs": [
    {
     "name": "stdout",
     "output_type": "stream",
     "text": [
      "Достаточный объём сырья для безубыточной разработки региона 22222.222222222223\n",
      "Достаточный объём сырья для безубыточной разработки скважины 111.11111111111111\n"
     ]
    }
   ],
   "source": [
    "points_count_explore = 500   # при разведке региона исследуют 500 точек\n",
    "points_count_profit = 200    # с помощью машинного обучения выбирают 200 лучших для разработки.\n",
    "budget = 10000000000         # бюджет на разработку скважин в регионе\n",
    "barrel = 450\n",
    "price_1h_barrel = barrel * 1000 # стоимость 1к барелей\n",
    "loss_limit = 2.5             # предельная вероятность убытков\n",
    "\n",
    "print(f'Достаточный объём сырья для безубыточной разработки региона {budget / price_1h_barrel}')\n",
    "print(f'Достаточный объём сырья для безубыточной разработки скважины {(budget / price_1h_barrel) / points_count_profit}')"
   ]
  },
  {
   "cell_type": "markdown",
   "metadata": {},
   "source": [
    "> Создадим функцию расчета прибыли в каждом регионе"
   ]
  },
  {
   "cell_type": "code",
   "execution_count": 154,
   "metadata": {},
   "outputs": [],
   "source": [
    "def calculate_profit(target, probabilities):\n",
    "\n",
    "    probs_sorted = probabilities.sort_values(ascending=False)\n",
    "    selected = target[probs_sorted.index][:points_count_profit]\n",
    "\n",
    "    return selected.sum() * price_1h_barrel - budget"
   ]
  },
  {
   "cell_type": "code",
   "execution_count": 155,
   "metadata": {},
   "outputs": [
    {
     "name": "stdout",
     "output_type": "stream",
     "text": [
      "Модель профита для региона Москва = 3307849735.5356426\n"
     ]
    }
   ],
   "source": [
    "print(f'Модель профита для региона Москва = {calculate_profit(target_valid_msk, pd.Series(data=predict_msk, index=target_valid_msk.index))}');"
   ]
  },
  {
   "cell_type": "code",
   "execution_count": 156,
   "metadata": {},
   "outputs": [
    {
     "name": "stdout",
     "output_type": "stream",
     "text": [
      "Модель профита для региона Санк-Петербург = 2415086696.681511\n"
     ]
    }
   ],
   "source": [
    "print(f'Модель профита для региона Санк-Петербург = {calculate_profit(target_valid_spb, pd.Series(data=predict_spb, index=target_valid_spb.index))}');"
   ]
  },
  {
   "cell_type": "code",
   "execution_count": 157,
   "metadata": {},
   "outputs": [
    {
     "name": "stdout",
     "output_type": "stream",
     "text": [
      "Модель профита для региона Казань = 2584016405.6824417\n"
     ]
    }
   ],
   "source": [
    "print(f'Модель профита для региона Казань = {calculate_profit(target_valid_kzn, pd.Series(data=predict_kzn, index=target_valid_kzn.index))}');"
   ]
  },
  {
   "cell_type": "markdown",
   "metadata": {},
   "source": [
    "> Хм, для безубыточной разаботки скважин нам необходимо 111 тысяч едениц продукта, но стредние показатели ниже этого значени\n",
    "> При этом мы будем иметь хорошую прибль при разработке каждого регона"
   ]
  },
  {
   "cell_type": "markdown",
   "metadata": {},
   "source": [
    "# Бустрап наших вычислений"
   ]
  },
  {
   "cell_type": "code",
   "execution_count": 158,
   "metadata": {},
   "outputs": [],
   "source": [
    "def bootstrap(target, probabilities):\n",
    "\n",
    "    state = np.random.RandomState(RS)# берем еще раз наш random state\n",
    "    values = []\n",
    "    alpha = .95\n",
    "\n",
    "\n",
    "    for _ in range(1000): # создаем 1к выборок\n",
    "        target_subsample = target.sample(n=points_count_explore,\n",
    "                                         replace=True,\n",
    "                                         random_state=state) # семплируем данные\n",
    "\n",
    "        probs_subsample = probabilities[target_subsample.index]\n",
    "        values.append(calculate_profit(target_subsample, probs_subsample))\n",
    "\n",
    "    values = pd.Series(values)\n",
    "    df = values.count() - 1\n",
    "\n",
    "    print(f\"Средняя прибыль: {values.mean()}\")\n",
    "    print(f\"95% доверительный интервал истина   {st.t.interval(alpha, df, loc=values.mean(), scale=values.sem())}\")\n",
    "    print(f\"95% доверительный интервал прогноз  {(values.quantile(0.025), values.quantile(0.975))}\")\n",
    "    print('Вероятность убытка = {:.2%}'.format(values[values < 0].count() / values.count()))\n",
    "\n",
    "    if ((values[values < 0].count() / values.count()) <= loss_limit):\n",
    "        print('Регион годится для разработки!')\n",
    "    else:\n",
    "        print('Регион не годится для разработки!')"
   ]
  },
  {
   "cell_type": "code",
   "execution_count": 159,
   "metadata": {},
   "outputs": [
    {
     "name": "stdout",
     "output_type": "stream",
     "text": [
      "Модель для регона Москва\n",
      "Средняя прибыль: 451330874.1234696\n",
      "95% доверительный интервал истина   (435130002.4989569, 467531745.74798226)\n",
      "95% доверительный интервал прогноз  (-70284544.32363236, 966143215.9121792)\n",
      "Вероятность убытка = 3.70%\n",
      "Регион годится для разработки!\n"
     ]
    }
   ],
   "source": [
    "print(f'Модель для региона Москва');\n",
    "bootstrap(target_valid_msk, pd.Series(data=predict_msk, index=target_valid_msk.index))"
   ]
  },
  {
   "cell_type": "code",
   "execution_count": 160,
   "metadata": {},
   "outputs": [
    {
     "name": "stdout",
     "output_type": "stream",
     "text": [
      "Модель для регона Санкт-Петербург\n",
      "Средняя прибыль: 524242557.8478282\n",
      "95% доверительный интервал истина   (510774883.32684886, 537710232.3688076)\n",
      "95% доверительный интервал прогноз  (122907775.42348129, 938782986.8481894)\n",
      "Вероятность убытка = 0.70%\n",
      "Регион годится для разработки!\n"
     ]
    }
   ],
   "source": [
    "print(f'Модель для региона Санкт-Петербург');\n",
    "bootstrap(target_valid_spb, pd.Series(data=predict_spb, index=target_valid_spb.index))"
   ]
  },
  {
   "cell_type": "code",
   "execution_count": 161,
   "metadata": {},
   "outputs": [
    {
     "name": "stdout",
     "output_type": "stream",
     "text": [
      "Модель для регона Казань\n",
      "Средняя прибыль: 350326334.91138846\n",
      "95% доверительный интервал истина   (333136419.17795104, 367516250.6448259)\n",
      "95% доверительный интервал прогноз  (-221447424.4918833, 884772454.0329998)\n",
      "Вероятность убытка = 10.10%\n",
      "Регион годится для разработки!\n"
     ]
    }
   ],
   "source": [
    "print(f'Модель для региона Казань');\n",
    "bootstrap(target_valid_kzn, pd.Series(data=predict_kzn, index=target_valid_kzn.index))"
   ]
  },
  {
   "cell_type": "markdown",
   "metadata": {},
   "source": [
    "> В каждом регионе достаточно нефти для разработки в каждом регионе, однако лучше всего выбрать регион СПБ так ка там самая низкая вероятность убытка всего 0.70% что не может радовать(исходя из условия задачи это 2ой регион)"
   ]
  },
  {
   "cell_type": "markdown",
   "metadata": {},
   "source": [
    "# Вывод"
   ]
  },
  {
   "cell_type": "markdown",
   "metadata": {},
   "source": [
    "- Я изучил даные из выгрузок по 3м регионам и избавился от сильных выбросов которые смог обнаружить через boxplot, так как это могло сильно сказаться на метрике RMSE которую нам нужно испольховать по заданию\n",
    "- Признаки перед обучением были стандартизированны и данные были разделены с помошью простой самописной функции(обратите внимание мы делали fit только на тренировочной выборке)\n",
    "- Далее мы обучили LinearRegression, выбрали ее из за того что очень легко интерпретировать результаты модели, плюс сохранили прогнозы для дальнейшего анализа\n",
    "- По условию задачи нам необходимо было рачитать прибыль при условии что барель нефти будет стоит 450 рублей, на основании этого мы взяли бюджет для разработки и расчитали прибыльность по каждому из 3х регионов\n",
    "    - В итоге разарботка каждого региона спокойно покрывала наши бюджеты и каждый регион был прибыльным\n",
    "- Дополнительно чтобы проверить наши выводы по прибыльности регинов мы применили бустрап в котором поедлили нашу выборку чтобы оценить регион полностью и получить средние значения\n",
    "\n",
    "После дополнительной проверки бустрапом стало ясно что имеет смысл разрабатывать второй регион(Санкт-Петербург), так как он обеспечит высокую прибль и при этом имеет минимальный риск, дальше можно попробовать регион 1(Москва) и регион 3(Казань)"
   ]
  }
 ],
 "metadata": {
  "kernelspec": {
   "display_name": "Python 3 (ipykernel)",
   "language": "python",
   "name": "python3"
  },
  "language_info": {
   "codemirror_mode": {
    "name": "ipython",
    "version": 3
   },
   "file_extension": ".py",
   "mimetype": "text/x-python",
   "name": "python",
   "nbconvert_exporter": "python",
   "pygments_lexer": "ipython3",
   "version": "3.9.5"
  },
  "toc": {
   "base_numbering": 1,
   "nav_menu": {},
   "number_sections": true,
   "sideBar": true,
   "skip_h1_title": true,
   "title_cell": "Table of Contents",
   "title_sidebar": "Contents",
   "toc_cell": false,
   "toc_position": {},
   "toc_section_display": true,
   "toc_window_display": false
  }
 },
 "nbformat": 4,
 "nbformat_minor": 1
}
