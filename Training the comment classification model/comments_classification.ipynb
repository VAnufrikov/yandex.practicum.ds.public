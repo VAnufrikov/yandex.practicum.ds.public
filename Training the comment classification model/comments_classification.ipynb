{
 "cells": [
  {
   "cell_type": "raw",
   "metadata": {},
   "source": [
    "!pip install pymystem3"
   ]
  },
  {
   "cell_type": "code",
   "execution_count": 1,
   "metadata": {},
   "outputs": [],
   "source": [
    "import pandas as pd\n",
    "import numpy as np\n",
    "import re\n",
    "import time\n",
    "from matplotlib import pyplot as plt\n",
    "\n",
    "from sklearn.feature_extraction.text import CountVectorizer\n",
    "from sklearn.feature_extraction.text import TfidfVectorizer\n",
    "from sklearn.metrics import make_scorer, f1_score\n",
    "from sklearn.model_selection import train_test_split, RandomizedSearchCV\n",
    "from nltk.corpus import stopwords\n",
    "from sklearn.metrics import confusion_matrix, classification_report, roc_curve, roc_auc_score\n",
    "\n",
    "\n",
    "from catboost import CatBoostClassifier\n",
    "from sklearn.ensemble import RandomForestClassifier\n",
    "from sklearn.dummy import DummyClassifier\n",
    "\n",
    "import warnings\n",
    "warnings.filterwarnings('ignore') #удаляем варнинги навсегда, очень бесят при разработке\n",
    "RS = 256 # Задаем random state"
   ]
  },
  {
   "cell_type": "markdown",
   "metadata": {},
   "source": [
    "> Получим списки стоп слов"
   ]
  },
  {
   "cell_type": "code",
   "execution_count": 2,
   "metadata": {},
   "outputs": [],
   "source": [
    "nltk.download('stopwords')\n",
    "stop_words = set(stopwords.words('english'))"
   ]
  },
  {
   "cell_type": "markdown",
   "metadata": {},
   "source": [
    "# Описание проекта\n",
    "\n",
    "Интернет-магазин «Викишоп» запускает новый сервис. Теперь пользователи могут редактировать и дополнять описания товаров, как в вики-сообществах. То есть клиенты предлагают свои правки и комментируют изменения других. Магазину нужен инструмент, который будет искать токсичные комментарии и отправлять их на модерацию.\n",
    "Обучите модель классифицировать комментарии на позитивные и негативные. В вашем распоряжении набор данных с разметкой о токсичности правок."
   ]
  },
  {
   "cell_type": "code",
   "execution_count": 3,
   "metadata": {},
   "outputs": [],
   "source": [
    "try:\n",
    "    df = pd.read_csv('C:/Users/v.anufrikov/Downloads/Практикум/toxic_comments.csv', index_col=0)  # Локальный путь\n",
    "except:\n",
    "    df = pd.read_csv('/datasets/toxic_comments.csv', index_col=0)  # Серверный путь\n",
    "finally:\n",
    "    print('Download complete')\n",
    "    # берем чать выборки только так как выборка достаточно большая, если есть желание можешь долго ждать всю выборку\n",
    "    #df = df.sample(7000).reset_index(drop=True)"
   ]
  },
  {
   "cell_type": "code",
   "execution_count": 4,
   "metadata": {},
   "outputs": [
    {
     "data": {
      "text/html": [
       "<div>\n",
       "<style scoped>\n",
       "    .dataframe tbody tr th:only-of-type {\n",
       "        vertical-align: middle;\n",
       "    }\n",
       "\n",
       "    .dataframe tbody tr th {\n",
       "        vertical-align: top;\n",
       "    }\n",
       "\n",
       "    .dataframe thead th {\n",
       "        text-align: right;\n",
       "    }\n",
       "</style>\n",
       "<table border=\"1\" class=\"dataframe\">\n",
       "  <thead>\n",
       "    <tr style=\"text-align: right;\">\n",
       "      <th></th>\n",
       "      <th>text</th>\n",
       "      <th>toxic</th>\n",
       "    </tr>\n",
       "  </thead>\n",
       "  <tbody>\n",
       "    <tr>\n",
       "      <th>0</th>\n",
       "      <td>Explanation\\nWhy the edits made under my usern...</td>\n",
       "      <td>0</td>\n",
       "    </tr>\n",
       "    <tr>\n",
       "      <th>1</th>\n",
       "      <td>D'aww! He matches this background colour I'm s...</td>\n",
       "      <td>0</td>\n",
       "    </tr>\n",
       "    <tr>\n",
       "      <th>2</th>\n",
       "      <td>Hey man, I'm really not trying to edit war. It...</td>\n",
       "      <td>0</td>\n",
       "    </tr>\n",
       "    <tr>\n",
       "      <th>3</th>\n",
       "      <td>\"\\nMore\\nI can't make any real suggestions on ...</td>\n",
       "      <td>0</td>\n",
       "    </tr>\n",
       "    <tr>\n",
       "      <th>4</th>\n",
       "      <td>You, sir, are my hero. Any chance you remember...</td>\n",
       "      <td>0</td>\n",
       "    </tr>\n",
       "  </tbody>\n",
       "</table>\n",
       "</div>"
      ],
      "text/plain": [
       "                                                text  toxic\n",
       "0  Explanation\\nWhy the edits made under my usern...      0\n",
       "1  D'aww! He matches this background colour I'm s...      0\n",
       "2  Hey man, I'm really not trying to edit war. It...      0\n",
       "3  \"\\nMore\\nI can't make any real suggestions on ...      0\n",
       "4  You, sir, are my hero. Any chance you remember...      0"
      ]
     },
     "execution_count": 4,
     "metadata": {},
     "output_type": "execute_result"
    }
   ],
   "source": [
    "def df_info(df):\n",
    "    print(50*\"+\")\n",
    "    df.info()\n",
    "    print(50*\"+\")\n",
    "    print('Описание переменных:')\n",
    "    print(df.describe(percentiles=[.25,.5]))\n",
    "    print(50*\"+\")\n",
    "    print(f'Дубликатов в таблице = {df.duplicated().sum()}')\n",
    "    print(50*\"+\")\n",
    "    print(f'Параметры текста минимальное кол символов {df[\"text\"].str.len().min()} максиальное {df[\"text\"].str.len().max()}')\n",
    "    print(50*\"+\")\n",
    "\n",
    "df.head()"
   ]
  },
  {
   "cell_type": "markdown",
   "metadata": {},
   "source": [
    "> Кажется мы имеем дело с английским текстом"
   ]
  },
  {
   "cell_type": "markdown",
   "metadata": {},
   "source": [
    "> Исследуем df полностью, и нужно ли нам его дополнительно обрабатывать"
   ]
  },
  {
   "cell_type": "code",
   "execution_count": 5,
   "metadata": {},
   "outputs": [],
   "source": [
    "df_info(df)"
   ]
  },
  {
   "cell_type": "markdown",
   "metadata": {},
   "source": [
    "> Уберем поле которое дублиует индекс"
   ]
  },
  {
   "cell_type": "code",
   "execution_count": 6,
   "metadata": {},
   "outputs": [],
   "source": [
    "df['text'] = df['text'].values\n",
    "df['text'] = df['text'].str.lower()"
   ]
  },
  {
   "cell_type": "markdown",
   "metadata": {},
   "source": [
    "> Проверим баланс классов"
   ]
  },
  {
   "cell_type": "code",
   "execution_count": 7,
   "metadata": {},
   "outputs": [
    {
     "data": {
      "text/plain": [
       "<AxesSubplot:>"
      ]
     },
     "execution_count": 7,
     "metadata": {},
     "output_type": "execute_result"
    },
    {
     "data": {
      "image/png": "[encoded data removed]",
      "text/plain": [
       "<Figure size 1000x500 with 1 Axes>"
      ]
     },
     "metadata": {},
     "output_type": "display_data"
    }
   ],
   "source": [
    "df['toxic'].value_counts().plot(kind='bar', figsize=(10, 5))"
   ]
  },
  {
   "cell_type": "markdown",
   "metadata": {},
   "source": [
    "\n",
    "> Если в картце то ты можешь почитать почему это делать НЕ нужно тут\n",
    "> https://habr.com/ru/post/349078/ а так же я думаю ты можешь зайти к нему в личку и спросить поподробнее\n"
   ]
  },
  {
   "cell_type": "markdown",
   "metadata": {},
   "source": [
    "# Отчиска текста от местоимений и лишних слов через регулярки"
   ]
  },
  {
   "cell_type": "code",
   "execution_count": 8,
   "metadata": {},
   "outputs": [],
   "source": [
    "english_mask = r\"[^a-zA-Zа']\"\n",
    "def clean_text(text):\n",
    "    temp = re.sub(english_mask, ' ', text)\n",
    "    return \" \".join(temp.split())"
   ]
  },
  {
   "cell_type": "code",
   "execution_count": 9,
   "metadata": {},
   "outputs": [],
   "source": [
    "df['clean_text'] = df['text'].apply(clean_text)"
   ]
  },
  {
   "cell_type": "code",
   "execution_count": 10,
   "metadata": {},
   "outputs": [],
   "source": [
    "df_info(df)"
   ]
  },
  {
   "cell_type": "markdown",
   "metadata": {},
   "source": [
    "У нас появились дубликаты в таблице, около 1243 отзывов. Мы не можем точно сказать что это написал один и тот же человек поэтому закроем на это глаза"
   ]
  },
  {
   "cell_type": "code",
   "execution_count": 11,
   "metadata": {},
   "outputs": [
    {
     "data": {
      "text/html": [
       "<div>\n",
       "<style scoped>\n",
       "    .dataframe tbody tr th:only-of-type {\n",
       "        vertical-align: middle;\n",
       "    }\n",
       "\n",
       "    .dataframe tbody tr th {\n",
       "        vertical-align: top;\n",
       "    }\n",
       "\n",
       "    .dataframe thead th {\n",
       "        text-align: right;\n",
       "    }\n",
       "</style>\n",
       "<table border=\"1\" class=\"dataframe\">\n",
       "  <thead>\n",
       "    <tr style=\"text-align: right;\">\n",
       "      <th></th>\n",
       "      <th>text</th>\n",
       "      <th>toxic</th>\n",
       "      <th>clean_text</th>\n",
       "    </tr>\n",
       "  </thead>\n",
       "  <tbody>\n",
       "    <tr>\n",
       "      <th>13527</th>\n",
       "      <td>user:abd is muslim scum</td>\n",
       "      <td>1</td>\n",
       "      <td>user abd is muslim scum</td>\n",
       "    </tr>\n",
       "    <tr>\n",
       "      <th>29610</th>\n",
       "      <td>\"\\n\\n unblock request \\n\\n\"</td>\n",
       "      <td>0</td>\n",
       "      <td>unblock request</td>\n",
       "    </tr>\n",
       "    <tr>\n",
       "      <th>32823</th>\n",
       "      <td>please do not vandalise wikipedia</td>\n",
       "      <td>0</td>\n",
       "      <td>please do not vandalise wikipedia</td>\n",
       "    </tr>\n",
       "    <tr>\n",
       "      <th>40899</th>\n",
       "      <td>you better fuck off \\n\\nruddy shit fuck!</td>\n",
       "      <td>1</td>\n",
       "      <td>you better fuck off ruddy shit fuck</td>\n",
       "    </tr>\n",
       "    <tr>\n",
       "      <th>51066</th>\n",
       "      <td>user:abd is muslim scum</td>\n",
       "      <td>1</td>\n",
       "      <td>user abd is muslim scum</td>\n",
       "    </tr>\n",
       "    <tr>\n",
       "      <th>53169</th>\n",
       "      <td>|class=list |importance=low</td>\n",
       "      <td>0</td>\n",
       "      <td>class list importance low</td>\n",
       "    </tr>\n",
       "    <tr>\n",
       "      <th>58350</th>\n",
       "      <td>welcome!\\nhello, , and welcome to wikipedia! w...</td>\n",
       "      <td>0</td>\n",
       "      <td>welcome hello and welcome to wikipedia while e...</td>\n",
       "    </tr>\n",
       "    <tr>\n",
       "      <th>63776</th>\n",
       "      <td>hey \\n\\nhey faggot, are you dead yet? or are y...</td>\n",
       "      <td>1</td>\n",
       "      <td>hey hey faggot are you dead yet or are you wat...</td>\n",
       "    </tr>\n",
       "    <tr>\n",
       "      <th>64070</th>\n",
       "      <td>std\\n\\ncan this be considered an std?</td>\n",
       "      <td>0</td>\n",
       "      <td>std can this be considered an std</td>\n",
       "    </tr>\n",
       "    <tr>\n",
       "      <th>68225</th>\n",
       "      <td>\"thank you for experimenting with  wikipedia. ...</td>\n",
       "      <td>0</td>\n",
       "      <td>thank you for experimenting with wikipedia you...</td>\n",
       "    </tr>\n",
       "    <tr>\n",
       "      <th>73581</th>\n",
       "      <td>oik oik! \\n\\nur a pig!</td>\n",
       "      <td>1</td>\n",
       "      <td>oik oik ur a pig</td>\n",
       "    </tr>\n",
       "    <tr>\n",
       "      <th>80272</th>\n",
       "      <td>thanks for experimenting with wikipedia. your ...</td>\n",
       "      <td>0</td>\n",
       "      <td>thanks for experimenting with wikipedia your t...</td>\n",
       "    </tr>\n",
       "    <tr>\n",
       "      <th>82167</th>\n",
       "      <td>say hello to urban dictionary http://www.urban...</td>\n",
       "      <td>0</td>\n",
       "      <td>say hello to urban dictionary http www urbandi...</td>\n",
       "    </tr>\n",
       "    <tr>\n",
       "      <th>83468</th>\n",
       "      <td>request for unblock</td>\n",
       "      <td>0</td>\n",
       "      <td>request for unblock</td>\n",
       "    </tr>\n",
       "    <tr>\n",
       "      <th>85254</th>\n",
       "      <td>what are you talking about</td>\n",
       "      <td>0</td>\n",
       "      <td>what are you talking about</td>\n",
       "    </tr>\n",
       "    <tr>\n",
       "      <th>85370</th>\n",
       "      <td>hello nawlins \\n\\nwhy do you like to deflower ...</td>\n",
       "      <td>1</td>\n",
       "      <td>hello nawlins why do you like to deflower prep...</td>\n",
       "    </tr>\n",
       "    <tr>\n",
       "      <th>86543</th>\n",
       "      <td>ha, all you proved was that you are a major je...</td>\n",
       "      <td>1</td>\n",
       "      <td>ha all you proved was that you are a major jer...</td>\n",
       "    </tr>\n",
       "    <tr>\n",
       "      <th>86901</th>\n",
       "      <td>i will ki \\n\\nll you and wear your skin like a...</td>\n",
       "      <td>1</td>\n",
       "      <td>i will ki ll you and wear your skin like a robe</td>\n",
       "    </tr>\n",
       "    <tr>\n",
       "      <th>89545</th>\n",
       "      <td>vandalism warning</td>\n",
       "      <td>0</td>\n",
       "      <td>vandalism warning</td>\n",
       "    </tr>\n",
       "    <tr>\n",
       "      <th>89667</th>\n",
       "      <td>fried chickens \\n\\nis dat sum fried chickens?</td>\n",
       "      <td>0</td>\n",
       "      <td>fried chickens is dat sum fried chickens</td>\n",
       "    </tr>\n",
       "    <tr>\n",
       "      <th>92345</th>\n",
       "      <td>wikiproject united states|class=list|importanc...</td>\n",
       "      <td>0</td>\n",
       "      <td>wikiproject united states class list importanc...</td>\n",
       "    </tr>\n",
       "    <tr>\n",
       "      <th>96449</th>\n",
       "      <td>\"\\n\\n unblock request \\n\\n\"</td>\n",
       "      <td>0</td>\n",
       "      <td>unblock request</td>\n",
       "    </tr>\n",
       "    <tr>\n",
       "      <th>98064</th>\n",
       "      <td>semi-protected edit request on 24 april 2014 \\...</td>\n",
       "      <td>0</td>\n",
       "      <td>semi protected edit request on april they are ...</td>\n",
       "    </tr>\n",
       "    <tr>\n",
       "      <th>100096</th>\n",
       "      <td>thanks for the info.</td>\n",
       "      <td>0</td>\n",
       "      <td>thanks for the info</td>\n",
       "    </tr>\n",
       "    <tr>\n",
       "      <th>105178</th>\n",
       "      <td>leave our country. \\n\\nwe don't want you arabs...</td>\n",
       "      <td>1</td>\n",
       "      <td>leave our country we don't want you arabs here</td>\n",
       "    </tr>\n",
       "    <tr>\n",
       "      <th>109193</th>\n",
       "      <td>fuck you \\n\\nfuck you</td>\n",
       "      <td>1</td>\n",
       "      <td>fuck you fuck you</td>\n",
       "    </tr>\n",
       "    <tr>\n",
       "      <th>111535</th>\n",
       "      <td>what are you talking about?</td>\n",
       "      <td>0</td>\n",
       "      <td>what are you talking about</td>\n",
       "    </tr>\n",
       "    <tr>\n",
       "      <th>113240</th>\n",
       "      <td>thank you for experimenting with  wikipedia. y...</td>\n",
       "      <td>0</td>\n",
       "      <td>thank you for experimenting with wikipedia you...</td>\n",
       "    </tr>\n",
       "    <tr>\n",
       "      <th>115712</th>\n",
       "      <td>vandalism \\n\\nplease try to refrain from makin...</td>\n",
       "      <td>0</td>\n",
       "      <td>vandalism please try to refrain from making un...</td>\n",
       "    </tr>\n",
       "    <tr>\n",
       "      <th>118795</th>\n",
       "      <td>very short and very clear \\n\\nslaves - to gas ...</td>\n",
       "      <td>1</td>\n",
       "      <td>very short and very clear slaves to gas chambers</td>\n",
       "    </tr>\n",
       "    <tr>\n",
       "      <th>121531</th>\n",
       "      <td>hola fucker \\n\\nhola fucker</td>\n",
       "      <td>1</td>\n",
       "      <td>hola fucker hola fucker</td>\n",
       "    </tr>\n",
       "    <tr>\n",
       "      <th>134931</th>\n",
       "      <td>\"\\n\\nplease do not add nonsense to wikipedia. ...</td>\n",
       "      <td>0</td>\n",
       "      <td>please do not add nonsense to wikipedia it is ...</td>\n",
       "    </tr>\n",
       "    <tr>\n",
       "      <th>136359</th>\n",
       "      <td>\"\\n\\n please do not add nonsense to wikipedia ...</td>\n",
       "      <td>0</td>\n",
       "      <td>please do not add nonsense to wikipedia as the...</td>\n",
       "    </tr>\n",
       "    <tr>\n",
       "      <th>136417</th>\n",
       "      <td>wikipedia:no personal attacks \\n\\nper this, pl...</td>\n",
       "      <td>0</td>\n",
       "      <td>wikipedia no personal attacks per this please ...</td>\n",
       "    </tr>\n",
       "    <tr>\n",
       "      <th>138163</th>\n",
       "      <td>(second level warning) &gt;</td>\n",
       "      <td>0</td>\n",
       "      <td>second level warning</td>\n",
       "    </tr>\n",
       "    <tr>\n",
       "      <th>140877</th>\n",
       "      <td>dont you think it is equally bad that muslims ...</td>\n",
       "      <td>0</td>\n",
       "      <td>dont you think it is equally bad that muslims ...</td>\n",
       "    </tr>\n",
       "    <tr>\n",
       "      <th>141694</th>\n",
       "      <td>\"thank you for experimenting with  wikipedia. ...</td>\n",
       "      <td>0</td>\n",
       "      <td>thank you for experimenting with wikipedia you...</td>\n",
       "    </tr>\n",
       "    <tr>\n",
       "      <th>142452</th>\n",
       "      <td>fuck off! \\n\\nfuck off!</td>\n",
       "      <td>1</td>\n",
       "      <td>fuck off fuck off</td>\n",
       "    </tr>\n",
       "    <tr>\n",
       "      <th>142974</th>\n",
       "      <td>\"\\n\\n \"\"wikipedia isn't perfect, but its model...</td>\n",
       "      <td>0</td>\n",
       "      <td>wikipedia isn't perfect but its model is sound...</td>\n",
       "    </tr>\n",
       "    <tr>\n",
       "      <th>144086</th>\n",
       "      <td>redirect talk:danish national cycle route network</td>\n",
       "      <td>0</td>\n",
       "      <td>redirect talk danish national cycle route network</td>\n",
       "    </tr>\n",
       "    <tr>\n",
       "      <th>145318</th>\n",
       "      <td>redirect talk:danish national cycle routes</td>\n",
       "      <td>0</td>\n",
       "      <td>redirect talk danish national cycle routes</td>\n",
       "    </tr>\n",
       "    <tr>\n",
       "      <th>147599</th>\n",
       "      <td>nutcase \\n\\nyou're a sick bloody nutcase</td>\n",
       "      <td>1</td>\n",
       "      <td>nutcase you're a sick bloody nutcase</td>\n",
       "    </tr>\n",
       "    <tr>\n",
       "      <th>152752</th>\n",
       "      <td>deletion\\nmy subpage article ''[[user:mjfan9/r...</td>\n",
       "      <td>0</td>\n",
       "      <td>deletion my subpage article '' user mjfan rye ...</td>\n",
       "    </tr>\n",
       "    <tr>\n",
       "      <th>154968</th>\n",
       "      <td>ignore this nut case</td>\n",
       "      <td>1</td>\n",
       "      <td>ignore this nut case</td>\n",
       "    </tr>\n",
       "    <tr>\n",
       "      <th>156714</th>\n",
       "      <td>thank you , and mabuhay! - loretta/</td>\n",
       "      <td>0</td>\n",
       "      <td>thank you and mabuhay loretta</td>\n",
       "    </tr>\n",
       "  </tbody>\n",
       "</table>\n",
       "</div>"
      ],
      "text/plain": [
       "                                                     text  toxic  \\\n",
       "13527                             user:abd is muslim scum      1   \n",
       "29610                         \"\\n\\n unblock request \\n\\n\"      0   \n",
       "32823                   please do not vandalise wikipedia      0   \n",
       "40899            you better fuck off \\n\\nruddy shit fuck!      1   \n",
       "51066                             user:abd is muslim scum      1   \n",
       "53169                         |class=list |importance=low      0   \n",
       "58350   welcome!\\nhello, , and welcome to wikipedia! w...      0   \n",
       "63776   hey \\n\\nhey faggot, are you dead yet? or are y...      1   \n",
       "64070               std\\n\\ncan this be considered an std?      0   \n",
       "68225   \"thank you for experimenting with  wikipedia. ...      0   \n",
       "73581                              oik oik! \\n\\nur a pig!      1   \n",
       "80272   thanks for experimenting with wikipedia. your ...      0   \n",
       "82167   say hello to urban dictionary http://www.urban...      0   \n",
       "83468                                 request for unblock      0   \n",
       "85254                          what are you talking about      0   \n",
       "85370   hello nawlins \\n\\nwhy do you like to deflower ...      1   \n",
       "86543   ha, all you proved was that you are a major je...      1   \n",
       "86901   i will ki \\n\\nll you and wear your skin like a...      1   \n",
       "89545                                   vandalism warning      0   \n",
       "89667       fried chickens \\n\\nis dat sum fried chickens?      0   \n",
       "92345   wikiproject united states|class=list|importanc...      0   \n",
       "96449                         \"\\n\\n unblock request \\n\\n\"      0   \n",
       "98064   semi-protected edit request on 24 april 2014 \\...      0   \n",
       "100096                               thanks for the info.      0   \n",
       "105178  leave our country. \\n\\nwe don't want you arabs...      1   \n",
       "109193                              fuck you \\n\\nfuck you      1   \n",
       "111535                        what are you talking about?      0   \n",
       "113240  thank you for experimenting with  wikipedia. y...      0   \n",
       "115712  vandalism \\n\\nplease try to refrain from makin...      0   \n",
       "118795  very short and very clear \\n\\nslaves - to gas ...      1   \n",
       "121531                        hola fucker \\n\\nhola fucker      1   \n",
       "134931  \"\\n\\nplease do not add nonsense to wikipedia. ...      0   \n",
       "136359  \"\\n\\n please do not add nonsense to wikipedia ...      0   \n",
       "136417  wikipedia:no personal attacks \\n\\nper this, pl...      0   \n",
       "138163                           (second level warning) >      0   \n",
       "140877  dont you think it is equally bad that muslims ...      0   \n",
       "141694  \"thank you for experimenting with  wikipedia. ...      0   \n",
       "142452                            fuck off! \\n\\nfuck off!      1   \n",
       "142974  \"\\n\\n \"\"wikipedia isn't perfect, but its model...      0   \n",
       "144086  redirect talk:danish national cycle route network      0   \n",
       "145318         redirect talk:danish national cycle routes      0   \n",
       "147599           nutcase \\n\\nyou're a sick bloody nutcase      1   \n",
       "152752  deletion\\nmy subpage article ''[[user:mjfan9/r...      0   \n",
       "154968                               ignore this nut case      1   \n",
       "156714                thank you , and mabuhay! - loretta/      0   \n",
       "\n",
       "                                               clean_text  \n",
       "13527                             user abd is muslim scum  \n",
       "29610                                     unblock request  \n",
       "32823                   please do not vandalise wikipedia  \n",
       "40899                 you better fuck off ruddy shit fuck  \n",
       "51066                             user abd is muslim scum  \n",
       "53169                           class list importance low  \n",
       "58350   welcome hello and welcome to wikipedia while e...  \n",
       "63776   hey hey faggot are you dead yet or are you wat...  \n",
       "64070                   std can this be considered an std  \n",
       "68225   thank you for experimenting with wikipedia you...  \n",
       "73581                                    oik oik ur a pig  \n",
       "80272   thanks for experimenting with wikipedia your t...  \n",
       "82167   say hello to urban dictionary http www urbandi...  \n",
       "83468                                 request for unblock  \n",
       "85254                          what are you talking about  \n",
       "85370   hello nawlins why do you like to deflower prep...  \n",
       "86543   ha all you proved was that you are a major jer...  \n",
       "86901     i will ki ll you and wear your skin like a robe  \n",
       "89545                                   vandalism warning  \n",
       "89667            fried chickens is dat sum fried chickens  \n",
       "92345   wikiproject united states class list importanc...  \n",
       "96449                                     unblock request  \n",
       "98064   semi protected edit request on april they are ...  \n",
       "100096                                thanks for the info  \n",
       "105178     leave our country we don't want you arabs here  \n",
       "109193                                  fuck you fuck you  \n",
       "111535                         what are you talking about  \n",
       "113240  thank you for experimenting with wikipedia you...  \n",
       "115712  vandalism please try to refrain from making un...  \n",
       "118795   very short and very clear slaves to gas chambers  \n",
       "121531                            hola fucker hola fucker  \n",
       "134931  please do not add nonsense to wikipedia it is ...  \n",
       "136359  please do not add nonsense to wikipedia as the...  \n",
       "136417  wikipedia no personal attacks per this please ...  \n",
       "138163                               second level warning  \n",
       "140877  dont you think it is equally bad that muslims ...  \n",
       "141694  thank you for experimenting with wikipedia you...  \n",
       "142452                                  fuck off fuck off  \n",
       "142974  wikipedia isn't perfect but its model is sound...  \n",
       "144086  redirect talk danish national cycle route network  \n",
       "145318         redirect talk danish national cycle routes  \n",
       "147599               nutcase you're a sick bloody nutcase  \n",
       "152752  deletion my subpage article '' user mjfan rye ...  \n",
       "154968                               ignore this nut case  \n",
       "156714                      thank you and mabuhay loretta  "
      ]
     },
     "execution_count": 11,
     "metadata": {},
     "output_type": "execute_result"
    }
   ],
   "source": [
    "df[df.duplicated()].head(50)"
   ]
  },
  {
   "cell_type": "markdown",
   "metadata": {},
   "source": [
    "> Поизучал их в итоге решил удалить\n"
   ]
  },
  {
   "cell_type": "code",
   "execution_count": 12,
   "metadata": {},
   "outputs": [],
   "source": [
    "df = df.drop_duplicates()"
   ]
  },
  {
   "cell_type": "markdown",
   "metadata": {},
   "source": [
    "# Добавим немного фич"
   ]
  },
  {
   "cell_type": "code",
   "execution_count": 13,
   "metadata": {},
   "outputs": [],
   "source": [
    "def unique_words(string): # Функция подсчета уникальных слов\n",
    "    return len(set(str(string).split()))"
   ]
  },
  {
   "cell_type": "code",
   "execution_count": 14,
   "metadata": {},
   "outputs": [],
   "source": [
    "df['words_count'] = df['text'].str.count(' ') + 1 # добавим количество слов\n",
    "df['char_count'] = df['text'].str.len() # добавим длину строки\n",
    "df['words_unique_count'] = df['text'].apply(unique_words) # unique строки"
   ]
  },
  {
   "cell_type": "markdown",
   "metadata": {},
   "source": [
    "# Сделаем семпл нашего датасета"
   ]
  },
  {
   "cell_type": "code",
   "execution_count": 15,
   "metadata": {},
   "outputs": [
    {
     "data": {
      "text/html": [
       "<div>\n",
       "<style scoped>\n",
       "    .dataframe tbody tr th:only-of-type {\n",
       "        vertical-align: middle;\n",
       "    }\n",
       "\n",
       "    .dataframe tbody tr th {\n",
       "        vertical-align: top;\n",
       "    }\n",
       "\n",
       "    .dataframe thead th {\n",
       "        text-align: right;\n",
       "    }\n",
       "</style>\n",
       "<table border=\"1\" class=\"dataframe\">\n",
       "  <thead>\n",
       "    <tr style=\"text-align: right;\">\n",
       "      <th></th>\n",
       "      <th>text</th>\n",
       "      <th>toxic</th>\n",
       "      <th>clean_text</th>\n",
       "      <th>words_count</th>\n",
       "      <th>char_count</th>\n",
       "      <th>words_unique_count</th>\n",
       "    </tr>\n",
       "  </thead>\n",
       "  <tbody>\n",
       "    <tr>\n",
       "      <th>0</th>\n",
       "      <td>explanation\\nwhy the edits made under my usern...</td>\n",
       "      <td>0</td>\n",
       "      <td>explanation why the edits made under my userna...</td>\n",
       "      <td>42</td>\n",
       "      <td>264</td>\n",
       "      <td>41</td>\n",
       "    </tr>\n",
       "    <tr>\n",
       "      <th>1</th>\n",
       "      <td>d'aww! he matches this background colour i'm s...</td>\n",
       "      <td>0</td>\n",
       "      <td>d'aww he matches this background colour i'm se...</td>\n",
       "      <td>18</td>\n",
       "      <td>112</td>\n",
       "      <td>17</td>\n",
       "    </tr>\n",
       "    <tr>\n",
       "      <th>2</th>\n",
       "      <td>hey man, i'm really not trying to edit war. it...</td>\n",
       "      <td>0</td>\n",
       "      <td>hey man i'm really not trying to edit war it's...</td>\n",
       "      <td>42</td>\n",
       "      <td>233</td>\n",
       "      <td>39</td>\n",
       "    </tr>\n",
       "    <tr>\n",
       "      <th>3</th>\n",
       "      <td>\"\\nmore\\ni can't make any real suggestions on ...</td>\n",
       "      <td>0</td>\n",
       "      <td>more i can't make any real suggestions on impr...</td>\n",
       "      <td>112</td>\n",
       "      <td>622</td>\n",
       "      <td>81</td>\n",
       "    </tr>\n",
       "    <tr>\n",
       "      <th>4</th>\n",
       "      <td>you, sir, are my hero. any chance you remember...</td>\n",
       "      <td>0</td>\n",
       "      <td>you sir are my hero any chance you remember wh...</td>\n",
       "      <td>13</td>\n",
       "      <td>67</td>\n",
       "      <td>13</td>\n",
       "    </tr>\n",
       "  </tbody>\n",
       "</table>\n",
       "</div>"
      ],
      "text/plain": [
       "                                                text  toxic  \\\n",
       "0  explanation\\nwhy the edits made under my usern...      0   \n",
       "1  d'aww! he matches this background colour i'm s...      0   \n",
       "2  hey man, i'm really not trying to edit war. it...      0   \n",
       "3  \"\\nmore\\ni can't make any real suggestions on ...      0   \n",
       "4  you, sir, are my hero. any chance you remember...      0   \n",
       "\n",
       "                                          clean_text  words_count  char_count  \\\n",
       "0  explanation why the edits made under my userna...           42         264   \n",
       "1  d'aww he matches this background colour i'm se...           18         112   \n",
       "2  hey man i'm really not trying to edit war it's...           42         233   \n",
       "3  more i can't make any real suggestions on impr...          112         622   \n",
       "4  you sir are my hero any chance you remember wh...           13          67   \n",
       "\n",
       "   words_unique_count  \n",
       "0                  41  \n",
       "1                  17  \n",
       "2                  39  \n",
       "3                  81  \n",
       "4                  13  "
      ]
     },
     "execution_count": 15,
     "metadata": {},
     "output_type": "execute_result"
    }
   ],
   "source": [
    "df.head()"
   ]
  },
  {
   "cell_type": "code",
   "execution_count": 16,
   "metadata": {},
   "outputs": [
    {
     "data": {
      "text/plain": [
       "<AxesSubplot:>"
      ]
     },
     "execution_count": 16,
     "metadata": {},
     "output_type": "execute_result"
    },
    {
     "data": {
      "image/png": "[encoded data removed]",
      "text/plain": [
       "<Figure size 1000x500 with 1 Axes>"
      ]
     },
     "metadata": {},
     "output_type": "display_data"
    }
   ],
   "source": [
    "sample_size = 1000\n",
    "corpus = df.sample(n=sample_size,random_state=RS).reset_index(drop=True)\n",
    "\n",
    "corpus['toxic'].value_counts().plot(kind='bar', figsize=(10, 5))"
   ]
  },
  {
   "cell_type": "markdown",
   "metadata": {},
   "source": [
    "# Делаем Лематизацию текста"
   ]
  },
  {
   "cell_type": "code",
   "execution_count": 17,
   "metadata": {},
   "outputs": [
    {
     "data": {
      "text/plain": [
       "'def lemmatize_sentence(text): # Преобразуем текст\\n    lemmas = m.lemmatize(text)\\n    my_counter()\\n    return \"\".join(lemmas).strip()'"
      ]
     },
     "execution_count": 17,
     "metadata": {},
     "output_type": "execute_result"
    }
   ],
   "source": [
    "from pymystem3 import Mystem\n",
    "m = Mystem()\n",
    "\n",
    "def my_counter(): #для того что бы понимать где он щас считает от общего количества строк их 5к\n",
    "    my_counter.counter += 1\n",
    "    print(my_counter.counter)\n",
    "\n",
    "my_counter.counter = 0\n"
   ]
  },
  {
   "cell_type": "code",
   "execution_count": 18,
   "metadata": {},
   "outputs": [
    {
     "data": {
      "text/plain": [
       "True"
      ]
     },
     "execution_count": 18,
     "metadata": {},
     "output_type": "execute_result"
    }
   ],
   "source": [
    "import nltk\n",
    "nltk.download('averaged_perceptron_tagger')\n",
    "nltk.download('punkt')\n",
    "nltk.download('wordnet')\n",
    "nltk.download('omw-1.4')"
   ]
  },
  {
   "cell_type": "code",
   "execution_count": 19,
   "metadata": {},
   "outputs": [],
   "source": [
    "# Lemmatize with POS Tag\n",
    "from nltk.corpus import wordnet\n",
    "from nltk.stem import WordNetLemmatizer \n",
    "\n",
    "lemmatizer = WordNetLemmatizer()\n",
    "\n",
    "def get_wordnet_pos(word):\n",
    "    \"\"\"Map POS tag to first character lemmatize() accepts\"\"\"\n",
    "    tag = nltk.pos_tag([word])[0][1][0].upper()\n",
    "    tag_dict = {\"J\": wordnet.ADJ,\n",
    "                \"N\": wordnet.NOUN,\n",
    "                \"V\": wordnet.VERB,\n",
    "                \"R\": wordnet.ADV}\n",
    "    return tag_dict.get(tag, wordnet.NOUN)\n",
    "\n",
    "def lemmatize_sentence(text):\n",
    "    \n",
    "    lemmas = [lemmatizer.lemmatize(w, get_wordnet_pos(w)) for w in nltk.word_tokenize(text)]\n",
    "    \n",
    "    my_counter()\n",
    "    \n",
    "    return \" \".join(lemmas).strip()\n"
   ]
  },
  {
   "cell_type": "code",
   "execution_count": 20,
   "metadata": {},
   "outputs": [],
   "source": [
    "%%time\n",
    "\n",
    "corpus['lemmatize'] = corpus['clean_text'].apply(lemmatize_sentence)"
   ]
  },
  {
   "cell_type": "code",
   "execution_count": 21,
   "metadata": {},
   "outputs": [
    {
     "data": {
      "text/html": [
       "<div>\n",
       "<style scoped>\n",
       "    .dataframe tbody tr th:only-of-type {\n",
       "        vertical-align: middle;\n",
       "    }\n",
       "\n",
       "    .dataframe tbody tr th {\n",
       "        vertical-align: top;\n",
       "    }\n",
       "\n",
       "    .dataframe thead th {\n",
       "        text-align: right;\n",
       "    }\n",
       "</style>\n",
       "<table border=\"1\" class=\"dataframe\">\n",
       "  <thead>\n",
       "    <tr style=\"text-align: right;\">\n",
       "      <th></th>\n",
       "      <th>text</th>\n",
       "      <th>toxic</th>\n",
       "      <th>clean_text</th>\n",
       "      <th>words_count</th>\n",
       "      <th>char_count</th>\n",
       "      <th>words_unique_count</th>\n",
       "      <th>lemmatize</th>\n",
       "    </tr>\n",
       "  </thead>\n",
       "  <tbody>\n",
       "    <tr>\n",
       "      <th>0</th>\n",
       "      <td>\"\\n\\n this guy is guilty of paying $160k for w...</td>\n",
       "      <td>0</td>\n",
       "      <td>this guy is guilty of paying k for work that r...</td>\n",
       "      <td>153</td>\n",
       "      <td>896</td>\n",
       "      <td>104</td>\n",
       "      <td>this guy be guilty of pay k for work that reas...</td>\n",
       "    </tr>\n",
       "    <tr>\n",
       "      <th>1</th>\n",
       "      <td>admins screw off \\n\\nscrew off you fucking ret...</td>\n",
       "      <td>1</td>\n",
       "      <td>admins screw off screw off you fucking retarde...</td>\n",
       "      <td>9</td>\n",
       "      <td>58</td>\n",
       "      <td>7</td>\n",
       "      <td>admins screw off screw off you fuck retard admin</td>\n",
       "    </tr>\n",
       "    <tr>\n",
       "      <th>2</th>\n",
       "      <td>\"\\n\\n slightly toned down \\ni have slightly to...</td>\n",
       "      <td>0</td>\n",
       "      <td>slightly toned down i have slightly toned down...</td>\n",
       "      <td>62</td>\n",
       "      <td>373</td>\n",
       "      <td>50</td>\n",
       "      <td>slightly tone down i have slightly tone down t...</td>\n",
       "    </tr>\n",
       "    <tr>\n",
       "      <th>3</th>\n",
       "      <td>screw you  \\nstop deleting my images u fag.</td>\n",
       "      <td>1</td>\n",
       "      <td>screw you stop deleting my images u fag</td>\n",
       "      <td>9</td>\n",
       "      <td>42</td>\n",
       "      <td>8</td>\n",
       "      <td>screw you stop delete my image u fag</td>\n",
       "    </tr>\n",
       "    <tr>\n",
       "      <th>4</th>\n",
       "      <td>re: backlinks \\n\\nthe backlinks to the list ar...</td>\n",
       "      <td>0</td>\n",
       "      <td>re backlinks the backlinks to the list are nee...</td>\n",
       "      <td>65</td>\n",
       "      <td>359</td>\n",
       "      <td>52</td>\n",
       "      <td>re backlinks the backlinks to the list be need...</td>\n",
       "    </tr>\n",
       "  </tbody>\n",
       "</table>\n",
       "</div>"
      ],
      "text/plain": [
       "                                                text  toxic  \\\n",
       "0  \"\\n\\n this guy is guilty of paying $160k for w...      0   \n",
       "1  admins screw off \\n\\nscrew off you fucking ret...      1   \n",
       "2  \"\\n\\n slightly toned down \\ni have slightly to...      0   \n",
       "3        screw you  \\nstop deleting my images u fag.      1   \n",
       "4  re: backlinks \\n\\nthe backlinks to the list ar...      0   \n",
       "\n",
       "                                          clean_text  words_count  char_count  \\\n",
       "0  this guy is guilty of paying k for work that r...          153         896   \n",
       "1  admins screw off screw off you fucking retarde...            9          58   \n",
       "2  slightly toned down i have slightly toned down...           62         373   \n",
       "3            screw you stop deleting my images u fag            9          42   \n",
       "4  re backlinks the backlinks to the list are nee...           65         359   \n",
       "\n",
       "   words_unique_count                                          lemmatize  \n",
       "0                 104  this guy be guilty of pay k for work that reas...  \n",
       "1                   7   admins screw off screw off you fuck retard admin  \n",
       "2                  50  slightly tone down i have slightly tone down t...  \n",
       "3                   8               screw you stop delete my image u fag  \n",
       "4                  52  re backlinks the backlinks to the list be need...  "
      ]
     },
     "execution_count": 21,
     "metadata": {},
     "output_type": "execute_result"
    }
   ],
   "source": [
    "corpus.head()"
   ]
  },
  {
   "cell_type": "code",
   "execution_count": 24,
   "metadata": {},
   "outputs": [
    {
     "data": {
      "text/html": [
       "<div>\n",
       "<style scoped>\n",
       "    .dataframe tbody tr th:only-of-type {\n",
       "        vertical-align: middle;\n",
       "    }\n",
       "\n",
       "    .dataframe tbody tr th {\n",
       "        vertical-align: top;\n",
       "    }\n",
       "\n",
       "    .dataframe thead th {\n",
       "        text-align: right;\n",
       "    }\n",
       "</style>\n",
       "<table border=\"1\" class=\"dataframe\">\n",
       "  <thead>\n",
       "    <tr style=\"text-align: right;\">\n",
       "      <th></th>\n",
       "      <th>Unnamed: 0</th>\n",
       "      <th>toxic</th>\n",
       "      <th>words_count</th>\n",
       "      <th>char_count</th>\n",
       "      <th>words_unique_count</th>\n",
       "      <th>lemmatize</th>\n",
       "    </tr>\n",
       "  </thead>\n",
       "  <tbody>\n",
       "    <tr>\n",
       "      <th>0</th>\n",
       "      <td>0</td>\n",
       "      <td>0</td>\n",
       "      <td>153</td>\n",
       "      <td>896</td>\n",
       "      <td>104</td>\n",
       "      <td>\"\\n\\n this guy is guilty of paying $160k for w...</td>\n",
       "    </tr>\n",
       "    <tr>\n",
       "      <th>1</th>\n",
       "      <td>1</td>\n",
       "      <td>1</td>\n",
       "      <td>9</td>\n",
       "      <td>58</td>\n",
       "      <td>7</td>\n",
       "      <td>admins screw off \\n\\nscrew off you fucking ret...</td>\n",
       "    </tr>\n",
       "    <tr>\n",
       "      <th>2</th>\n",
       "      <td>2</td>\n",
       "      <td>0</td>\n",
       "      <td>62</td>\n",
       "      <td>373</td>\n",
       "      <td>50</td>\n",
       "      <td>\"\\n\\n slightly toned down \\ni have slightly to...</td>\n",
       "    </tr>\n",
       "    <tr>\n",
       "      <th>3</th>\n",
       "      <td>3</td>\n",
       "      <td>1</td>\n",
       "      <td>9</td>\n",
       "      <td>42</td>\n",
       "      <td>8</td>\n",
       "      <td>screw you  \\nstop deleting my images u fag.</td>\n",
       "    </tr>\n",
       "    <tr>\n",
       "      <th>4</th>\n",
       "      <td>4</td>\n",
       "      <td>0</td>\n",
       "      <td>65</td>\n",
       "      <td>359</td>\n",
       "      <td>52</td>\n",
       "      <td>re: backlinks \\n\\nthe backlinks to the list ar...</td>\n",
       "    </tr>\n",
       "  </tbody>\n",
       "</table>\n",
       "</div>"
      ],
      "text/plain": [
       "   Unnamed: 0  toxic  words_count  char_count  words_unique_count  \\\n",
       "0           0      0          153         896                 104   \n",
       "1           1      1            9          58                   7   \n",
       "2           2      0           62         373                  50   \n",
       "3           3      1            9          42                   8   \n",
       "4           4      0           65         359                  52   \n",
       "\n",
       "                                           lemmatize  \n",
       "0  \"\\n\\n this guy is guilty of paying $160k for w...  \n",
       "1  admins screw off \\n\\nscrew off you fucking ret...  \n",
       "2  \"\\n\\n slightly toned down \\ni have slightly to...  \n",
       "3        screw you  \\nstop deleting my images u fag.  \n",
       "4  re: backlinks \\n\\nthe backlinks to the list ar...  "
      ]
     },
     "execution_count": 24,
     "metadata": {},
     "output_type": "execute_result"
    }
   ],
   "source": [
    "corpus.head()"
   ]
  },
  {
   "cell_type": "markdown",
   "metadata": {},
   "source": [
    "# Разабьем выборки"
   ]
  },
  {
   "cell_type": "markdown",
   "metadata": {},
   "source": [
    "> На train_corpus будем обучать модели на test_corpus проверять их"
   ]
  },
  {
   "cell_type": "code",
   "execution_count": 26,
   "metadata": {},
   "outputs": [],
   "source": [
    "train_corpus,test_corpus = train_test_split(corpus, test_size=0.2, random_state =RS, stratify = corpus['toxic'])"
   ]
  },
  {
   "cell_type": "markdown",
   "metadata": {},
   "source": [
    "# TF - IDF\n",
    "\n",
    ">выполним векторизацию слов методом TfidfVectorize\n"
   ]
  },
  {
   "cell_type": "code",
   "execution_count": 27,
   "metadata": {},
   "outputs": [],
   "source": [
    "columns = ['words_count', 'char_count', 'words_unique_count', 'lemmatize']\n",
    "\n",
    "Vectorizer = TfidfVectorizer(stop_words = stop_words)\n",
    "\n",
    "# сделем fit на тренировочной выборке\n",
    "fit_train = Vectorizer.fit(train_corpus['lemmatize'])\n",
    "\n",
    "# сделем transform на тренировочной и тестовой выборке\n",
    "df_train = fit_train.transform(train_corpus['lemmatize'])\n",
    "df_test = fit_train.transform(test_corpus['lemmatize'])\n",
    "\n",
    "print(f\"Размер матрицы train = {df_train.shape} Размер матрицы test = {df_test.shape}\")"
   ]
  },
  {
   "cell_type": "code",
   "execution_count": 28,
   "metadata": {},
   "outputs": [],
   "source": [
    "features_train = df_train\n",
    "target_train = train_corpus['toxic'].values\n",
    "\n",
    "features_test = df_test\n",
    "target_test = test_corpus['toxic'].values"
   ]
  },
  {
   "cell_type": "markdown",
   "metadata": {},
   "source": [
    "# Добавим функию вывода результатов обучения"
   ]
  },
  {
   "cell_type": "markdown",
   "metadata": {},
   "source": [
    "> Она будет получает название модели f1 и за сколько обучилась"
   ]
  },
  {
   "cell_type": "code",
   "execution_count": 29,
   "metadata": {},
   "outputs": [
    {
     "data": {
      "text/html": [
       "<div>\n",
       "<style scoped>\n",
       "    .dataframe tbody tr th:only-of-type {\n",
       "        vertical-align: middle;\n",
       "    }\n",
       "\n",
       "    .dataframe tbody tr th {\n",
       "        vertical-align: top;\n",
       "    }\n",
       "\n",
       "    .dataframe thead th {\n",
       "        text-align: right;\n",
       "    }\n",
       "</style>\n",
       "<table border=\"1\" class=\"dataframe\">\n",
       "  <thead>\n",
       "    <tr style=\"text-align: right;\">\n",
       "      <th></th>\n",
       "      <th>F1_predict_valid</th>\n",
       "    </tr>\n",
       "  </thead>\n",
       "  <tbody>\n",
       "  </tbody>\n",
       "</table>\n",
       "</div>"
      ],
      "text/plain": [
       "Empty DataFrame\n",
       "Columns: [F1_predict_valid]\n",
       "Index: []"
      ]
     },
     "execution_count": 29,
     "metadata": {},
     "output_type": "execute_result"
    }
   ],
   "source": [
    "result_df = pd.DataFrame(columns=['F1_predict_valid'])\n",
    "result_df"
   ]
  },
  {
   "cell_type": "code",
   "execution_count": 30,
   "metadata": {},
   "outputs": [],
   "source": [
    "def result_write(model_name,f1):\n",
    "    result_df.loc[model_name,'F1_predict_valid'] = f1\n",
    "    return result_df"
   ]
  },
  {
   "cell_type": "markdown",
   "metadata": {},
   "source": [
    "> Сделаем оценку f1"
   ]
  },
  {
   "cell_type": "markdown",
   "metadata": {},
   "source": [
    "# Попробуем векторизировать наши выборки"
   ]
  },
  {
   "cell_type": "code",
   "execution_count": 32,
   "metadata": {},
   "outputs": [],
   "source": [
    "vect = CountVectorizer(ngram_range=(2, 4), stop_words=stop_words)"
   ]
  },
  {
   "cell_type": "code",
   "execution_count": 33,
   "metadata": {},
   "outputs": [],
   "source": [
    "# делаем fit на обучаеющей выборке\n",
    "n_gramm_train = vect.fit(train_corpus['lemmatize'])\n",
    "\n",
    "# делаем трансформ обучающей и тестовой выборки\n",
    "n_gramm_train = vect.transform(train_corpus['lemmatize'])\n",
    "n_gramm_test = vect.transform(test_corpus['lemmatize'])\n",
    "\n",
    "# проверим размерность\n",
    "print(f\"Размер train: {n_gramm_train.shape} Размер test: {n_gramm_test.shape}\")"
   ]
  },
  {
   "cell_type": "code",
   "execution_count": 34,
   "metadata": {},
   "outputs": [],
   "source": [
    "criterion = ['squared_error','absolute_error','poisson']\n",
    "\n",
    "splitter = ['best','random']\n",
    "\n",
    "# Number of trees used in the boosting process\n",
    "n_estimators = [5, 10, 20, 30, 40, 50, 60, 70, 90, 100]\n",
    "\n",
    "# Maximum depth of each tree\n",
    "max_depth = [7, 10, 15, 20]\n",
    "\n",
    "# Maximum depth of each tree\n",
    "depth = [7, 10, 15, 20]\n",
    "\n",
    "# Minimum number of samples per leaf\n",
    "min_samples_leaf = [1 ,4, 6, 8]\n",
    "\n",
    "# Minimum number of samples to split a node\n",
    "min_samples_split = [2, 6, 10, 16]\n",
    "\n",
    "# Maximum number of features to consider for making splits\n",
    "max_features = [ 'sqrt', 'log2', None]\n",
    "\n",
    "boosting_type = ['gbdt', 'dart', 'goss']\n",
    "\n",
    "iterations = [ 20, 30, 40, 50, 60]\n",
    "\n",
    "learning_rate = np.logspace(-3, 0, 5)\n",
    "\n",
    "num_leaves = [20, 40, 60]\n",
    "\n",
    "class_weight = ['balanced']\n",
    "\n",
    "C = np.linspace(0.01, 500, 5)\n",
    "\n"
   ]
  },
  {
   "cell_type": "code",
   "execution_count": 35,
   "metadata": {},
   "outputs": [],
   "source": [
    "def Search(hyperparameter_grid, model, train, target):\n",
    "    random_cv = RandomizedSearchCV(estimator=model,\n",
    "                                   param_distributions=hyperparameter_grid,\n",
    "                                   n_iter=25,\n",
    "                                   scoring = 'f1',\n",
    "                                   n_jobs = -1,\n",
    "                                   verbose = 1,\n",
    "                                   return_train_score = True,\n",
    "                                   random_state=RS).fit(train,\n",
    "                                                        target)\n",
    "\n",
    "    return random_cv.best_estimator_ , random_cv.best_score_"
   ]
  },
  {
   "cell_type": "markdown",
   "metadata": {},
   "source": [
    "# Настало время обучить модельки"
   ]
  },
  {
   "cell_type": "markdown",
   "metadata": {},
   "source": [
    "### Logistic_Regression"
   ]
  },
  {
   "cell_type": "code",
   "execution_count": 36,
   "metadata": {},
   "outputs": [],
   "source": [
    "from sklearn.linear_model import LogisticRegression\n",
    "\n",
    "hyperparameter_grid = {\n",
    "    'class_weight': class_weight,\n",
    "    'C': C\n",
    "}\n",
    "\n",
    "model = LogisticRegression()\n",
    "\n",
    "Logistic_Regression, f1_score_Logistic_Regression = Search(hyperparameter_grid,\n",
    "                                                           model,\n",
    "                                                           n_gramm_train,\n",
    "                                                           train_corpus['toxic'])"
   ]
  },
  {
   "cell_type": "markdown",
   "metadata": {},
   "source": [
    "> Гиперпараметры нашли, время замерить время обучения и обучить модель"
   ]
  },
  {
   "cell_type": "markdown",
   "metadata": {},
   "source": [
    "> Запишем результаты"
   ]
  },
  {
   "cell_type": "code",
   "execution_count": 37,
   "metadata": {},
   "outputs": [
    {
     "data": {
      "text/html": [
       "<div>\n",
       "<style scoped>\n",
       "    .dataframe tbody tr th:only-of-type {\n",
       "        vertical-align: middle;\n",
       "    }\n",
       "\n",
       "    .dataframe tbody tr th {\n",
       "        vertical-align: top;\n",
       "    }\n",
       "\n",
       "    .dataframe thead th {\n",
       "        text-align: right;\n",
       "    }\n",
       "</style>\n",
       "<table border=\"1\" class=\"dataframe\">\n",
       "  <thead>\n",
       "    <tr style=\"text-align: right;\">\n",
       "      <th></th>\n",
       "      <th>F1_predict_valid</th>\n",
       "    </tr>\n",
       "  </thead>\n",
       "  <tbody>\n",
       "    <tr>\n",
       "      <th>CountVectorizer + Logistic_Regression</th>\n",
       "      <td>0.179605</td>\n",
       "    </tr>\n",
       "  </tbody>\n",
       "</table>\n",
       "</div>"
      ],
      "text/plain": [
       "                                      F1_predict_valid\n",
       "CountVectorizer + Logistic_Regression         0.179605"
      ]
     },
     "execution_count": 37,
     "metadata": {},
     "output_type": "execute_result"
    }
   ],
   "source": [
    "result_write(\n",
    "    'CountVectorizer + Logistic_Regression',\n",
    "    f1_score_Logistic_Regression\n",
    ")"
   ]
  },
  {
   "cell_type": "markdown",
   "metadata": {},
   "source": [
    "### DummyClassifier"
   ]
  },
  {
   "cell_type": "code",
   "execution_count": 38,
   "metadata": {},
   "outputs": [],
   "source": [
    "start = time.time()\n",
    "Dummy_Classifier = DummyClassifier(\n",
    "    random_state=RS\n",
    ").fit(\n",
    "    features_train,\n",
    "    target_train\n",
    ")\n",
    "end = time.time()\n",
    "time_fit = end - start"
   ]
  },
  {
   "cell_type": "markdown",
   "metadata": {},
   "source": [
    "> Запишем результаты"
   ]
  },
  {
   "cell_type": "code",
   "execution_count": 39,
   "metadata": {},
   "outputs": [
    {
     "data": {
      "text/html": [
       "<div>\n",
       "<style scoped>\n",
       "    .dataframe tbody tr th:only-of-type {\n",
       "        vertical-align: middle;\n",
       "    }\n",
       "\n",
       "    .dataframe tbody tr th {\n",
       "        vertical-align: top;\n",
       "    }\n",
       "\n",
       "    .dataframe thead th {\n",
       "        text-align: right;\n",
       "    }\n",
       "</style>\n",
       "<table border=\"1\" class=\"dataframe\">\n",
       "  <thead>\n",
       "    <tr style=\"text-align: right;\">\n",
       "      <th></th>\n",
       "      <th>F1_predict_valid</th>\n",
       "    </tr>\n",
       "  </thead>\n",
       "  <tbody>\n",
       "    <tr>\n",
       "      <th>CountVectorizer + Logistic_Regression</th>\n",
       "      <td>0.179605</td>\n",
       "    </tr>\n",
       "    <tr>\n",
       "      <th>TF-IDF + DummyClassifier</th>\n",
       "      <td>0.0</td>\n",
       "    </tr>\n",
       "  </tbody>\n",
       "</table>\n",
       "</div>"
      ],
      "text/plain": [
       "                                      F1_predict_valid\n",
       "CountVectorizer + Logistic_Regression         0.179605\n",
       "TF-IDF + DummyClassifier                           0.0"
      ]
     },
     "execution_count": 39,
     "metadata": {},
     "output_type": "execute_result"
    }
   ],
   "source": [
    "result_write(\n",
    "    'TF-IDF + DummyClassifier',\n",
    "    f1_score(Dummy_Classifier.predict(features_train),target_train),\n",
    ")"
   ]
  },
  {
   "cell_type": "markdown",
   "metadata": {},
   "source": [
    "### RandomForestClassifier"
   ]
  },
  {
   "cell_type": "code",
   "execution_count": 40,
   "metadata": {},
   "outputs": [],
   "source": [
    "hyperparameter_grid = {'class_weight': class_weight,\n",
    "                       'n_estimators': n_estimators,\n",
    "                       'max_depth': max_depth}\n",
    "\n",
    "\n",
    "model = RandomForestClassifier(random_state = RS)\n",
    "\n",
    "\n",
    "Random_Forest_Classifier, f1_score_Random_Forest_Classifier = Search(hyperparameter_grid,\n",
    "                                                                     model,\n",
    "                                                                     features_train,\n",
    "                                                                     target_train)"
   ]
  },
  {
   "cell_type": "markdown",
   "metadata": {},
   "source": [
    "> Обучим модель и запишем результаты"
   ]
  },
  {
   "cell_type": "code",
   "execution_count": null,
   "outputs": [],
   "source": [
    "start = time.time()\n",
    "\n",
    "Random_Forest_Classifier = RandomForestClassifier(\n",
    "    **random_cv.best_params_,\n",
    "    random_state = RS\n",
    ").fit(\n",
    "    features_train,\n",
    "    target_train\n",
    ")\n",
    "\n",
    "end = time.time()\n",
    "\n",
    "time_fit = end - start"
   ],
   "metadata": {
    "collapsed": false
   }
  },
  {
   "cell_type": "code",
   "execution_count": 41,
   "metadata": {},
   "outputs": [
    {
     "data": {
      "text/html": [
       "<div>\n",
       "<style scoped>\n",
       "    .dataframe tbody tr th:only-of-type {\n",
       "        vertical-align: middle;\n",
       "    }\n",
       "\n",
       "    .dataframe tbody tr th {\n",
       "        vertical-align: top;\n",
       "    }\n",
       "\n",
       "    .dataframe thead th {\n",
       "        text-align: right;\n",
       "    }\n",
       "</style>\n",
       "<table border=\"1\" class=\"dataframe\">\n",
       "  <thead>\n",
       "    <tr style=\"text-align: right;\">\n",
       "      <th></th>\n",
       "      <th>F1_predict_valid</th>\n",
       "    </tr>\n",
       "  </thead>\n",
       "  <tbody>\n",
       "    <tr>\n",
       "      <th>CountVectorizer + Logistic_Regression</th>\n",
       "      <td>0.179605</td>\n",
       "    </tr>\n",
       "    <tr>\n",
       "      <th>TF-IDF + DummyClassifier</th>\n",
       "      <td>0.0</td>\n",
       "    </tr>\n",
       "    <tr>\n",
       "      <th>TF-IDF + Random_Forest_Classifier</th>\n",
       "      <td>0.485068</td>\n",
       "    </tr>\n",
       "  </tbody>\n",
       "</table>\n",
       "</div>"
      ],
      "text/plain": [
       "                                      F1_predict_valid\n",
       "CountVectorizer + Logistic_Regression         0.179605\n",
       "TF-IDF + DummyClassifier                           0.0\n",
       "TF-IDF + Random_Forest_Classifier             0.485068"
      ]
     },
     "execution_count": 41,
     "metadata": {},
     "output_type": "execute_result"
    }
   ],
   "source": [
    "result_write(\n",
    "    'TF-IDF + Random_Forest_Classifier',\n",
    "    f1_score_Random_Forest_Classifier,\n",
    ")"
   ]
  },
  {
   "cell_type": "markdown",
   "metadata": {},
   "source": [
    "### CatBoostClassifier"
   ]
  },
  {
   "cell_type": "code",
   "execution_count": 42,
   "metadata": {},
   "outputs": [],
   "source": [
    "Cat_Boost_Classifier = CatBoostClassifier(\n",
    "    random_state = RS,\n",
    "    text_features = ['lemmatize'],\n",
    "    eval_metric = 'F1',\n",
    "    iterations = 100,\n",
    "    learning_rate = 0.2,\n",
    "    auto_class_weights = 'Balanced'\n",
    ")"
   ]
  },
  {
   "cell_type": "markdown",
   "metadata": {},
   "source": [
    "> Обучим модель"
   ]
  },
  {
   "cell_type": "code",
   "execution_count": 43,
   "metadata": {},
   "outputs": [
    {
     "data": {
      "application/vnd.jupyter.widget-view+json": {
       "model_id": "837857b9d759490a8b7bab457c80cc1e",
       "version_major": 2,
       "version_minor": 0
      },
      "text/plain": [
       "MetricVisualizer(layout=Layout(align_self='stretch', height='500px'))"
      ]
     },
     "metadata": {},
     "output_type": "display_data"
    }
   ],
   "source": [
    "start = time.time()\n",
    "Cat_Boost_Classifier.fit(\n",
    "    train_corpus[columns],\n",
    "    train_corpus['toxic'],\n",
    "    eval_set=(\n",
    "        test_corpus[columns],\n",
    "        test_corpus['toxic']\n",
    "    ),\n",
    "    plot=True\n",
    ")\n",
    "end = time.time()\n",
    "time_fit = end - start"
   ]
  },
  {
   "cell_type": "markdown",
   "metadata": {},
   "source": [
    "> Запишем результаты"
   ]
  },
  {
   "cell_type": "code",
   "execution_count": 44,
   "metadata": {},
   "outputs": [
    {
     "data": {
      "text/html": [
       "<div>\n",
       "<style scoped>\n",
       "    .dataframe tbody tr th:only-of-type {\n",
       "        vertical-align: middle;\n",
       "    }\n",
       "\n",
       "    .dataframe tbody tr th {\n",
       "        vertical-align: top;\n",
       "    }\n",
       "\n",
       "    .dataframe thead th {\n",
       "        text-align: right;\n",
       "    }\n",
       "</style>\n",
       "<table border=\"1\" class=\"dataframe\">\n",
       "  <thead>\n",
       "    <tr style=\"text-align: right;\">\n",
       "      <th></th>\n",
       "      <th>F1_predict_valid</th>\n",
       "    </tr>\n",
       "  </thead>\n",
       "  <tbody>\n",
       "    <tr>\n",
       "      <th>CountVectorizer + Logistic_Regression</th>\n",
       "      <td>0.179605</td>\n",
       "    </tr>\n",
       "    <tr>\n",
       "      <th>TF-IDF + DummyClassifier</th>\n",
       "      <td>0.0</td>\n",
       "    </tr>\n",
       "    <tr>\n",
       "      <th>TF-IDF + Random_Forest_Classifier</th>\n",
       "      <td>0.485068</td>\n",
       "    </tr>\n",
       "    <tr>\n",
       "      <th>TF-IDF+Catboost</th>\n",
       "      <td>0.758487</td>\n",
       "    </tr>\n",
       "  </tbody>\n",
       "</table>\n",
       "</div>"
      ],
      "text/plain": [
       "                                      F1_predict_valid\n",
       "CountVectorizer + Logistic_Regression         0.179605\n",
       "TF-IDF + DummyClassifier                           0.0\n",
       "TF-IDF + Random_Forest_Classifier             0.485068\n",
       "TF-IDF+Catboost                               0.758487"
      ]
     },
     "execution_count": 44,
     "metadata": {},
     "output_type": "execute_result"
    }
   ],
   "source": [
    "result_write(\n",
    "    'TF-IDF+Catboost',\n",
    "    f1_score(Cat_Boost_Classifier.predict(train_corpus[columns]),train_corpus['toxic'])\n",
    ")"
   ]
  },
  {
   "cell_type": "markdown",
   "metadata": {},
   "source": [
    "# Результаты обучения"
   ]
  },
  {
   "cell_type": "code",
   "execution_count": 45,
   "metadata": {},
   "outputs": [
    {
     "data": {
      "text/html": [
       "<div>\n",
       "<style scoped>\n",
       "    .dataframe tbody tr th:only-of-type {\n",
       "        vertical-align: middle;\n",
       "    }\n",
       "\n",
       "    .dataframe tbody tr th {\n",
       "        vertical-align: top;\n",
       "    }\n",
       "\n",
       "    .dataframe thead th {\n",
       "        text-align: right;\n",
       "    }\n",
       "</style>\n",
       "<table border=\"1\" class=\"dataframe\">\n",
       "  <thead>\n",
       "    <tr style=\"text-align: right;\">\n",
       "      <th></th>\n",
       "      <th>F1_predict_valid</th>\n",
       "    </tr>\n",
       "  </thead>\n",
       "  <tbody>\n",
       "    <tr>\n",
       "      <th>CountVectorizer + Logistic_Regression</th>\n",
       "      <td>0.179605</td>\n",
       "    </tr>\n",
       "    <tr>\n",
       "      <th>TF-IDF + DummyClassifier</th>\n",
       "      <td>0.0</td>\n",
       "    </tr>\n",
       "    <tr>\n",
       "      <th>TF-IDF + Random_Forest_Classifier</th>\n",
       "      <td>0.485068</td>\n",
       "    </tr>\n",
       "    <tr>\n",
       "      <th>TF-IDF+Catboost</th>\n",
       "      <td>0.758487</td>\n",
       "    </tr>\n",
       "  </tbody>\n",
       "</table>\n",
       "</div>"
      ],
      "text/plain": [
       "                                      F1_predict_valid\n",
       "CountVectorizer + Logistic_Regression         0.179605\n",
       "TF-IDF + DummyClassifier                           0.0\n",
       "TF-IDF + Random_Forest_Classifier             0.485068\n",
       "TF-IDF+Catboost                               0.758487"
      ]
     },
     "execution_count": 45,
     "metadata": {},
     "output_type": "execute_result"
    }
   ],
   "source": [
    "result_df.head()"
   ]
  },
  {
   "cell_type": "markdown",
   "metadata": {},
   "source": [
    "# Проверка лучшей модели по ROC кривой и считаем для красоты AUC-ROC"
   ]
  },
  {
   "cell_type": "markdown",
   "metadata": {},
   "source": [
    "> На тренировочных данных"
   ]
  },
  {
   "cell_type": "code",
   "execution_count": 46,
   "metadata": {},
   "outputs": [],
   "source": [
    "predicted_train = Cat_Boost_Classifier.predict(train_corpus[columns])\n",
    "predicted_test = Cat_Boost_Classifier.predict(test_corpus[columns])"
   ]
  },
  {
   "cell_type": "code",
   "execution_count": 47,
   "metadata": {},
   "outputs": [
    {
     "data": {
      "image/png": "[encoded data removed]",
      "text/plain": [
       "<Figure size 640x480 with 1 Axes>"
      ]
     },
     "metadata": {},
     "output_type": "display_data"
    }
   ],
   "source": [
    "print(\"Confusion Matrix for valid data:\")\n",
    "print(confusion_matrix(train_corpus['toxic'], predicted_train))\n",
    "print()\n",
    "print(\"Classification Report for valid data:\")\n",
    "print(classification_report(train_corpus['toxic'], predicted_train))\n",
    "\n",
    "# Смотрим отчет и ROC кривую\n",
    "fpr, tpr, thresholds = roc_curve(train_corpus['toxic'], predicted_train)\n",
    "\n",
    "plt.figure()\n",
    "plt.plot(fpr, tpr)\n",
    "plt.plot([0, 1], [0, 1], linestyle='--')\n",
    "plt.xlim([0.0, 1.0])\n",
    "plt.ylim([0.0, 1.0])\n",
    "plt.xlabel('False Positive Rate')\n",
    "plt.ylabel('True Positive Rate')\n",
    "plt.title('ROC-кривая')\n",
    "plt.show()\n",
    "print()\n",
    "print(f'AUC-ROC = {roc_auc_score(train_corpus[\"toxic\"], Cat_Boost_Classifier.predict_proba(train_corpus[columns])[:, 1])}')"
   ]
  },
  {
   "cell_type": "markdown",
   "metadata": {},
   "source": [
    "> На тестовой выборке"
   ]
  },
  {
   "cell_type": "code",
   "execution_count": 48,
   "metadata": {},
   "outputs": [
    {
     "data": {
      "image/png": "[encoded data removed]",
      "text/plain": [
       "<Figure size 640x480 with 1 Axes>"
      ]
     },
     "metadata": {},
     "output_type": "display_data"
    }
   ],
   "source": [
    "print(\"Confusion Matrix for test data:\")\n",
    "print(confusion_matrix(test_corpus['toxic'], predicted_test))\n",
    "print()\n",
    "print(\"Classification Report for test data:\")\n",
    "print(classification_report(test_corpus['toxic'], predicted_test))\n",
    "\n",
    "# Смотрим отчет и ROC кривую\n",
    "fpr, tpr, thresholds = roc_curve(test_corpus['toxic'], predicted_test)\n",
    "\n",
    "plt.figure()\n",
    "plt.plot(fpr, tpr)\n",
    "plt.plot([0, 1], [0, 1], linestyle='--')\n",
    "plt.xlim([0.0, 1.0])\n",
    "plt.ylim([0.0, 1.0])\n",
    "plt.xlabel('False Positive Rate')\n",
    "plt.ylabel('True Positive Rate')\n",
    "plt.title('ROC-кривая')\n",
    "plt.show()\n",
    "print()\n",
    "print()\n",
    "print(f'AUC-ROC = {roc_auc_score(test_corpus[\"toxic\"], Cat_Boost_Classifier.predict_proba(test_corpus[columns])[:, 1])}')"
   ]
  },
  {
   "cell_type": "markdown",
   "metadata": {},
   "source": [
    "# Отдельно глянем еще CountVectorizer + Logistic_Regression так как у него неплохие показетели были на трейне"
   ]
  },
  {
   "cell_type": "code",
   "execution_count": 49,
   "metadata": {},
   "outputs": [],
   "source": [
    "predicted_train = Logistic_Regression.predict(n_gramm_train)\n",
    "predicted_test = Logistic_Regression.predict(n_gramm_test)"
   ]
  },
  {
   "cell_type": "code",
   "execution_count": 56,
   "metadata": {},
   "outputs": [
    {
     "data": {
      "image/png": "[encoded data removed]",
      "text/plain": [
       "<Figure size 640x480 with 1 Axes>"
      ]
     },
     "metadata": {},
     "output_type": "display_data"
    }
   ],
   "source": [
    "print(\"Confusion Matrix for valid data:\")\n",
    "print(confusion_matrix(train_corpus['toxic'], predicted_train))\n",
    "print()\n",
    "print(\"Classification Report for valid data:\")\n",
    "print(classification_report(train_corpus['toxic'], predicted_train))\n",
    "\n",
    "# Смотрим отчет и ROC кривую\n",
    "fpr, tpr, thresholds = roc_curve(train_corpus['toxic'], predicted_train)\n",
    "\n",
    "plt.figure()\n",
    "plt.plot(fpr, tpr)\n",
    "plt.plot([0, 1], [0, 1], linestyle='--')\n",
    "plt.xlim([0.0, 1.0])\n",
    "plt.ylim([0.0, 1.0])\n",
    "plt.xlabel('False Positive Rate')\n",
    "plt.ylabel('True Positive Rate')\n",
    "plt.title('ROC-кривая')\n",
    "plt.show()\n",
    "print()\n",
    "print(f'AUC-ROC = {roc_auc_score(train_corpus[\"toxic\"], Logistic_Regression.predict_proba(n_gramm_train)[:, 1])}')"
   ]
  },
  {
   "cell_type": "markdown",
   "metadata": {},
   "source": [
    "> Тестовая выборка"
   ]
  },
  {
   "cell_type": "code",
   "execution_count": 52,
   "metadata": {},
   "outputs": [
    {
     "data": {
      "image/png": "[encoded data removed]",
      "text/plain": [
       "<Figure size 640x480 with 1 Axes>"
      ]
     },
     "metadata": {},
     "output_type": "display_data"
    }
   ],
   "source": [
    "print(\"Confusion Matrix for test data:\")\n",
    "print(confusion_matrix(test_corpus['toxic'], predicted_test))\n",
    "print()\n",
    "print(\"Classification Report for test data:\")\n",
    "print(classification_report(test_corpus['toxic'], predicted_test))\n",
    "\n",
    "# Смотрим отчет и ROC кривую\n",
    "fpr, tpr, thresholds = roc_curve(test_corpus['toxic'], predicted_test)\n",
    "\n",
    "plt.figure()\n",
    "plt.plot(fpr, tpr)\n",
    "plt.plot([0, 1], [0, 1], linestyle='--')\n",
    "plt.xlim([0.0, 1.0])\n",
    "plt.ylim([0.0, 1.0])\n",
    "plt.xlabel('False Positive Rate')\n",
    "plt.ylabel('True Positive Rate')\n",
    "plt.title('ROC-кривая')\n",
    "plt.show()\n",
    "print()\n",
    "print()\n",
    "print(f'AUC-ROC = {roc_auc_score(test_corpus[\"toxic\"], Logistic_Regression.predict_proba(n_gramm_test)[:, 1])}')"
   ]
  },
  {
   "cell_type": "markdown",
   "metadata": {},
   "source": [
    "# Вывод"
   ]
  },
  {
   "cell_type": "markdown",
   "metadata": {},
   "source": [
    "> В этой практической работе:\n",
    "- Исследовали данные отзывов\n",
    "- Отчистили данные от лишних символов не похожих на англиский язык\n",
    "- Лемантирировали слова к изначальной форме что было очень долго 1к стро = 1 час работы ПК\n",
    "- Выполнили верторизацию слов через метод  TfidfVectorize и CountVectorizer\n",
    "- Подобрали гиперпараметры к моделям (DecisionTreeClassifier не захотел работать подскажи плиз что с ним не так)\n",
    "- Обучили CountVectorizer + Logistic_Regression, TF-IDF + DummyClassifier, TF-IDF+Random_Forest_Classifier и Catboost\n",
    "- Проверили лучшую модель и построили графики ROC кривой, в нашем случае это оказалась Catboost с оценкой 0.57 на тестовой выборке и  AUC-ROC = 0.874"
   ]
  },
  {
   "cell_type": "code",
   "execution_count": null,
   "metadata": {},
   "outputs": [],
   "source": []
  }
 ],
 "metadata": {
  "ExecuteTimeLog": [
   {
    "duration": 2353,
    "start_time": "2022-09-02T05:24:24.033Z"
   },
   {
    "duration": 1967,
    "start_time": "2022-09-02T05:24:26.388Z"
   },
   {
    "duration": 227,
    "start_time": "2022-09-02T05:24:28.356Z"
   },
   {
    "duration": 3279,
    "start_time": "2022-09-02T05:24:28.586Z"
   },
   {
    "duration": 17,
    "start_time": "2022-09-02T05:24:31.867Z"
   },
   {
    "duration": 502,
    "start_time": "2022-09-02T05:24:31.886Z"
   },
   {
    "duration": 2271,
    "start_time": "2022-09-02T05:24:53.206Z"
   },
   {
    "duration": 1846,
    "start_time": "2022-09-02T05:24:55.479Z"
   },
   {
    "duration": 234,
    "start_time": "2022-09-02T05:24:57.327Z"
   },
   {
    "duration": 3264,
    "start_time": "2022-09-02T05:24:57.563Z"
   },
   {
    "duration": 13,
    "start_time": "2022-09-02T05:25:00.829Z"
   },
   {
    "duration": 476,
    "start_time": "2022-09-02T05:25:00.843Z"
   },
   {
    "duration": 2351,
    "start_time": "2022-09-02T05:25:04.829Z"
   },
   {
    "duration": 2341,
    "start_time": "2022-09-02T05:25:08.760Z"
   },
   {
    "duration": 1901,
    "start_time": "2022-09-02T05:25:11.834Z"
   },
   {
    "duration": 3222,
    "start_time": "2022-09-02T05:25:27.857Z"
   },
   {
    "duration": 14,
    "start_time": "2022-09-02T05:25:31.081Z"
   },
   {
    "duration": 524,
    "start_time": "2022-09-02T05:25:36.916Z"
   },
   {
    "duration": 2509,
    "start_time": "2022-09-02T06:16:58.658Z"
   },
   {
    "duration": 1859,
    "start_time": "2022-09-02T06:17:01.170Z"
   },
   {
    "duration": 252,
    "start_time": "2022-09-02T06:17:03.030Z"
   },
   {
    "duration": 857,
    "start_time": "2022-09-02T06:17:03.283Z"
   },
   {
    "duration": 13,
    "start_time": "2022-09-02T06:17:04.143Z"
   },
   {
    "duration": 485,
    "start_time": "2022-09-02T06:17:04.158Z"
   },
   {
    "duration": 4,
    "start_time": "2022-09-02T06:17:26.875Z"
   },
   {
    "duration": 1882,
    "start_time": "2022-09-02T06:17:26.881Z"
   },
   {
    "duration": 255,
    "start_time": "2022-09-02T06:17:28.765Z"
   },
   {
    "duration": 3276,
    "start_time": "2022-09-02T06:17:29.022Z"
   },
   {
    "duration": 22,
    "start_time": "2022-09-02T06:17:32.299Z"
   },
   {
    "duration": 469,
    "start_time": "2022-09-02T06:17:32.323Z"
   },
   {
    "duration": 2464,
    "start_time": "2022-09-02T06:17:58.043Z"
   },
   {
    "duration": 2052,
    "start_time": "2022-09-02T06:18:00.510Z"
   },
   {
    "duration": 310,
    "start_time": "2022-09-02T06:18:02.564Z"
   },
   {
    "duration": 3233,
    "start_time": "2022-09-02T06:18:02.876Z"
   },
   {
    "duration": 12,
    "start_time": "2022-09-02T06:18:06.112Z"
   },
   {
    "duration": 472,
    "start_time": "2022-09-02T06:18:06.126Z"
   },
   {
    "duration": 314,
    "start_time": "2022-09-02T06:18:06.600Z"
   },
   {
    "duration": 158,
    "start_time": "2022-09-02T06:18:06.917Z"
   },
   {
    "duration": 4,
    "start_time": "2022-09-02T06:18:07.077Z"
   },
   {
    "duration": 4509,
    "start_time": "2022-09-02T06:18:07.091Z"
   },
   {
    "duration": 753,
    "start_time": "2022-09-02T06:18:11.603Z"
   },
   {
    "duration": 399,
    "start_time": "2022-09-02T06:18:12.358Z"
   },
   {
    "duration": 414,
    "start_time": "2022-09-02T06:18:12.759Z"
   },
   {
    "duration": 3,
    "start_time": "2022-09-02T06:18:13.177Z"
   },
   {
    "duration": 2410,
    "start_time": "2022-09-02T06:18:13.182Z"
   },
   {
    "duration": 163,
    "start_time": "2022-09-02T06:18:15.595Z"
   },
   {
    "duration": 171,
    "start_time": "2022-09-02T06:18:15.760Z"
   },
   {
    "duration": 0,
    "start_time": "2022-09-02T06:18:15.934Z"
   },
   {
    "duration": 0,
    "start_time": "2022-09-02T06:18:15.935Z"
   },
   {
    "duration": 0,
    "start_time": "2022-09-02T06:18:15.937Z"
   },
   {
    "duration": 0,
    "start_time": "2022-09-02T06:18:15.938Z"
   },
   {
    "duration": 0,
    "start_time": "2022-09-02T06:18:15.939Z"
   },
   {
    "duration": 0,
    "start_time": "2022-09-02T06:18:15.941Z"
   },
   {
    "duration": 0,
    "start_time": "2022-09-02T06:18:15.943Z"
   },
   {
    "duration": 0,
    "start_time": "2022-09-02T06:18:15.945Z"
   },
   {
    "duration": 0,
    "start_time": "2022-09-02T06:18:15.946Z"
   },
   {
    "duration": 0,
    "start_time": "2022-09-02T06:18:15.947Z"
   },
   {
    "duration": 0,
    "start_time": "2022-09-02T06:18:15.948Z"
   },
   {
    "duration": 0,
    "start_time": "2022-09-02T06:18:15.949Z"
   },
   {
    "duration": 0,
    "start_time": "2022-09-02T06:18:15.950Z"
   },
   {
    "duration": 0,
    "start_time": "2022-09-02T06:18:15.951Z"
   },
   {
    "duration": 0,
    "start_time": "2022-09-02T06:18:15.952Z"
   },
   {
    "duration": 0,
    "start_time": "2022-09-02T06:18:15.953Z"
   },
   {
    "duration": 0,
    "start_time": "2022-09-02T06:18:15.954Z"
   },
   {
    "duration": 0,
    "start_time": "2022-09-02T06:18:15.955Z"
   },
   {
    "duration": 0,
    "start_time": "2022-09-02T06:18:15.956Z"
   },
   {
    "duration": 0,
    "start_time": "2022-09-02T06:18:15.992Z"
   },
   {
    "duration": 0,
    "start_time": "2022-09-02T06:18:15.994Z"
   },
   {
    "duration": 0,
    "start_time": "2022-09-02T06:18:15.996Z"
   },
   {
    "duration": 0,
    "start_time": "2022-09-02T06:18:15.997Z"
   },
   {
    "duration": 1,
    "start_time": "2022-09-02T06:18:15.999Z"
   },
   {
    "duration": 0,
    "start_time": "2022-09-02T06:18:16.000Z"
   },
   {
    "duration": 0,
    "start_time": "2022-09-02T06:18:16.001Z"
   },
   {
    "duration": 0,
    "start_time": "2022-09-02T06:18:16.002Z"
   },
   {
    "duration": 0,
    "start_time": "2022-09-02T06:18:16.004Z"
   },
   {
    "duration": 0,
    "start_time": "2022-09-02T06:18:16.005Z"
   },
   {
    "duration": 0,
    "start_time": "2022-09-02T06:18:16.007Z"
   },
   {
    "duration": 0,
    "start_time": "2022-09-02T06:18:16.010Z"
   },
   {
    "duration": 0,
    "start_time": "2022-09-02T06:18:16.011Z"
   },
   {
    "duration": 119,
    "start_time": "2022-09-02T06:22:51.960Z"
   },
   {
    "duration": 1831,
    "start_time": "2022-09-02T09:58:55.959Z"
   },
   {
    "duration": 1771,
    "start_time": "2022-09-02T09:58:57.792Z"
   },
   {
    "duration": 190,
    "start_time": "2022-09-02T09:58:59.565Z"
   },
   {
    "duration": 3,
    "start_time": "2022-09-02T09:59:05.922Z"
   },
   {
    "duration": 3175,
    "start_time": "2022-09-02T09:59:11.718Z"
   },
   {
    "duration": 11,
    "start_time": "2022-09-02T09:59:32.414Z"
   },
   {
    "duration": 427,
    "start_time": "2022-09-02T09:59:35.991Z"
   },
   {
    "duration": 114,
    "start_time": "2022-09-02T09:59:38.840Z"
   },
   {
    "duration": 10,
    "start_time": "2022-09-02T10:01:09.319Z"
   },
   {
    "duration": 8,
    "start_time": "2022-09-02T10:01:14.569Z"
   },
   {
    "duration": 42,
    "start_time": "2022-09-02T11:49:35.736Z"
   },
   {
    "duration": 6,
    "start_time": "2022-09-02T11:49:50.756Z"
   },
   {
    "duration": 72,
    "start_time": "2022-09-02T11:56:03.345Z"
   },
   {
    "duration": 1028,
    "start_time": "2022-09-02T11:57:27.529Z"
   },
   {
    "duration": 15,
    "start_time": "2022-09-02T11:57:49.011Z"
   },
   {
    "duration": 22,
    "start_time": "2022-09-02T11:58:00.732Z"
   },
   {
    "duration": 579,
    "start_time": "2022-09-02T11:58:44.899Z"
   },
   {
    "duration": 1164,
    "start_time": "2022-09-02T11:58:48.335Z"
   },
   {
    "duration": 26007,
    "start_time": "2022-09-02T12:04:09.585Z"
   },
   {
    "duration": 5,
    "start_time": "2022-09-02T12:04:54.244Z"
   },
   {
    "duration": 2336,
    "start_time": "2022-09-02T12:05:51.982Z"
   },
   {
    "duration": 1927,
    "start_time": "2022-09-02T12:05:54.321Z"
   },
   {
    "duration": 223,
    "start_time": "2022-09-02T12:05:56.250Z"
   },
   {
    "duration": 3730,
    "start_time": "2022-09-02T12:05:56.475Z"
   },
   {
    "duration": 12,
    "start_time": "2022-09-02T12:06:00.206Z"
   },
   {
    "duration": 407,
    "start_time": "2022-09-02T12:06:00.219Z"
   },
   {
    "duration": 8,
    "start_time": "2022-09-02T12:06:00.628Z"
   },
   {
    "duration": 273,
    "start_time": "2022-09-02T12:06:00.638Z"
   },
   {
    "duration": 131,
    "start_time": "2022-09-02T12:06:00.913Z"
   },
   {
    "duration": 3,
    "start_time": "2022-09-02T12:06:01.048Z"
   },
   {
    "duration": 3496,
    "start_time": "2022-09-02T12:06:01.052Z"
   },
   {
    "duration": 586,
    "start_time": "2022-09-02T12:06:04.550Z"
   },
   {
    "duration": 340,
    "start_time": "2022-09-02T12:06:05.138Z"
   },
   {
    "duration": 344,
    "start_time": "2022-09-02T12:06:05.480Z"
   },
   {
    "duration": 2,
    "start_time": "2022-09-02T12:06:05.826Z"
   },
   {
    "duration": 1942,
    "start_time": "2022-09-02T12:06:05.829Z"
   },
   {
    "duration": 112,
    "start_time": "2022-09-02T12:06:07.773Z"
   },
   {
    "duration": 7,
    "start_time": "2022-09-02T12:06:07.887Z"
   },
   {
    "duration": 10,
    "start_time": "2022-09-02T12:06:07.905Z"
   },
   {
    "duration": 693,
    "start_time": "2022-09-02T12:06:07.916Z"
   },
   {
    "duration": 0,
    "start_time": "2022-09-02T12:06:08.612Z"
   },
   {
    "duration": 0,
    "start_time": "2022-09-02T12:06:08.613Z"
   },
   {
    "duration": 0,
    "start_time": "2022-09-02T12:06:08.613Z"
   },
   {
    "duration": 0,
    "start_time": "2022-09-02T12:06:08.614Z"
   },
   {
    "duration": 0,
    "start_time": "2022-09-02T12:06:08.615Z"
   },
   {
    "duration": 0,
    "start_time": "2022-09-02T12:06:08.616Z"
   },
   {
    "duration": 0,
    "start_time": "2022-09-02T12:06:08.617Z"
   },
   {
    "duration": 0,
    "start_time": "2022-09-02T12:06:08.618Z"
   },
   {
    "duration": 0,
    "start_time": "2022-09-02T12:06:08.619Z"
   },
   {
    "duration": 0,
    "start_time": "2022-09-02T12:06:08.620Z"
   },
   {
    "duration": 0,
    "start_time": "2022-09-02T12:06:08.621Z"
   },
   {
    "duration": 0,
    "start_time": "2022-09-02T12:06:08.623Z"
   },
   {
    "duration": 0,
    "start_time": "2022-09-02T12:06:08.624Z"
   },
   {
    "duration": 0,
    "start_time": "2022-09-02T12:06:08.625Z"
   },
   {
    "duration": 0,
    "start_time": "2022-09-02T12:06:08.626Z"
   },
   {
    "duration": 0,
    "start_time": "2022-09-02T12:06:08.627Z"
   },
   {
    "duration": 0,
    "start_time": "2022-09-02T12:06:08.629Z"
   },
   {
    "duration": 0,
    "start_time": "2022-09-02T12:06:08.630Z"
   },
   {
    "duration": 0,
    "start_time": "2022-09-02T12:06:08.631Z"
   },
   {
    "duration": 0,
    "start_time": "2022-09-02T12:06:08.632Z"
   },
   {
    "duration": 0,
    "start_time": "2022-09-02T12:06:08.633Z"
   },
   {
    "duration": 0,
    "start_time": "2022-09-02T12:06:08.634Z"
   },
   {
    "duration": 0,
    "start_time": "2022-09-02T12:06:08.635Z"
   },
   {
    "duration": 0,
    "start_time": "2022-09-02T12:06:08.637Z"
   },
   {
    "duration": 0,
    "start_time": "2022-09-02T12:06:08.638Z"
   },
   {
    "duration": 0,
    "start_time": "2022-09-02T12:06:08.639Z"
   },
   {
    "duration": 0,
    "start_time": "2022-09-02T12:06:08.640Z"
   },
   {
    "duration": 0,
    "start_time": "2022-09-02T12:06:08.641Z"
   },
   {
    "duration": 0,
    "start_time": "2022-09-02T12:06:08.642Z"
   },
   {
    "duration": 1,
    "start_time": "2022-09-02T12:06:08.643Z"
   },
   {
    "duration": 5,
    "start_time": "2022-09-02T12:06:44.917Z"
   },
   {
    "duration": 528,
    "start_time": "2022-09-02T12:06:46.919Z"
   },
   {
    "duration": 4,
    "start_time": "2022-09-02T12:07:15.120Z"
   },
   {
    "duration": 2353,
    "start_time": "2022-09-02T12:07:15.889Z"
   },
   {
    "duration": 1819,
    "start_time": "2022-09-02T12:07:33.221Z"
   },
   {
    "duration": 1483,
    "start_time": "2022-09-02T12:07:35.042Z"
   },
   {
    "duration": 291,
    "start_time": "2022-09-02T12:07:36.527Z"
   },
   {
    "duration": 724,
    "start_time": "2022-09-02T12:07:36.820Z"
   },
   {
    "duration": 14,
    "start_time": "2022-09-02T12:07:37.545Z"
   },
   {
    "duration": 410,
    "start_time": "2022-09-02T12:07:37.560Z"
   },
   {
    "duration": 7,
    "start_time": "2022-09-02T12:07:37.972Z"
   },
   {
    "duration": 240,
    "start_time": "2022-09-02T12:07:37.980Z"
   },
   {
    "duration": 114,
    "start_time": "2022-09-02T12:07:38.221Z"
   },
   {
    "duration": 3,
    "start_time": "2022-09-02T12:07:38.338Z"
   },
   {
    "duration": 3438,
    "start_time": "2022-09-02T12:07:38.342Z"
   },
   {
    "duration": 583,
    "start_time": "2022-09-02T12:07:41.781Z"
   },
   {
    "duration": 349,
    "start_time": "2022-09-02T12:07:42.365Z"
   },
   {
    "duration": 368,
    "start_time": "2022-09-02T12:07:42.716Z"
   },
   {
    "duration": 3,
    "start_time": "2022-09-02T12:07:43.086Z"
   },
   {
    "duration": 2033,
    "start_time": "2022-09-02T12:07:43.091Z"
   },
   {
    "duration": 124,
    "start_time": "2022-09-02T12:07:45.126Z"
   },
   {
    "duration": 7,
    "start_time": "2022-09-02T12:07:45.251Z"
   },
   {
    "duration": 14,
    "start_time": "2022-09-02T12:07:45.260Z"
   },
   {
    "duration": 5,
    "start_time": "2022-09-02T12:07:45.275Z"
   },
   {
    "duration": 2801,
    "start_time": "2022-09-02T12:07:45.305Z"
   },
   {
    "duration": 16,
    "start_time": "2022-09-02T12:07:48.108Z"
   },
   {
    "duration": 37,
    "start_time": "2022-09-02T12:07:48.126Z"
   },
   {
    "duration": 28,
    "start_time": "2022-09-02T12:07:48.165Z"
   },
   {
    "duration": 44,
    "start_time": "2022-09-02T12:07:48.195Z"
   },
   {
    "duration": 24,
    "start_time": "2022-09-02T12:07:48.241Z"
   },
   {
    "duration": 158,
    "start_time": "2022-09-02T12:07:48.267Z"
   },
   {
    "duration": 0,
    "start_time": "2022-09-02T12:07:48.429Z"
   },
   {
    "duration": 0,
    "start_time": "2022-09-02T12:07:48.431Z"
   },
   {
    "duration": 0,
    "start_time": "2022-09-02T12:07:48.432Z"
   },
   {
    "duration": 0,
    "start_time": "2022-09-02T12:07:48.434Z"
   },
   {
    "duration": 0,
    "start_time": "2022-09-02T12:07:48.435Z"
   },
   {
    "duration": 0,
    "start_time": "2022-09-02T12:07:48.436Z"
   },
   {
    "duration": 0,
    "start_time": "2022-09-02T12:07:48.438Z"
   },
   {
    "duration": 0,
    "start_time": "2022-09-02T12:07:48.439Z"
   },
   {
    "duration": 0,
    "start_time": "2022-09-02T12:07:48.441Z"
   },
   {
    "duration": 0,
    "start_time": "2022-09-02T12:07:48.442Z"
   },
   {
    "duration": 0,
    "start_time": "2022-09-02T12:07:48.443Z"
   },
   {
    "duration": 0,
    "start_time": "2022-09-02T12:07:48.445Z"
   },
   {
    "duration": 0,
    "start_time": "2022-09-02T12:07:48.447Z"
   },
   {
    "duration": 0,
    "start_time": "2022-09-02T12:07:48.447Z"
   },
   {
    "duration": 0,
    "start_time": "2022-09-02T12:07:48.449Z"
   },
   {
    "duration": 0,
    "start_time": "2022-09-02T12:07:48.450Z"
   },
   {
    "duration": 0,
    "start_time": "2022-09-02T12:07:48.451Z"
   },
   {
    "duration": 0,
    "start_time": "2022-09-02T12:07:48.452Z"
   },
   {
    "duration": 0,
    "start_time": "2022-09-02T12:07:48.453Z"
   },
   {
    "duration": 0,
    "start_time": "2022-09-02T12:07:48.455Z"
   },
   {
    "duration": 0,
    "start_time": "2022-09-02T12:07:48.456Z"
   },
   {
    "duration": 0,
    "start_time": "2022-09-02T12:07:48.457Z"
   },
   {
    "duration": 0,
    "start_time": "2022-09-02T12:07:48.459Z"
   },
   {
    "duration": 5,
    "start_time": "2022-09-02T12:09:00.666Z"
   },
   {
    "duration": 1169,
    "start_time": "2022-09-02T12:09:01.325Z"
   },
   {
    "duration": 9,
    "start_time": "2022-09-02T12:09:05.735Z"
   },
   {
    "duration": 5,
    "start_time": "2022-09-02T12:09:17.024Z"
   },
   {
    "duration": 1137,
    "start_time": "2022-09-02T12:09:17.435Z"
   },
   {
    "duration": 4,
    "start_time": "2022-09-02T12:09:40.142Z"
   },
   {
    "duration": 1094,
    "start_time": "2022-09-02T12:09:40.513Z"
   },
   {
    "duration": 8,
    "start_time": "2022-09-02T12:09:41.609Z"
   },
   {
    "duration": 2033,
    "start_time": "2022-09-02T12:10:01.068Z"
   },
   {
    "duration": 1487,
    "start_time": "2022-09-02T12:10:03.103Z"
   },
   {
    "duration": 222,
    "start_time": "2022-09-02T12:10:04.594Z"
   },
   {
    "duration": 710,
    "start_time": "2022-09-02T12:10:04.817Z"
   },
   {
    "duration": 10,
    "start_time": "2022-09-02T12:10:05.529Z"
   },
   {
    "duration": 395,
    "start_time": "2022-09-02T12:10:05.540Z"
   },
   {
    "duration": 7,
    "start_time": "2022-09-02T12:10:05.937Z"
   },
   {
    "duration": 293,
    "start_time": "2022-09-02T12:10:05.945Z"
   },
   {
    "duration": 118,
    "start_time": "2022-09-02T12:10:06.241Z"
   },
   {
    "duration": 3,
    "start_time": "2022-09-02T12:10:06.360Z"
   },
   {
    "duration": 3387,
    "start_time": "2022-09-02T12:10:06.364Z"
   },
   {
    "duration": 584,
    "start_time": "2022-09-02T12:10:09.752Z"
   },
   {
    "duration": 346,
    "start_time": "2022-09-02T12:10:10.338Z"
   },
   {
    "duration": 351,
    "start_time": "2022-09-02T12:10:10.686Z"
   },
   {
    "duration": 3,
    "start_time": "2022-09-02T12:10:11.038Z"
   },
   {
    "duration": 1844,
    "start_time": "2022-09-02T12:10:11.042Z"
   },
   {
    "duration": 109,
    "start_time": "2022-09-02T12:10:12.887Z"
   },
   {
    "duration": 6,
    "start_time": "2022-09-02T12:10:13.005Z"
   },
   {
    "duration": 11,
    "start_time": "2022-09-02T12:10:13.013Z"
   },
   {
    "duration": 7,
    "start_time": "2022-09-02T12:10:13.026Z"
   },
   {
    "duration": 2148,
    "start_time": "2022-09-02T12:10:13.034Z"
   },
   {
    "duration": 8,
    "start_time": "2022-09-02T12:10:15.184Z"
   },
   {
    "duration": 13,
    "start_time": "2022-09-02T12:10:15.193Z"
   },
   {
    "duration": 12,
    "start_time": "2022-09-02T12:10:15.207Z"
   },
   {
    "duration": 5,
    "start_time": "2022-09-02T12:10:15.221Z"
   },
   {
    "duration": 11,
    "start_time": "2022-09-02T12:10:15.227Z"
   },
   {
    "duration": 30,
    "start_time": "2022-09-02T12:10:15.241Z"
   },
   {
    "duration": 2,
    "start_time": "2022-09-02T12:10:15.272Z"
   },
   {
    "duration": 10,
    "start_time": "2022-09-02T12:10:15.276Z"
   },
   {
    "duration": 5,
    "start_time": "2022-09-02T12:10:15.287Z"
   },
   {
    "duration": 6,
    "start_time": "2022-09-02T12:10:15.293Z"
   },
   {
    "duration": 6,
    "start_time": "2022-09-02T12:10:15.300Z"
   },
   {
    "duration": 40,
    "start_time": "2022-09-02T12:10:15.308Z"
   },
   {
    "duration": 5,
    "start_time": "2022-09-02T12:10:15.350Z"
   },
   {
    "duration": 7,
    "start_time": "2022-09-02T12:10:15.357Z"
   },
   {
    "duration": 21944,
    "start_time": "2022-09-02T12:10:15.365Z"
   },
   {
    "duration": 796,
    "start_time": "2022-09-02T12:10:37.312Z"
   },
   {
    "duration": 102,
    "start_time": "2022-09-02T12:10:38.112Z"
   },
   {
    "duration": 3,
    "start_time": "2022-09-02T12:10:38.215Z"
   },
   {
    "duration": 16,
    "start_time": "2022-09-02T12:10:38.220Z"
   },
   {
    "duration": 8089,
    "start_time": "2022-09-02T12:10:38.237Z"
   },
   {
    "duration": 11,
    "start_time": "2022-09-02T12:10:46.328Z"
   },
   {
    "duration": 11,
    "start_time": "2022-09-02T12:10:46.341Z"
   },
   {
    "duration": 2,
    "start_time": "2022-09-02T12:10:46.354Z"
   },
   {
    "duration": 5432,
    "start_time": "2022-09-02T12:10:46.358Z"
   },
   {
    "duration": 15,
    "start_time": "2022-09-02T12:10:51.791Z"
   },
   {
    "duration": 6,
    "start_time": "2022-09-02T12:10:51.807Z"
   },
   {
    "duration": 11,
    "start_time": "2022-09-02T12:10:51.815Z"
   },
   {
    "duration": 123,
    "start_time": "2022-09-02T12:10:51.828Z"
   },
   {
    "duration": 125,
    "start_time": "2022-09-02T12:10:51.952Z"
   },
   {
    "duration": 7,
    "start_time": "2022-09-02T12:12:07.528Z"
   },
   {
    "duration": 2,
    "start_time": "2022-09-02T12:12:08.033Z"
   },
   {
    "duration": 3,
    "start_time": "2022-09-02T12:12:08.103Z"
   },
   {
    "duration": 3,
    "start_time": "2022-09-02T12:12:08.198Z"
   },
   {
    "duration": 35,
    "start_time": "2022-09-02T12:12:08.235Z"
   },
   {
    "duration": 5,
    "start_time": "2022-09-02T12:12:08.316Z"
   },
   {
    "duration": 4,
    "start_time": "2022-09-02T12:12:08.358Z"
   },
   {
    "duration": 1782,
    "start_time": "2022-09-02T12:12:23.174Z"
   },
   {
    "duration": 1504,
    "start_time": "2022-09-02T12:12:24.958Z"
   },
   {
    "duration": 258,
    "start_time": "2022-09-02T12:12:26.464Z"
   },
   {
    "duration": 695,
    "start_time": "2022-09-02T12:12:26.723Z"
   },
   {
    "duration": 12,
    "start_time": "2022-09-02T12:12:27.420Z"
   },
   {
    "duration": 401,
    "start_time": "2022-09-02T12:12:27.433Z"
   },
   {
    "duration": 8,
    "start_time": "2022-09-02T12:12:27.836Z"
   },
   {
    "duration": 255,
    "start_time": "2022-09-02T12:12:27.845Z"
   },
   {
    "duration": 115,
    "start_time": "2022-09-02T12:12:28.102Z"
   },
   {
    "duration": 3,
    "start_time": "2022-09-02T12:12:28.219Z"
   },
   {
    "duration": 3393,
    "start_time": "2022-09-02T12:12:28.224Z"
   },
   {
    "duration": 582,
    "start_time": "2022-09-02T12:12:31.618Z"
   },
   {
    "duration": 338,
    "start_time": "2022-09-02T12:12:32.201Z"
   },
   {
    "duration": 353,
    "start_time": "2022-09-02T12:12:32.541Z"
   },
   {
    "duration": 7,
    "start_time": "2022-09-02T12:12:32.896Z"
   },
   {
    "duration": 1836,
    "start_time": "2022-09-02T12:12:32.904Z"
   },
   {
    "duration": 123,
    "start_time": "2022-09-02T12:12:34.742Z"
   },
   {
    "duration": 7,
    "start_time": "2022-09-02T12:12:34.866Z"
   },
   {
    "duration": 77,
    "start_time": "2022-09-02T12:12:34.875Z"
   },
   {
    "duration": 24,
    "start_time": "2022-09-02T12:12:34.953Z"
   },
   {
    "duration": 2376,
    "start_time": "2022-09-02T12:12:34.979Z"
   },
   {
    "duration": 9,
    "start_time": "2022-09-02T12:12:37.357Z"
   },
   {
    "duration": 6,
    "start_time": "2022-09-02T12:12:37.367Z"
   },
   {
    "duration": 11,
    "start_time": "2022-09-02T12:12:37.375Z"
   },
   {
    "duration": 4,
    "start_time": "2022-09-02T12:12:37.388Z"
   },
   {
    "duration": 5,
    "start_time": "2022-09-02T12:12:37.406Z"
   },
   {
    "duration": 21,
    "start_time": "2022-09-02T12:12:37.413Z"
   },
   {
    "duration": 2,
    "start_time": "2022-09-02T12:12:37.436Z"
   },
   {
    "duration": 10,
    "start_time": "2022-09-02T12:12:37.439Z"
   },
   {
    "duration": 4,
    "start_time": "2022-09-02T12:12:37.450Z"
   },
   {
    "duration": 4,
    "start_time": "2022-09-02T12:12:37.456Z"
   },
   {
    "duration": 5,
    "start_time": "2022-09-02T12:12:37.462Z"
   },
   {
    "duration": 72,
    "start_time": "2022-09-02T12:12:37.468Z"
   },
   {
    "duration": 6,
    "start_time": "2022-09-02T12:12:37.541Z"
   },
   {
    "duration": 7,
    "start_time": "2022-09-02T12:12:37.548Z"
   },
   {
    "duration": 17955,
    "start_time": "2022-09-02T12:12:37.556Z"
   },
   {
    "duration": 492,
    "start_time": "2022-09-02T12:12:55.514Z"
   },
   {
    "duration": 105,
    "start_time": "2022-09-02T12:12:56.008Z"
   },
   {
    "duration": 4,
    "start_time": "2022-09-02T12:12:56.116Z"
   },
   {
    "duration": 15,
    "start_time": "2022-09-02T12:12:56.122Z"
   },
   {
    "duration": 7692,
    "start_time": "2022-09-02T12:12:56.141Z"
   },
   {
    "duration": 10,
    "start_time": "2022-09-02T12:13:03.834Z"
   },
   {
    "duration": 9,
    "start_time": "2022-09-02T12:13:03.845Z"
   },
   {
    "duration": 2,
    "start_time": "2022-09-02T12:13:03.856Z"
   },
   {
    "duration": 5153,
    "start_time": "2022-09-02T12:13:03.860Z"
   },
   {
    "duration": 12,
    "start_time": "2022-09-02T12:13:09.014Z"
   },
   {
    "duration": 6,
    "start_time": "2022-09-02T12:13:09.027Z"
   },
   {
    "duration": 10,
    "start_time": "2022-09-02T12:13:09.034Z"
   },
   {
    "duration": 142,
    "start_time": "2022-09-02T12:13:09.046Z"
   },
   {
    "duration": 123,
    "start_time": "2022-09-02T12:13:09.190Z"
   },
   {
    "duration": 1929,
    "start_time": "2022-09-02T12:20:43.982Z"
   },
   {
    "duration": 1616,
    "start_time": "2022-09-02T12:20:45.914Z"
   },
   {
    "duration": 225,
    "start_time": "2022-09-02T12:20:47.532Z"
   },
   {
    "duration": 714,
    "start_time": "2022-09-02T12:20:47.759Z"
   },
   {
    "duration": 11,
    "start_time": "2022-09-02T12:20:48.474Z"
   },
   {
    "duration": 381,
    "start_time": "2022-09-02T12:20:48.487Z"
   },
   {
    "duration": 7,
    "start_time": "2022-09-02T12:20:48.870Z"
   },
   {
    "duration": 232,
    "start_time": "2022-09-02T12:20:48.879Z"
   },
   {
    "duration": 115,
    "start_time": "2022-09-02T12:20:49.112Z"
   },
   {
    "duration": 2,
    "start_time": "2022-09-02T12:20:49.230Z"
   },
   {
    "duration": 3411,
    "start_time": "2022-09-02T12:20:49.234Z"
   },
   {
    "duration": 567,
    "start_time": "2022-09-02T12:20:52.647Z"
   },
   {
    "duration": 350,
    "start_time": "2022-09-02T12:20:53.216Z"
   },
   {
    "duration": 343,
    "start_time": "2022-09-02T12:20:53.568Z"
   },
   {
    "duration": 4,
    "start_time": "2022-09-02T12:20:53.912Z"
   },
   {
    "duration": 1825,
    "start_time": "2022-09-02T12:20:53.917Z"
   },
   {
    "duration": 105,
    "start_time": "2022-09-02T12:20:55.744Z"
   },
   {
    "duration": 7,
    "start_time": "2022-09-02T12:20:55.851Z"
   },
   {
    "duration": 25,
    "start_time": "2022-09-02T12:20:55.859Z"
   },
   {
    "duration": 16,
    "start_time": "2022-09-02T12:20:55.885Z"
   },
   {
    "duration": 11397,
    "start_time": "2022-09-02T12:20:55.902Z"
   },
   {
    "duration": 8,
    "start_time": "2022-09-02T12:21:07.301Z"
   },
   {
    "duration": 10,
    "start_time": "2022-09-02T12:21:07.311Z"
   },
   {
    "duration": 11,
    "start_time": "2022-09-02T12:21:07.322Z"
   },
   {
    "duration": 4,
    "start_time": "2022-09-02T12:21:07.334Z"
   },
   {
    "duration": 14,
    "start_time": "2022-09-02T12:21:07.339Z"
   },
   {
    "duration": 1522,
    "start_time": "2022-09-02T12:21:07.354Z"
   },
   {
    "duration": 0,
    "start_time": "2022-09-02T12:21:08.879Z"
   },
   {
    "duration": 0,
    "start_time": "2022-09-02T12:21:08.880Z"
   },
   {
    "duration": 0,
    "start_time": "2022-09-02T12:21:08.881Z"
   },
   {
    "duration": 0,
    "start_time": "2022-09-02T12:21:08.882Z"
   },
   {
    "duration": 0,
    "start_time": "2022-09-02T12:21:08.883Z"
   },
   {
    "duration": 0,
    "start_time": "2022-09-02T12:21:08.884Z"
   },
   {
    "duration": 0,
    "start_time": "2022-09-02T12:21:08.885Z"
   },
   {
    "duration": 0,
    "start_time": "2022-09-02T12:21:08.886Z"
   },
   {
    "duration": 0,
    "start_time": "2022-09-02T12:21:08.887Z"
   },
   {
    "duration": 0,
    "start_time": "2022-09-02T12:21:08.888Z"
   },
   {
    "duration": 0,
    "start_time": "2022-09-02T12:21:08.889Z"
   },
   {
    "duration": 0,
    "start_time": "2022-09-02T12:21:08.890Z"
   },
   {
    "duration": 0,
    "start_time": "2022-09-02T12:21:08.891Z"
   },
   {
    "duration": 0,
    "start_time": "2022-09-02T12:21:08.892Z"
   },
   {
    "duration": 0,
    "start_time": "2022-09-02T12:21:08.893Z"
   },
   {
    "duration": 0,
    "start_time": "2022-09-02T12:21:08.894Z"
   },
   {
    "duration": 0,
    "start_time": "2022-09-02T12:21:08.895Z"
   },
   {
    "duration": 0,
    "start_time": "2022-09-02T12:21:08.897Z"
   },
   {
    "duration": 0,
    "start_time": "2022-09-02T12:21:08.897Z"
   },
   {
    "duration": 0,
    "start_time": "2022-09-02T12:21:08.898Z"
   },
   {
    "duration": 0,
    "start_time": "2022-09-02T12:21:08.899Z"
   },
   {
    "duration": 0,
    "start_time": "2022-09-02T12:21:08.900Z"
   },
   {
    "duration": 0,
    "start_time": "2022-09-02T12:21:08.901Z"
   },
   {
    "duration": 4,
    "start_time": "2022-09-02T12:21:21.976Z"
   },
   {
    "duration": 77323,
    "start_time": "2022-09-02T12:21:22.623Z"
   },
   {
    "duration": 8,
    "start_time": "2022-09-02T12:22:39.947Z"
   },
   {
    "duration": 5,
    "start_time": "2022-09-02T12:22:39.957Z"
   },
   {
    "duration": 8,
    "start_time": "2022-09-02T12:22:40.006Z"
   },
   {
    "duration": 9,
    "start_time": "2022-09-02T12:22:40.015Z"
   },
   {
    "duration": 21,
    "start_time": "2022-09-02T12:22:40.025Z"
   },
   {
    "duration": 1126,
    "start_time": "2022-09-02T12:22:40.048Z"
   },
   {
    "duration": 3,
    "start_time": "2022-09-02T12:22:41.176Z"
   },
   {
    "duration": 10,
    "start_time": "2022-09-02T12:22:41.180Z"
   },
   {
    "duration": 13,
    "start_time": "2022-09-02T12:22:41.193Z"
   },
   {
    "duration": 2,
    "start_time": "2022-09-02T12:22:41.207Z"
   },
   {
    "duration": 4,
    "start_time": "2022-09-02T12:22:41.211Z"
   },
   {
    "duration": 4022,
    "start_time": "2022-09-02T12:22:41.217Z"
   },
   {
    "duration": 5,
    "start_time": "2022-09-02T12:22:45.240Z"
   },
   {
    "duration": 6,
    "start_time": "2022-09-02T12:22:45.246Z"
   },
   {
    "duration": 471957,
    "start_time": "2022-09-02T12:22:45.254Z"
   },
   {
    "duration": 0,
    "start_time": "2022-09-02T12:30:37.213Z"
   },
   {
    "duration": 0,
    "start_time": "2022-09-02T12:30:37.214Z"
   },
   {
    "duration": 0,
    "start_time": "2022-09-02T12:30:37.215Z"
   },
   {
    "duration": 0,
    "start_time": "2022-09-02T12:30:37.216Z"
   },
   {
    "duration": 0,
    "start_time": "2022-09-02T12:30:37.217Z"
   },
   {
    "duration": 0,
    "start_time": "2022-09-02T12:30:37.218Z"
   },
   {
    "duration": 0,
    "start_time": "2022-09-02T12:30:37.219Z"
   },
   {
    "duration": 0,
    "start_time": "2022-09-02T12:30:37.220Z"
   },
   {
    "duration": 0,
    "start_time": "2022-09-02T12:30:37.221Z"
   },
   {
    "duration": 0,
    "start_time": "2022-09-02T12:30:37.222Z"
   },
   {
    "duration": 0,
    "start_time": "2022-09-02T12:30:37.223Z"
   },
   {
    "duration": 0,
    "start_time": "2022-09-02T12:30:37.224Z"
   },
   {
    "duration": 0,
    "start_time": "2022-09-02T12:30:37.225Z"
   },
   {
    "duration": 0,
    "start_time": "2022-09-02T12:30:37.227Z"
   },
   {
    "duration": 1792,
    "start_time": "2022-09-02T12:30:51.222Z"
   },
   {
    "duration": 1470,
    "start_time": "2022-09-02T12:30:53.016Z"
   },
   {
    "duration": 242,
    "start_time": "2022-09-02T12:30:54.488Z"
   },
   {
    "duration": 728,
    "start_time": "2022-09-02T12:30:54.732Z"
   },
   {
    "duration": 11,
    "start_time": "2022-09-02T12:30:55.462Z"
   },
   {
    "duration": 418,
    "start_time": "2022-09-02T12:30:55.474Z"
   },
   {
    "duration": 12,
    "start_time": "2022-09-02T12:30:55.894Z"
   },
   {
    "duration": 308,
    "start_time": "2022-09-02T12:30:55.907Z"
   },
   {
    "duration": 134,
    "start_time": "2022-09-02T12:30:56.217Z"
   },
   {
    "duration": 3,
    "start_time": "2022-09-02T12:30:56.354Z"
   },
   {
    "duration": 3384,
    "start_time": "2022-09-02T12:30:56.358Z"
   },
   {
    "duration": 655,
    "start_time": "2022-09-02T12:30:59.744Z"
   },
   {
    "duration": 317,
    "start_time": "2022-09-02T12:31:00.401Z"
   },
   {
    "duration": 0,
    "start_time": "2022-09-02T12:31:00.720Z"
   },
   {
    "duration": 0,
    "start_time": "2022-09-02T12:31:00.722Z"
   },
   {
    "duration": 0,
    "start_time": "2022-09-02T12:31:00.723Z"
   },
   {
    "duration": 0,
    "start_time": "2022-09-02T12:31:00.725Z"
   },
   {
    "duration": 0,
    "start_time": "2022-09-02T12:31:00.726Z"
   },
   {
    "duration": 0,
    "start_time": "2022-09-02T12:31:00.728Z"
   },
   {
    "duration": 0,
    "start_time": "2022-09-02T12:31:00.728Z"
   },
   {
    "duration": 0,
    "start_time": "2022-09-02T12:31:00.730Z"
   },
   {
    "duration": 0,
    "start_time": "2022-09-02T12:31:00.731Z"
   },
   {
    "duration": 0,
    "start_time": "2022-09-02T12:31:00.731Z"
   },
   {
    "duration": 0,
    "start_time": "2022-09-02T12:31:00.732Z"
   },
   {
    "duration": 0,
    "start_time": "2022-09-02T12:31:00.733Z"
   },
   {
    "duration": 0,
    "start_time": "2022-09-02T12:31:00.734Z"
   },
   {
    "duration": 0,
    "start_time": "2022-09-02T12:31:00.735Z"
   },
   {
    "duration": 0,
    "start_time": "2022-09-02T12:31:00.736Z"
   },
   {
    "duration": 0,
    "start_time": "2022-09-02T12:31:00.737Z"
   },
   {
    "duration": 0,
    "start_time": "2022-09-02T12:31:00.738Z"
   },
   {
    "duration": 0,
    "start_time": "2022-09-02T12:31:00.739Z"
   },
   {
    "duration": 0,
    "start_time": "2022-09-02T12:31:00.741Z"
   },
   {
    "duration": 0,
    "start_time": "2022-09-02T12:31:00.742Z"
   },
   {
    "duration": 0,
    "start_time": "2022-09-02T12:31:00.743Z"
   },
   {
    "duration": 0,
    "start_time": "2022-09-02T12:31:00.744Z"
   },
   {
    "duration": 0,
    "start_time": "2022-09-02T12:31:00.745Z"
   },
   {
    "duration": 0,
    "start_time": "2022-09-02T12:31:00.746Z"
   },
   {
    "duration": 0,
    "start_time": "2022-09-02T12:31:00.747Z"
   },
   {
    "duration": 0,
    "start_time": "2022-09-02T12:31:00.748Z"
   },
   {
    "duration": 0,
    "start_time": "2022-09-02T12:31:00.749Z"
   },
   {
    "duration": 0,
    "start_time": "2022-09-02T12:31:00.750Z"
   },
   {
    "duration": 0,
    "start_time": "2022-09-02T12:31:00.751Z"
   },
   {
    "duration": 0,
    "start_time": "2022-09-02T12:31:00.752Z"
   },
   {
    "duration": 0,
    "start_time": "2022-09-02T12:31:00.753Z"
   },
   {
    "duration": 0,
    "start_time": "2022-09-02T12:31:00.754Z"
   },
   {
    "duration": 0,
    "start_time": "2022-09-02T12:31:00.807Z"
   },
   {
    "duration": 0,
    "start_time": "2022-09-02T12:31:00.808Z"
   },
   {
    "duration": 0,
    "start_time": "2022-09-02T12:31:00.809Z"
   },
   {
    "duration": 0,
    "start_time": "2022-09-02T12:31:00.811Z"
   },
   {
    "duration": 0,
    "start_time": "2022-09-02T12:31:00.812Z"
   },
   {
    "duration": 0,
    "start_time": "2022-09-02T12:31:00.813Z"
   },
   {
    "duration": 0,
    "start_time": "2022-09-02T12:31:00.814Z"
   },
   {
    "duration": 0,
    "start_time": "2022-09-02T12:31:00.816Z"
   },
   {
    "duration": 1842,
    "start_time": "2022-09-02T12:31:17.724Z"
   },
   {
    "duration": 1530,
    "start_time": "2022-09-02T12:31:19.568Z"
   },
   {
    "duration": 298,
    "start_time": "2022-09-02T12:31:21.100Z"
   },
   {
    "duration": 791,
    "start_time": "2022-09-02T12:31:21.400Z"
   },
   {
    "duration": 21,
    "start_time": "2022-09-02T12:31:22.193Z"
   },
   {
    "duration": 425,
    "start_time": "2022-09-02T12:31:22.216Z"
   },
   {
    "duration": 9,
    "start_time": "2022-09-02T12:31:22.643Z"
   },
   {
    "duration": 262,
    "start_time": "2022-09-02T12:31:22.654Z"
   },
   {
    "duration": 126,
    "start_time": "2022-09-02T12:31:22.918Z"
   },
   {
    "duration": 3,
    "start_time": "2022-09-02T12:31:23.047Z"
   },
   {
    "duration": 3655,
    "start_time": "2022-09-02T12:31:23.052Z"
   },
   {
    "duration": 576,
    "start_time": "2022-09-02T12:31:26.709Z"
   },
   {
    "duration": 342,
    "start_time": "2022-09-02T12:31:27.287Z"
   },
   {
    "duration": 357,
    "start_time": "2022-09-02T12:31:27.631Z"
   },
   {
    "duration": 3,
    "start_time": "2022-09-02T12:31:27.990Z"
   },
   {
    "duration": 1912,
    "start_time": "2022-09-02T12:31:27.995Z"
   },
   {
    "duration": 102,
    "start_time": "2022-09-02T12:31:29.908Z"
   },
   {
    "duration": 6,
    "start_time": "2022-09-02T12:31:30.012Z"
   },
   {
    "duration": 17,
    "start_time": "2022-09-02T12:31:30.019Z"
   },
   {
    "duration": 5,
    "start_time": "2022-09-02T12:31:30.038Z"
   },
   {
    "duration": 63112,
    "start_time": "2022-09-02T12:31:30.044Z"
   },
   {
    "duration": 8,
    "start_time": "2022-09-02T12:32:33.158Z"
   },
   {
    "duration": 4,
    "start_time": "2022-09-02T12:32:33.167Z"
   },
   {
    "duration": 9,
    "start_time": "2022-09-02T12:32:33.173Z"
   },
   {
    "duration": 5,
    "start_time": "2022-09-02T12:32:33.184Z"
   },
   {
    "duration": 13,
    "start_time": "2022-09-02T12:32:33.191Z"
   },
   {
    "duration": 3200,
    "start_time": "2022-09-02T12:32:33.205Z"
   },
   {
    "duration": 0,
    "start_time": "2022-09-02T12:32:36.409Z"
   },
   {
    "duration": 0,
    "start_time": "2022-09-02T12:32:36.410Z"
   },
   {
    "duration": 0,
    "start_time": "2022-09-02T12:32:36.412Z"
   },
   {
    "duration": 0,
    "start_time": "2022-09-02T12:32:36.413Z"
   },
   {
    "duration": 0,
    "start_time": "2022-09-02T12:32:36.414Z"
   },
   {
    "duration": 0,
    "start_time": "2022-09-02T12:32:36.416Z"
   },
   {
    "duration": 0,
    "start_time": "2022-09-02T12:32:36.417Z"
   },
   {
    "duration": 0,
    "start_time": "2022-09-02T12:32:36.418Z"
   },
   {
    "duration": 0,
    "start_time": "2022-09-02T12:32:36.420Z"
   },
   {
    "duration": 0,
    "start_time": "2022-09-02T12:32:36.421Z"
   },
   {
    "duration": 0,
    "start_time": "2022-09-02T12:32:36.423Z"
   },
   {
    "duration": 0,
    "start_time": "2022-09-02T12:32:36.424Z"
   },
   {
    "duration": 0,
    "start_time": "2022-09-02T12:32:36.425Z"
   },
   {
    "duration": 1,
    "start_time": "2022-09-02T12:32:36.426Z"
   },
   {
    "duration": 0,
    "start_time": "2022-09-02T12:32:36.428Z"
   },
   {
    "duration": 0,
    "start_time": "2022-09-02T12:32:36.429Z"
   },
   {
    "duration": 0,
    "start_time": "2022-09-02T12:32:36.430Z"
   },
   {
    "duration": 0,
    "start_time": "2022-09-02T12:32:36.432Z"
   },
   {
    "duration": 0,
    "start_time": "2022-09-02T12:32:36.433Z"
   },
   {
    "duration": 0,
    "start_time": "2022-09-02T12:32:36.435Z"
   },
   {
    "duration": 0,
    "start_time": "2022-09-02T12:32:36.436Z"
   },
   {
    "duration": 0,
    "start_time": "2022-09-02T12:32:36.437Z"
   },
   {
    "duration": 0,
    "start_time": "2022-09-02T12:32:36.439Z"
   },
   {
    "duration": 0,
    "start_time": "2022-09-02T12:32:36.440Z"
   },
   {
    "duration": 0,
    "start_time": "2022-09-02T12:32:36.441Z"
   },
   {
    "duration": 0,
    "start_time": "2022-09-02T12:32:36.443Z"
   },
   {
    "duration": 1876,
    "start_time": "2022-09-02T12:33:47.818Z"
   },
   {
    "duration": 1524,
    "start_time": "2022-09-02T12:33:49.697Z"
   },
   {
    "duration": 241,
    "start_time": "2022-09-02T12:33:51.222Z"
   },
   {
    "duration": 755,
    "start_time": "2022-09-02T12:33:51.465Z"
   },
   {
    "duration": 11,
    "start_time": "2022-09-02T12:33:52.221Z"
   },
   {
    "duration": 453,
    "start_time": "2022-09-02T12:33:52.234Z"
   },
   {
    "duration": 8,
    "start_time": "2022-09-02T12:33:52.689Z"
   },
   {
    "duration": 281,
    "start_time": "2022-09-02T12:33:52.698Z"
   },
   {
    "duration": 138,
    "start_time": "2022-09-02T12:33:52.980Z"
   },
   {
    "duration": 3,
    "start_time": "2022-09-02T12:33:53.121Z"
   },
   {
    "duration": 3606,
    "start_time": "2022-09-02T12:33:53.126Z"
   },
   {
    "duration": 635,
    "start_time": "2022-09-02T12:33:56.734Z"
   },
   {
    "duration": 374,
    "start_time": "2022-09-02T12:33:57.371Z"
   },
   {
    "duration": 375,
    "start_time": "2022-09-02T12:33:57.747Z"
   },
   {
    "duration": 3,
    "start_time": "2022-09-02T12:33:58.124Z"
   },
   {
    "duration": 2010,
    "start_time": "2022-09-02T12:33:58.128Z"
   },
   {
    "duration": 120,
    "start_time": "2022-09-02T12:34:00.140Z"
   },
   {
    "duration": 6,
    "start_time": "2022-09-02T12:34:00.262Z"
   },
   {
    "duration": 18,
    "start_time": "2022-09-02T12:34:00.269Z"
   },
   {
    "duration": 17,
    "start_time": "2022-09-02T12:34:00.289Z"
   },
   {
    "duration": 1262652,
    "start_time": "2022-09-02T12:34:00.308Z"
   },
   {
    "duration": 9,
    "start_time": "2022-09-02T12:55:02.961Z"
   },
   {
    "duration": 10,
    "start_time": "2022-09-02T12:55:02.971Z"
   },
   {
    "duration": 13,
    "start_time": "2022-09-02T12:55:02.982Z"
   },
   {
    "duration": 9,
    "start_time": "2022-09-02T12:55:02.997Z"
   },
   {
    "duration": 118,
    "start_time": "2022-09-02T12:55:03.007Z"
   },
   {
    "duration": 11424,
    "start_time": "2022-09-02T12:55:03.127Z"
   },
   {
    "duration": 3,
    "start_time": "2022-09-02T12:55:14.554Z"
   },
   {
    "duration": 11,
    "start_time": "2022-09-02T12:55:14.559Z"
   },
   {
    "duration": 4,
    "start_time": "2022-09-02T12:55:14.572Z"
   },
   {
    "duration": 8,
    "start_time": "2022-09-02T12:55:14.578Z"
   },
   {
    "duration": 6,
    "start_time": "2022-09-02T12:55:14.587Z"
   },
   {
    "duration": 83822,
    "start_time": "2022-09-02T12:55:14.594Z"
   },
   {
    "duration": 5,
    "start_time": "2022-09-02T12:56:38.418Z"
   },
   {
    "duration": 6,
    "start_time": "2022-09-02T12:56:38.425Z"
   },
   {
    "duration": 2208,
    "start_time": "2022-09-02T14:49:50.379Z"
   },
   {
    "duration": 1929,
    "start_time": "2022-09-02T14:49:52.590Z"
   },
   {
    "duration": 268,
    "start_time": "2022-09-02T14:49:54.521Z"
   },
   {
    "duration": 3194,
    "start_time": "2022-09-02T14:49:54.791Z"
   },
   {
    "duration": 12,
    "start_time": "2022-09-02T14:49:57.987Z"
   },
   {
    "duration": 442,
    "start_time": "2022-09-02T14:49:58.001Z"
   },
   {
    "duration": 8,
    "start_time": "2022-09-02T14:49:58.445Z"
   },
   {
    "duration": 317,
    "start_time": "2022-09-02T14:49:58.455Z"
   },
   {
    "duration": 137,
    "start_time": "2022-09-02T14:49:58.774Z"
   },
   {
    "duration": 3,
    "start_time": "2022-09-02T14:49:58.914Z"
   },
   {
    "duration": 4111,
    "start_time": "2022-09-02T14:49:58.921Z"
   },
   {
    "duration": 621,
    "start_time": "2022-09-02T14:50:03.036Z"
   },
   {
    "duration": 365,
    "start_time": "2022-09-02T14:50:03.659Z"
   },
   {
    "duration": 368,
    "start_time": "2022-09-02T14:50:04.026Z"
   },
   {
    "duration": 3,
    "start_time": "2022-09-02T14:50:04.396Z"
   },
   {
    "duration": 2103,
    "start_time": "2022-09-02T14:50:04.400Z"
   },
   {
    "duration": 136,
    "start_time": "2022-09-02T14:50:06.504Z"
   },
   {
    "duration": 7,
    "start_time": "2022-09-02T14:50:06.641Z"
   },
   {
    "duration": 378,
    "start_time": "2022-09-02T14:50:06.649Z"
   },
   {
    "duration": 5,
    "start_time": "2022-09-02T14:50:07.028Z"
   },
   {
    "duration": 1373709,
    "start_time": "2022-09-02T14:50:07.035Z"
   },
   {
    "duration": 9,
    "start_time": "2022-09-02T15:13:00.746Z"
   },
   {
    "duration": 11,
    "start_time": "2022-09-02T15:13:00.756Z"
   },
   {
    "duration": 25,
    "start_time": "2022-09-02T15:13:00.768Z"
   },
   {
    "duration": 6,
    "start_time": "2022-09-02T15:13:00.794Z"
   },
   {
    "duration": 138,
    "start_time": "2022-09-02T15:13:00.805Z"
   },
   {
    "duration": 12907,
    "start_time": "2022-09-02T15:13:00.944Z"
   },
   {
    "duration": 3,
    "start_time": "2022-09-02T15:13:13.853Z"
   },
   {
    "duration": 18,
    "start_time": "2022-09-02T15:13:13.858Z"
   },
   {
    "duration": 6,
    "start_time": "2022-09-02T15:13:13.878Z"
   },
   {
    "duration": 5,
    "start_time": "2022-09-02T15:13:13.892Z"
   },
   {
    "duration": 6,
    "start_time": "2022-09-02T15:13:13.898Z"
   },
   {
    "duration": 2075,
    "start_time": "2022-09-02T16:20:03.673Z"
   },
   {
    "duration": 1682,
    "start_time": "2022-09-02T16:20:05.750Z"
   },
   {
    "duration": 196,
    "start_time": "2022-09-02T16:20:07.434Z"
   },
   {
    "duration": 2229,
    "start_time": "2022-09-02T16:20:07.632Z"
   },
   {
    "duration": 11,
    "start_time": "2022-09-02T16:20:09.862Z"
   },
   {
    "duration": 404,
    "start_time": "2022-09-02T16:20:09.875Z"
   },
   {
    "duration": 10,
    "start_time": "2022-09-02T16:20:10.281Z"
   },
   {
    "duration": 275,
    "start_time": "2022-09-02T16:20:10.292Z"
   },
   {
    "duration": 121,
    "start_time": "2022-09-02T16:20:10.568Z"
   },
   {
    "duration": 2,
    "start_time": "2022-09-02T16:20:10.692Z"
   },
   {
    "duration": 3535,
    "start_time": "2022-09-02T16:20:10.696Z"
   },
   {
    "duration": 584,
    "start_time": "2022-09-02T16:20:14.233Z"
   },
   {
    "duration": 359,
    "start_time": "2022-09-02T16:20:14.818Z"
   },
   {
    "duration": 344,
    "start_time": "2022-09-02T16:20:15.178Z"
   },
   {
    "duration": 2,
    "start_time": "2022-09-02T16:20:15.524Z"
   },
   {
    "duration": 2038,
    "start_time": "2022-09-02T16:20:15.528Z"
   },
   {
    "duration": 103,
    "start_time": "2022-09-02T16:20:17.568Z"
   },
   {
    "duration": 8,
    "start_time": "2022-09-02T16:20:17.672Z"
   },
   {
    "duration": 518,
    "start_time": "2022-09-02T16:20:17.681Z"
   },
   {
    "duration": 5,
    "start_time": "2022-09-02T16:20:18.200Z"
   },
   {
    "duration": 427139,
    "start_time": "2022-09-02T16:20:18.206Z"
   },
   {
    "duration": 8,
    "start_time": "2022-09-02T16:27:25.347Z"
   },
   {
    "duration": 11,
    "start_time": "2022-09-02T16:27:25.357Z"
   },
   {
    "duration": 15,
    "start_time": "2022-09-02T16:27:25.369Z"
   },
   {
    "duration": 6,
    "start_time": "2022-09-02T16:27:25.386Z"
   },
   {
    "duration": 73,
    "start_time": "2022-09-02T16:27:25.394Z"
   },
   {
    "duration": 784,
    "start_time": "2022-09-02T16:27:25.469Z"
   },
   {
    "duration": 0,
    "start_time": "2022-09-02T16:27:26.256Z"
   },
   {
    "duration": 0,
    "start_time": "2022-09-02T16:27:26.258Z"
   },
   {
    "duration": 0,
    "start_time": "2022-09-02T16:27:26.259Z"
   },
   {
    "duration": 0,
    "start_time": "2022-09-02T16:27:26.260Z"
   },
   {
    "duration": 0,
    "start_time": "2022-09-02T16:27:26.261Z"
   },
   {
    "duration": 0,
    "start_time": "2022-09-02T16:27:26.262Z"
   },
   {
    "duration": 0,
    "start_time": "2022-09-02T16:27:26.263Z"
   },
   {
    "duration": 0,
    "start_time": "2022-09-02T16:27:26.264Z"
   },
   {
    "duration": 0,
    "start_time": "2022-09-02T16:27:26.266Z"
   },
   {
    "duration": 0,
    "start_time": "2022-09-02T16:27:26.267Z"
   },
   {
    "duration": 0,
    "start_time": "2022-09-02T16:27:26.268Z"
   },
   {
    "duration": 0,
    "start_time": "2022-09-02T16:27:26.269Z"
   },
   {
    "duration": 0,
    "start_time": "2022-09-02T16:27:26.270Z"
   },
   {
    "duration": 0,
    "start_time": "2022-09-02T16:27:26.271Z"
   },
   {
    "duration": 0,
    "start_time": "2022-09-02T16:27:26.272Z"
   },
   {
    "duration": 0,
    "start_time": "2022-09-02T16:27:26.273Z"
   },
   {
    "duration": 0,
    "start_time": "2022-09-02T16:27:26.274Z"
   },
   {
    "duration": 0,
    "start_time": "2022-09-02T16:27:26.275Z"
   },
   {
    "duration": 0,
    "start_time": "2022-09-02T16:27:26.275Z"
   },
   {
    "duration": 0,
    "start_time": "2022-09-02T16:27:26.276Z"
   },
   {
    "duration": 0,
    "start_time": "2022-09-02T16:27:26.277Z"
   },
   {
    "duration": 0,
    "start_time": "2022-09-02T16:27:26.278Z"
   },
   {
    "duration": 0,
    "start_time": "2022-09-02T16:27:26.279Z"
   },
   {
    "duration": 0,
    "start_time": "2022-09-02T16:27:26.280Z"
   },
   {
    "duration": 0,
    "start_time": "2022-09-02T16:27:26.281Z"
   },
   {
    "duration": 0,
    "start_time": "2022-09-02T16:27:26.282Z"
   },
   {
    "duration": 1987,
    "start_time": "2022-09-02T16:27:30.849Z"
   },
   {
    "duration": 1474,
    "start_time": "2022-09-02T16:27:32.838Z"
   },
   {
    "duration": 182,
    "start_time": "2022-09-02T16:27:34.313Z"
   },
   {
    "duration": 766,
    "start_time": "2022-09-02T16:27:34.497Z"
   },
   {
    "duration": 13,
    "start_time": "2022-09-02T16:27:35.265Z"
   },
   {
    "duration": 413,
    "start_time": "2022-09-02T16:27:35.279Z"
   },
   {
    "duration": 8,
    "start_time": "2022-09-02T16:27:35.693Z"
   },
   {
    "duration": 252,
    "start_time": "2022-09-02T16:27:35.702Z"
   },
   {
    "duration": 117,
    "start_time": "2022-09-02T16:27:35.955Z"
   },
   {
    "duration": 4,
    "start_time": "2022-09-02T16:27:36.075Z"
   },
   {
    "duration": 3574,
    "start_time": "2022-09-02T16:27:36.080Z"
   },
   {
    "duration": 583,
    "start_time": "2022-09-02T16:27:39.655Z"
   },
   {
    "duration": 361,
    "start_time": "2022-09-02T16:27:40.240Z"
   },
   {
    "duration": 352,
    "start_time": "2022-09-02T16:27:40.602Z"
   },
   {
    "duration": 3,
    "start_time": "2022-09-02T16:27:40.955Z"
   },
   {
    "duration": 1966,
    "start_time": "2022-09-02T16:27:40.959Z"
   },
   {
    "duration": 104,
    "start_time": "2022-09-02T16:27:42.926Z"
   },
   {
    "duration": 6,
    "start_time": "2022-09-02T16:27:43.038Z"
   },
   {
    "duration": 25,
    "start_time": "2022-09-02T16:27:43.045Z"
   },
   {
    "duration": 10,
    "start_time": "2022-09-02T16:27:43.071Z"
   },
   {
    "duration": 1252912,
    "start_time": "2022-09-02T16:27:43.082Z"
   },
   {
    "duration": 9,
    "start_time": "2022-09-02T16:48:35.996Z"
   },
   {
    "duration": 6,
    "start_time": "2022-09-02T16:48:36.007Z"
   },
   {
    "duration": 25,
    "start_time": "2022-09-02T16:48:36.014Z"
   },
   {
    "duration": 10,
    "start_time": "2022-09-02T16:48:36.041Z"
   },
   {
    "duration": 135,
    "start_time": "2022-09-02T16:48:36.053Z"
   },
   {
    "duration": 11709,
    "start_time": "2022-09-02T16:48:36.190Z"
   },
   {
    "duration": 3,
    "start_time": "2022-09-02T16:48:47.902Z"
   },
   {
    "duration": 13,
    "start_time": "2022-09-02T16:48:47.907Z"
   },
   {
    "duration": 6,
    "start_time": "2022-09-02T16:48:47.921Z"
   },
   {
    "duration": 10,
    "start_time": "2022-09-02T16:48:47.939Z"
   },
   {
    "duration": 9,
    "start_time": "2022-09-02T16:48:47.951Z"
   },
   {
    "duration": 80745,
    "start_time": "2022-09-02T16:48:47.962Z"
   },
   {
    "duration": 5,
    "start_time": "2022-09-02T16:50:08.709Z"
   },
   {
    "duration": 11,
    "start_time": "2022-09-02T16:50:08.715Z"
   },
   {
    "duration": 59,
    "start_time": "2022-09-02T16:50:48.862Z"
   },
   {
    "duration": 4,
    "start_time": "2022-09-02T16:50:49.263Z"
   },
   {
    "duration": 2110,
    "start_time": "2022-09-02T16:51:28.304Z"
   },
   {
    "duration": 1617,
    "start_time": "2022-09-02T16:51:30.417Z"
   },
   {
    "duration": 217,
    "start_time": "2022-09-02T16:51:32.036Z"
   },
   {
    "duration": 2280,
    "start_time": "2022-09-02T16:51:32.255Z"
   },
   {
    "duration": 13,
    "start_time": "2022-09-02T16:51:34.537Z"
   },
   {
    "duration": 415,
    "start_time": "2022-09-02T16:51:34.552Z"
   },
   {
    "duration": 8,
    "start_time": "2022-09-02T16:51:34.968Z"
   },
   {
    "duration": 293,
    "start_time": "2022-09-02T16:51:34.977Z"
   },
   {
    "duration": 119,
    "start_time": "2022-09-02T16:51:35.272Z"
   },
   {
    "duration": 2,
    "start_time": "2022-09-02T16:51:35.394Z"
   },
   {
    "duration": 3601,
    "start_time": "2022-09-02T16:51:35.398Z"
   },
   {
    "duration": 622,
    "start_time": "2022-09-02T16:51:39.002Z"
   },
   {
    "duration": 349,
    "start_time": "2022-09-02T16:51:39.625Z"
   },
   {
    "duration": 362,
    "start_time": "2022-09-02T16:51:39.977Z"
   },
   {
    "duration": 7,
    "start_time": "2022-09-02T16:51:40.341Z"
   },
   {
    "duration": 1989,
    "start_time": "2022-09-02T16:51:40.349Z"
   },
   {
    "duration": 105,
    "start_time": "2022-09-02T16:51:42.340Z"
   },
   {
    "duration": 7,
    "start_time": "2022-09-02T16:51:42.447Z"
   },
   {
    "duration": 29,
    "start_time": "2022-09-02T16:51:42.456Z"
   },
   {
    "duration": 5,
    "start_time": "2022-09-02T16:51:42.487Z"
   },
   {
    "duration": 78852,
    "start_time": "2022-09-02T16:51:42.494Z"
   },
   {
    "duration": 8,
    "start_time": "2022-09-02T16:53:01.347Z"
   },
   {
    "duration": 32,
    "start_time": "2022-09-02T16:53:01.357Z"
   },
   {
    "duration": 52,
    "start_time": "2022-09-02T16:53:01.391Z"
   },
   {
    "duration": 12,
    "start_time": "2022-09-02T16:53:01.444Z"
   },
   {
    "duration": 31,
    "start_time": "2022-09-02T16:53:01.457Z"
   },
   {
    "duration": 737,
    "start_time": "2022-09-02T16:53:01.489Z"
   },
   {
    "duration": 3,
    "start_time": "2022-09-02T16:53:02.229Z"
   },
   {
    "duration": 10,
    "start_time": "2022-09-02T16:53:02.239Z"
   },
   {
    "duration": 9,
    "start_time": "2022-09-02T16:53:02.250Z"
   },
   {
    "duration": 9,
    "start_time": "2022-09-02T16:53:02.260Z"
   },
   {
    "duration": 7,
    "start_time": "2022-09-02T16:53:02.271Z"
   },
   {
    "duration": 4279,
    "start_time": "2022-09-02T16:53:02.279Z"
   },
   {
    "duration": 5,
    "start_time": "2022-09-02T16:53:06.559Z"
   },
   {
    "duration": 11,
    "start_time": "2022-09-02T16:53:06.566Z"
   },
   {
    "duration": 430077,
    "start_time": "2022-09-02T16:53:06.579Z"
   },
   {
    "duration": 0,
    "start_time": "2022-09-02T17:00:16.659Z"
   },
   {
    "duration": 0,
    "start_time": "2022-09-02T17:00:16.660Z"
   },
   {
    "duration": 0,
    "start_time": "2022-09-02T17:00:16.662Z"
   },
   {
    "duration": 0,
    "start_time": "2022-09-02T17:00:16.663Z"
   },
   {
    "duration": 0,
    "start_time": "2022-09-02T17:00:16.664Z"
   },
   {
    "duration": 0,
    "start_time": "2022-09-02T17:00:16.665Z"
   },
   {
    "duration": 0,
    "start_time": "2022-09-02T17:00:16.667Z"
   },
   {
    "duration": 0,
    "start_time": "2022-09-02T17:00:16.668Z"
   },
   {
    "duration": 0,
    "start_time": "2022-09-02T17:00:16.669Z"
   },
   {
    "duration": 1,
    "start_time": "2022-09-02T17:00:16.670Z"
   },
   {
    "duration": 0,
    "start_time": "2022-09-02T17:00:16.672Z"
   },
   {
    "duration": 0,
    "start_time": "2022-09-02T17:00:16.673Z"
   },
   {
    "duration": 0,
    "start_time": "2022-09-02T17:00:16.674Z"
   },
   {
    "duration": 0,
    "start_time": "2022-09-02T17:00:16.675Z"
   },
   {
    "duration": 0,
    "start_time": "2022-09-02T17:00:16.676Z"
   },
   {
    "duration": 0,
    "start_time": "2022-09-02T17:00:16.677Z"
   },
   {
    "duration": 0,
    "start_time": "2022-09-02T17:00:16.678Z"
   },
   {
    "duration": 2087,
    "start_time": "2022-09-02T17:20:51.577Z"
   },
   {
    "duration": 1548,
    "start_time": "2022-09-02T17:20:53.667Z"
   },
   {
    "duration": 195,
    "start_time": "2022-09-02T17:20:55.217Z"
   },
   {
    "duration": 801,
    "start_time": "2022-09-02T17:20:55.414Z"
   },
   {
    "duration": 11,
    "start_time": "2022-09-02T17:20:56.217Z"
   },
   {
    "duration": 418,
    "start_time": "2022-09-02T17:20:56.229Z"
   },
   {
    "duration": 8,
    "start_time": "2022-09-02T17:20:56.648Z"
   },
   {
    "duration": 276,
    "start_time": "2022-09-02T17:20:56.657Z"
   },
   {
    "duration": 119,
    "start_time": "2022-09-02T17:20:56.934Z"
   },
   {
    "duration": 3,
    "start_time": "2022-09-02T17:20:57.055Z"
   },
   {
    "duration": 3616,
    "start_time": "2022-09-02T17:20:57.060Z"
   },
   {
    "duration": 640,
    "start_time": "2022-09-02T17:21:00.678Z"
   },
   {
    "duration": 369,
    "start_time": "2022-09-02T17:21:01.320Z"
   },
   {
    "duration": 370,
    "start_time": "2022-09-02T17:21:01.691Z"
   },
   {
    "duration": 3,
    "start_time": "2022-09-02T17:21:02.062Z"
   },
   {
    "duration": 1222,
    "start_time": "2022-09-02T17:21:02.067Z"
   },
   {
    "duration": 0,
    "start_time": "2022-09-02T17:21:03.292Z"
   },
   {
    "duration": 0,
    "start_time": "2022-09-02T17:21:03.293Z"
   },
   {
    "duration": 0,
    "start_time": "2022-09-02T17:21:03.295Z"
   },
   {
    "duration": 0,
    "start_time": "2022-09-02T17:21:03.297Z"
   },
   {
    "duration": 0,
    "start_time": "2022-09-02T17:21:03.298Z"
   },
   {
    "duration": 0,
    "start_time": "2022-09-02T17:21:03.300Z"
   },
   {
    "duration": 0,
    "start_time": "2022-09-02T17:21:03.301Z"
   },
   {
    "duration": 0,
    "start_time": "2022-09-02T17:21:03.302Z"
   },
   {
    "duration": 0,
    "start_time": "2022-09-02T17:21:03.304Z"
   },
   {
    "duration": 0,
    "start_time": "2022-09-02T17:21:03.305Z"
   },
   {
    "duration": 0,
    "start_time": "2022-09-02T17:21:03.306Z"
   },
   {
    "duration": 0,
    "start_time": "2022-09-02T17:21:03.308Z"
   },
   {
    "duration": 0,
    "start_time": "2022-09-02T17:21:03.309Z"
   },
   {
    "duration": 0,
    "start_time": "2022-09-02T17:21:03.310Z"
   },
   {
    "duration": 0,
    "start_time": "2022-09-02T17:21:03.311Z"
   },
   {
    "duration": 0,
    "start_time": "2022-09-02T17:21:03.313Z"
   },
   {
    "duration": 0,
    "start_time": "2022-09-02T17:21:03.315Z"
   },
   {
    "duration": 0,
    "start_time": "2022-09-02T17:21:03.316Z"
   },
   {
    "duration": 0,
    "start_time": "2022-09-02T17:21:03.317Z"
   },
   {
    "duration": 0,
    "start_time": "2022-09-02T17:21:03.319Z"
   },
   {
    "duration": 0,
    "start_time": "2022-09-02T17:21:03.320Z"
   },
   {
    "duration": 0,
    "start_time": "2022-09-02T17:21:03.321Z"
   },
   {
    "duration": 0,
    "start_time": "2022-09-02T17:21:03.322Z"
   },
   {
    "duration": 0,
    "start_time": "2022-09-02T17:21:03.323Z"
   },
   {
    "duration": 0,
    "start_time": "2022-09-02T17:21:03.324Z"
   },
   {
    "duration": 0,
    "start_time": "2022-09-02T17:21:03.325Z"
   },
   {
    "duration": 0,
    "start_time": "2022-09-02T17:21:03.326Z"
   },
   {
    "duration": 0,
    "start_time": "2022-09-02T17:21:03.327Z"
   },
   {
    "duration": 0,
    "start_time": "2022-09-02T17:21:03.328Z"
   },
   {
    "duration": 0,
    "start_time": "2022-09-02T17:21:03.329Z"
   },
   {
    "duration": 0,
    "start_time": "2022-09-02T17:21:03.338Z"
   },
   {
    "duration": 0,
    "start_time": "2022-09-02T17:21:03.340Z"
   },
   {
    "duration": 0,
    "start_time": "2022-09-02T17:21:03.341Z"
   },
   {
    "duration": 0,
    "start_time": "2022-09-02T17:21:03.341Z"
   },
   {
    "duration": 0,
    "start_time": "2022-09-02T17:21:03.342Z"
   },
   {
    "duration": 1977,
    "start_time": "2022-09-02T17:26:07.747Z"
   },
   {
    "duration": 1439,
    "start_time": "2022-09-02T17:26:09.726Z"
   },
   {
    "duration": 256,
    "start_time": "2022-09-02T17:26:11.168Z"
   },
   {
    "duration": 783,
    "start_time": "2022-09-02T17:26:11.426Z"
   },
   {
    "duration": 10,
    "start_time": "2022-09-02T17:26:12.211Z"
   },
   {
    "duration": 409,
    "start_time": "2022-09-02T17:26:12.223Z"
   },
   {
    "duration": 10,
    "start_time": "2022-09-02T17:26:12.633Z"
   },
   {
    "duration": 256,
    "start_time": "2022-09-02T17:26:12.644Z"
   },
   {
    "duration": 109,
    "start_time": "2022-09-02T17:26:12.901Z"
   },
   {
    "duration": 3,
    "start_time": "2022-09-02T17:26:13.012Z"
   },
   {
    "duration": 3547,
    "start_time": "2022-09-02T17:26:13.016Z"
   },
   {
    "duration": 595,
    "start_time": "2022-09-02T17:26:16.564Z"
   },
   {
    "duration": 351,
    "start_time": "2022-09-02T17:26:17.161Z"
   },
   {
    "duration": 365,
    "start_time": "2022-09-02T17:26:17.513Z"
   },
   {
    "duration": 2,
    "start_time": "2022-09-02T17:26:17.880Z"
   },
   {
    "duration": 2036,
    "start_time": "2022-09-02T17:26:17.884Z"
   },
   {
    "duration": 98,
    "start_time": "2022-09-02T17:26:19.921Z"
   },
   {
    "duration": 18,
    "start_time": "2022-09-02T17:26:20.021Z"
   },
   {
    "duration": 9,
    "start_time": "2022-09-02T17:26:20.041Z"
   },
   {
    "duration": 5,
    "start_time": "2022-09-02T17:26:20.051Z"
   },
   {
    "duration": 77787,
    "start_time": "2022-09-02T17:26:20.057Z"
   },
   {
    "duration": 9,
    "start_time": "2022-09-02T17:27:37.845Z"
   },
   {
    "duration": 8,
    "start_time": "2022-09-02T17:27:37.856Z"
   },
   {
    "duration": 12,
    "start_time": "2022-09-02T17:27:37.866Z"
   },
   {
    "duration": 5,
    "start_time": "2022-09-02T17:27:37.880Z"
   },
   {
    "duration": 14,
    "start_time": "2022-09-02T17:27:37.886Z"
   },
   {
    "duration": 779,
    "start_time": "2022-09-02T17:27:37.902Z"
   },
   {
    "duration": 3,
    "start_time": "2022-09-02T17:27:38.686Z"
   },
   {
    "duration": 9,
    "start_time": "2022-09-02T17:27:38.691Z"
   },
   {
    "duration": 4,
    "start_time": "2022-09-02T17:27:38.702Z"
   },
   {
    "duration": 7,
    "start_time": "2022-09-02T17:27:38.707Z"
   },
   {
    "duration": 4,
    "start_time": "2022-09-02T17:27:38.716Z"
   },
   {
    "duration": 4121,
    "start_time": "2022-09-02T17:27:38.722Z"
   },
   {
    "duration": 4,
    "start_time": "2022-09-02T17:27:42.845Z"
   },
   {
    "duration": 13,
    "start_time": "2022-09-02T17:27:42.851Z"
   },
   {
    "duration": 127,
    "start_time": "2022-09-02T17:27:42.865Z"
   },
   {
    "duration": 0,
    "start_time": "2022-09-02T17:27:42.993Z"
   },
   {
    "duration": 0,
    "start_time": "2022-09-02T17:27:42.995Z"
   },
   {
    "duration": 0,
    "start_time": "2022-09-02T17:27:42.996Z"
   },
   {
    "duration": 0,
    "start_time": "2022-09-02T17:27:42.997Z"
   },
   {
    "duration": 0,
    "start_time": "2022-09-02T17:27:42.999Z"
   },
   {
    "duration": 0,
    "start_time": "2022-09-02T17:27:43.000Z"
   },
   {
    "duration": 0,
    "start_time": "2022-09-02T17:27:43.001Z"
   },
   {
    "duration": 0,
    "start_time": "2022-09-02T17:27:43.002Z"
   },
   {
    "duration": 0,
    "start_time": "2022-09-02T17:27:43.004Z"
   },
   {
    "duration": 0,
    "start_time": "2022-09-02T17:27:43.005Z"
   },
   {
    "duration": 0,
    "start_time": "2022-09-02T17:27:43.006Z"
   },
   {
    "duration": 0,
    "start_time": "2022-09-02T17:27:43.007Z"
   },
   {
    "duration": 0,
    "start_time": "2022-09-02T17:27:43.008Z"
   },
   {
    "duration": 0,
    "start_time": "2022-09-02T17:27:43.009Z"
   },
   {
    "duration": 0,
    "start_time": "2022-09-02T17:27:43.010Z"
   },
   {
    "duration": 15,
    "start_time": "2022-09-02T17:28:03.771Z"
   },
   {
    "duration": 3,
    "start_time": "2022-09-02T17:28:12.301Z"
   }
  ],
  "kernelspec": {
   "display_name": "Python 3 (ipykernel)",
   "language": "python",
   "name": "python3"
  },
  "language_info": {
   "codemirror_mode": {
    "name": "ipython",
    "version": 3
   },
   "file_extension": ".py",
   "mimetype": "text/x-python",
   "name": "python",
   "nbconvert_exporter": "python",
   "pygments_lexer": "ipython3",
   "version": "3.9.5"
  },
  "toc": {
   "base_numbering": 1,
   "nav_menu": {},
   "number_sections": true,
   "sideBar": true,
   "skip_h1_title": true,
   "title_cell": "Table of Contents",
   "title_sidebar": "Contents",
   "toc_cell": false,
   "toc_position": {},
   "toc_section_display": true,
   "toc_window_display": false
  }
 },
 "nbformat": 4,
 "nbformat_minor": 1
}
