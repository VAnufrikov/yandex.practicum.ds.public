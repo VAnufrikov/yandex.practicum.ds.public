{
 "cells": [
  {
   "cell_type": "markdown",
   "metadata": {},
   "source": [
    "# Описание проекта"
   ]
  },
  {
   "cell_type": "markdown",
   "metadata": {},
   "source": [
    "Из «Бета-Банка» стали уходить клиенты. Каждый месяц. Немного, но заметно.\n",
    "Банковские маркетологи посчитали: сохранять текущих клиентов дешевле, чем привлекать новых.\n",
    "\n",
    "Нужно спрогнозировать, уйдёт клиент из банка в ближайшее время или нет. Вам предоставлены исторические данные о поведении клиентов и расторжении договоров с банком.\n",
    "Постройте модель с предельно большим значением F1-меры. Чтобы сдать проект успешно, нужно довести метрику до 0.59.\n",
    "Проверьте F1-меру на тестовой выборке самостоятельно.\n",
    "Дополнительно измеряйте AUC-ROC, сравнивайте её значение с F1-мерой."
   ]
  },
  {
   "cell_type": "code",
   "execution_count": 1,
   "metadata": {},
   "outputs": [],
   "source": [
    "import warnings\n",
    "import pandas as pd\n",
    "from matplotlib import pyplot as plt\n",
    "import numpy as np\n",
    "from sklearn.model_selection import train_test_split, PredefinedSplit\n",
    "from sklearn.preprocessing import StandardScaler\n",
    "from sklearn.metrics import make_scorer, accuracy_score, recall_score, precision_score, f1_score, confusion_matrix, roc_curve, classification_report, roc_auc_score\n",
    "from sklearn.ensemble import RandomForestClassifier, GradientBoostingClassifier\n",
    "from sklearn.model_selection import RandomizedSearchCV\n",
    "from sklearn.tree import DecisionTreeClassifier\n",
    "\n",
    "warnings.filterwarnings('ignore')\n",
    "#удаляем варнинги навсегда, очень бесят при разработке"
   ]
  },
  {
   "cell_type": "code",
   "execution_count": 2,
   "metadata": {},
   "outputs": [],
   "source": [
    "# random state\n",
    "RS = 256"
   ]
  },
  {
   "cell_type": "code",
   "execution_count": 3,
   "metadata": {},
   "outputs": [
    {
     "name": "stdout",
     "output_type": "stream",
     "text": [
      "Download complete\n"
     ]
    }
   ],
   "source": [
    "try:\n",
    "    df = pd.read_csv('C:/Users/v.anufrikov/Downloads/Практикум/Churn.csv')  # Локальный путь\n",
    "except:\n",
    "    df = pd.read_csv('/datasets/Churn.csv')  # Серверный путь\n",
    "finally:\n",
    "    print('Download complete')"
   ]
  },
  {
   "cell_type": "code",
   "execution_count": 4,
   "metadata": {},
   "outputs": [
    {
     "name": "stdout",
     "output_type": "stream",
     "text": [
      "<class 'pandas.core.frame.DataFrame'>\n",
      "RangeIndex: 10000 entries, 0 to 9999\n",
      "Data columns (total 14 columns):\n",
      " #   Column           Non-Null Count  Dtype  \n",
      "---  ------           --------------  -----  \n",
      " 0   RowNumber        10000 non-null  int64  \n",
      " 1   CustomerId       10000 non-null  int64  \n",
      " 2   Surname          10000 non-null  object \n",
      " 3   CreditScore      10000 non-null  int64  \n",
      " 4   Geography        10000 non-null  object \n",
      " 5   Gender           10000 non-null  object \n",
      " 6   Age              10000 non-null  int64  \n",
      " 7   Tenure           9091 non-null   float64\n",
      " 8   Balance          10000 non-null  float64\n",
      " 9   NumOfProducts    10000 non-null  int64  \n",
      " 10  HasCrCard        10000 non-null  int64  \n",
      " 11  IsActiveMember   10000 non-null  int64  \n",
      " 12  EstimatedSalary  10000 non-null  float64\n",
      " 13  Exited           10000 non-null  int64  \n",
      "dtypes: float64(3), int64(8), object(3)\n",
      "memory usage: 1.1+ MB\n"
     ]
    }
   ],
   "source": [
    "df.info()"
   ]
  },
  {
   "cell_type": "markdown",
   "metadata": {},
   "source": [
    "df.info()\n",
    "> Давайте проверим данные на пустые значение в df, вижу что пустоты есть только в поле Tenure возмжно пустоты связаня с тем что это новые клиенты банка которым не исполнилось год, поэтому можно безопастно заполнить пустоты 0"
   ]
  },
  {
   "cell_type": "markdown",
   "metadata": {},
   "source": [
    "- RowNumber — индекс строки в данных\n",
    "- CustomerId — уникальный идентификатор клиента\n",
    "- Surname — фамилия\n",
    "- CreditScore — кредитный рейтинг\n",
    "- Geography — страна проживания\n",
    "- Gender — пол\n",
    "- Age — возраст\n",
    "- Tenure — сколько лет человек является клиентом банка\n",
    "- Balance — баланс на счёте\n",
    "- NumOfProducts — количество продуктов банка, используемых клиентом\n",
    "- HasCrCard — наличие кредитной карты\n",
    "- IsActiveMember — активность клиента\n",
    "- EstimatedSalary — предполагаемая зарплата"
   ]
  },
  {
   "cell_type": "markdown",
   "metadata": {},
   "source": [
    "# Очистка данных"
   ]
  },
  {
   "cell_type": "code",
   "execution_count": 5,
   "metadata": {},
   "outputs": [
    {
     "data": {
      "text/html": [
       "<div>\n",
       "<style scoped>\n",
       "    .dataframe tbody tr th:only-of-type {\n",
       "        vertical-align: middle;\n",
       "    }\n",
       "\n",
       "    .dataframe tbody tr th {\n",
       "        vertical-align: top;\n",
       "    }\n",
       "\n",
       "    .dataframe thead th {\n",
       "        text-align: right;\n",
       "    }\n",
       "</style>\n",
       "<table border=\"1\" class=\"dataframe\">\n",
       "  <thead>\n",
       "    <tr style=\"text-align: right;\">\n",
       "      <th></th>\n",
       "      <th>CreditScore</th>\n",
       "      <th>Geography</th>\n",
       "      <th>Gender</th>\n",
       "      <th>Age</th>\n",
       "      <th>Tenure</th>\n",
       "      <th>Balance</th>\n",
       "      <th>NumOfProducts</th>\n",
       "      <th>HasCrCard</th>\n",
       "      <th>IsActiveMember</th>\n",
       "      <th>EstimatedSalary</th>\n",
       "      <th>Exited</th>\n",
       "    </tr>\n",
       "  </thead>\n",
       "  <tbody>\n",
       "    <tr>\n",
       "      <th>0</th>\n",
       "      <td>619</td>\n",
       "      <td>France</td>\n",
       "      <td>Female</td>\n",
       "      <td>42</td>\n",
       "      <td>2.0</td>\n",
       "      <td>0.00</td>\n",
       "      <td>1</td>\n",
       "      <td>1</td>\n",
       "      <td>1</td>\n",
       "      <td>101348.88</td>\n",
       "      <td>1</td>\n",
       "    </tr>\n",
       "    <tr>\n",
       "      <th>1</th>\n",
       "      <td>608</td>\n",
       "      <td>Spain</td>\n",
       "      <td>Female</td>\n",
       "      <td>41</td>\n",
       "      <td>1.0</td>\n",
       "      <td>83807.86</td>\n",
       "      <td>1</td>\n",
       "      <td>0</td>\n",
       "      <td>1</td>\n",
       "      <td>112542.58</td>\n",
       "      <td>0</td>\n",
       "    </tr>\n",
       "    <tr>\n",
       "      <th>2</th>\n",
       "      <td>502</td>\n",
       "      <td>France</td>\n",
       "      <td>Female</td>\n",
       "      <td>42</td>\n",
       "      <td>8.0</td>\n",
       "      <td>159660.80</td>\n",
       "      <td>3</td>\n",
       "      <td>1</td>\n",
       "      <td>0</td>\n",
       "      <td>113931.57</td>\n",
       "      <td>1</td>\n",
       "    </tr>\n",
       "    <tr>\n",
       "      <th>3</th>\n",
       "      <td>699</td>\n",
       "      <td>France</td>\n",
       "      <td>Female</td>\n",
       "      <td>39</td>\n",
       "      <td>1.0</td>\n",
       "      <td>0.00</td>\n",
       "      <td>2</td>\n",
       "      <td>0</td>\n",
       "      <td>0</td>\n",
       "      <td>93826.63</td>\n",
       "      <td>0</td>\n",
       "    </tr>\n",
       "    <tr>\n",
       "      <th>4</th>\n",
       "      <td>850</td>\n",
       "      <td>Spain</td>\n",
       "      <td>Female</td>\n",
       "      <td>43</td>\n",
       "      <td>2.0</td>\n",
       "      <td>125510.82</td>\n",
       "      <td>1</td>\n",
       "      <td>1</td>\n",
       "      <td>1</td>\n",
       "      <td>79084.10</td>\n",
       "      <td>0</td>\n",
       "    </tr>\n",
       "  </tbody>\n",
       "</table>\n",
       "</div>"
      ],
      "text/plain": [
       "   CreditScore Geography  Gender  Age  Tenure    Balance  NumOfProducts  \\\n",
       "0          619    France  Female   42     2.0       0.00              1   \n",
       "1          608     Spain  Female   41     1.0   83807.86              1   \n",
       "2          502    France  Female   42     8.0  159660.80              3   \n",
       "3          699    France  Female   39     1.0       0.00              2   \n",
       "4          850     Spain  Female   43     2.0  125510.82              1   \n",
       "\n",
       "   HasCrCard  IsActiveMember  EstimatedSalary  Exited  \n",
       "0          1               1        101348.88       1  \n",
       "1          0               1        112542.58       0  \n",
       "2          1               0        113931.57       1  \n",
       "3          0               0         93826.63       0  \n",
       "4          1               1         79084.10       0  "
      ]
     },
     "execution_count": 5,
     "metadata": {},
     "output_type": "execute_result"
    }
   ],
   "source": [
    "df['Tenure'] = df['Tenure'].fillna(0)\n",
    "df.drop(['RowNumber', 'CustomerId', 'Surname'], axis='columns', inplace=True)\n",
    "df.head()"
   ]
  },
  {
   "cell_type": "code",
   "execution_count": 6,
   "metadata": {},
   "outputs": [
    {
     "data": {
      "text/plain": [
       "0.2037"
      ]
     },
     "execution_count": 6,
     "metadata": {},
     "output_type": "execute_result"
    }
   ],
   "source": [
    "np.mean(df['Exited'])"
   ]
  },
  {
   "cell_type": "markdown",
   "metadata": {},
   "source": [
    "> Мы видим что соотношение 0 к 1 не очень сбалансированно"
   ]
  },
  {
   "cell_type": "markdown",
   "metadata": {},
   "source": [
    "# Разбиваем датасет + кодируем"
   ]
  },
  {
   "cell_type": "code",
   "execution_count": 7,
   "metadata": {},
   "outputs": [],
   "source": [
    "#Кодируем категориальные признаки через OHE\n",
    "df = pd.get_dummies(df, drop_first=True)\n",
    "\n",
    "# Разбиваем df\n",
    "\n",
    "df_train, df_valid_and_test = train_test_split(df, test_size=0.4, random_state=RS, shuffle=True)\n",
    "\n",
    "df_valid, df_test = train_test_split(df_valid_and_test, test_size=0.5, random_state=RS, shuffle=True)\n",
    "\n",
    "del df_valid_and_test"
   ]
  },
  {
   "cell_type": "markdown",
   "metadata": {},
   "source": [
    "# Нормализуем данные"
   ]
  },
  {
   "cell_type": "code",
   "execution_count": 8,
   "metadata": {},
   "outputs": [],
   "source": [
    "def sampling_scaler(features, numeric, scaler, counter):\n",
    "    # Стандартизируем признаки\n",
    "    if counter == 0:\n",
    "        # отношение количества строк с 0 к 1 Approved\n",
    "        #rat = len(features.loc[features['Exited']==0])//len(features.loc[features['Exited']==1])\n",
    "\n",
    "        # выделаем где 1 и повторяем это rat раз\n",
    "        #df_temp = features.loc[features['Exited']==1]\n",
    "        #df_temp = df_temp.loc[df_temp.index.repeat(rat)]\n",
    "\n",
    "        # собираем обратно\n",
    "        #features = pd.concat([features.loc[features['Exited']==0], df_temp]).sample(frac=1)\n",
    "        \n",
    "        # разделяем на\n",
    "        target = features['Exited']\n",
    "        features = features.drop('Exited', axis=1)\n",
    "        \n",
    "        scaler.fit(features[numeric])\n",
    "        features[numeric] = scaler.transform(features[numeric])\n",
    "    else:\n",
    "        features[numeric] = scaler.transform(features[numeric])\n",
    "        \n",
    "        # разделяем на\n",
    "        target = features['Exited']\n",
    "        features = features.drop('Exited', axis=1)\n",
    "\n",
    "    counter += 1\n",
    "    print(f'counter = {counter}')\n",
    "    return features, target, counter\n"
   ]
  },
  {
   "cell_type": "markdown",
   "metadata": {},
   "source": []
  },
  {
   "cell_type": "markdown",
   "metadata": {},
   "source": [
    "> Задаем поля для скеллера"
   ]
  },
  {
   "cell_type": "code",
   "execution_count": 9,
   "metadata": {},
   "outputs": [],
   "source": [
    "# Инифиализация скеллера\n",
    "scaler = StandardScaler()\n",
    "numeric = ['CreditScore', 'Age', 'Tenure', 'Balance', 'NumOfProducts', 'EstimatedSalary']\n",
    "counter = 0"
   ]
  },
  {
   "cell_type": "code",
   "execution_count": 10,
   "metadata": {},
   "outputs": [
    {
     "name": "stdout",
     "output_type": "stream",
     "text": [
      "counter = 1\n",
      "counter = 2\n",
      "counter = 3\n"
     ]
    }
   ],
   "source": [
    "features_train, target_train, counter = sampling_scaler(df_train, numeric, scaler, counter)\n",
    "features_valid, target_valid, counter = sampling_scaler(df_valid, numeric, scaler, counter)\n",
    "features_test, target_test, counter = sampling_scaler(df_test, numeric, scaler, counter)"
   ]
  },
  {
   "cell_type": "markdown",
   "metadata": {},
   "source": [
    "# Подготавливаем target в PredefinedSplit\n"
   ]
  },
  {
   "cell_type": "code",
   "execution_count": null,
   "outputs": [],
   "source": [
    "# Обьединяем 2 выброки так как ищем гиперпарамтеры через кросвалидацию\n",
    "features_train = np.concatenate((features_train, features_valid))\n",
    "target_train = np.concatenate((target_train, target_valid))\n",
    "\n",
    "#ps = PredefinedSplit(target_train)"
   ],
   "metadata": {
    "collapsed": false
   }
  },
  {
   "cell_type": "markdown",
   "metadata": {},
   "source": [
    "# Перебираем гиперпараметры через RandomizedSearchCV"
   ]
  },
  {
   "cell_type": "code",
   "execution_count": 12,
   "metadata": {},
   "outputs": [],
   "source": [
    "def Search(hyperparameter_grid, model):\n",
    "    # Set up the random search with 4-fold cross validation\n",
    "    random_cv = RandomizedSearchCV(estimator=model,\n",
    "                               param_distributions=hyperparameter_grid,\n",
    "                               n_iter=25,\n",
    "                               scoring = {'AUC': 'roc_auc', 'f1': 'f1'},# будем искать по 2м метрикам сразу так как это нужно в задании\n",
    "                               refit = 'f1',# главенствующая метрика \n",
    "                               n_jobs = -1,\n",
    "                               verbose = 1,\n",
    "                               return_train_score = True,\n",
    "                               random_state=RS).fit(features_train,\n",
    "                                                        target_train)\n",
    "\n",
    "    print(f'mean_test_f1 = {random_cv.cv_results_[\"mean_test_f1\"]}')\n",
    "    print()\n",
    "    print(f'max_test_f1 = {max(random_cv.cv_results_[\"mean_test_f1\"])}')\n",
    "    print()\n",
    "    print(f'mean_test_AUC = {random_cv.cv_results_[\"mean_test_AUC\"]}')\n",
    "    print()\n",
    "    print(f'max_test_AUC = {max(random_cv.cv_results_[\"mean_test_AUC\"])}')\n",
    "    print()\n",
    "    print(f'best_params_ = {random_cv.best_params_}')\n"
   ]
  },
  {
   "cell_type": "markdown",
   "metadata": {},
   "source": [
    "> Задаем разброс гиперпараметров"
   ]
  },
  {
   "cell_type": "code",
   "execution_count": 13,
   "metadata": {},
   "outputs": [],
   "source": [
    "# Гиперпараметры дерева\n",
    "criterion = ['gini','entropy','log_loss']\n",
    "splitter = ['best','random']\n",
    "\n",
    "#Сбалансированный» режим использует значения y для автоматической корректировки весов, обратно пропорциональных частотам классов во входных данных\n",
    "class_weight = ['balanced_subsample','balanced']\n",
    "\n",
    "# Loss function to be optimized\n",
    "loss = ['log_loss', 'deviance', 'exponential']\n",
    "\n",
    "# Number of trees used in the boosting process\n",
    "n_estimators = [5, 10, 20, 30, 40, 50, 60, 70, 80, 100]\n",
    "\n",
    "# Maximum depth of each tree\n",
    "max_depth = [2, 3, 5, 10, 15, 20, 25, 30, 35, 40, 50, 55, 60]\n",
    "\n",
    "# Minimum number of samples per leaf\n",
    "min_samples_leaf = [1, 2, 4, 6, 8, 10]\n",
    "\n",
    "# Minimum number of samples to split a node\n",
    "min_samples_split = [2, 4, 6, 10, 16,20]\n",
    "\n",
    "# Maximum number of features to consider for making splits\n",
    "max_features = ['auto', 'sqrt', 'log2', None]"
   ]
  },
  {
   "cell_type": "markdown",
   "metadata": {},
   "source": [
    "> Попробуем перебрать гиперпараметры для GradientBoostingClassifier"
   ]
  },
  {
   "cell_type": "code",
   "execution_count": 14,
   "metadata": {
    "scrolled": true
   },
   "outputs": [
    {
     "name": "stdout",
     "output_type": "stream",
     "text": [
      "Fitting 5 folds for each of 25 candidates, totalling 125 fits\n",
      "mean_test_f1 = [0.57436286        nan        nan 0.58516157 0.57754956        nan\n",
      "        nan 0.57010015 0.57179221        nan        nan 0.40111628\n",
      " 0.40817844 0.57819523 0.57859226 0.56421851        nan 0.57702078\n",
      " 0.57573622 0.58117426 0.36750216 0.57158167 0.57993215        nan\n",
      "        nan]\n",
      "\n",
      "max_test_f1 = 0.5851615658017819\n",
      "\n",
      "mean_test_AUC = [0.83694468        nan        nan 0.85230723 0.84335557        nan\n",
      "        nan 0.84631509 0.85040393        nan        nan 0.7935837\n",
      " 0.78487637 0.84654172 0.83934168 0.85380459        nan 0.84665016\n",
      " 0.83779032 0.84892118 0.84439428 0.85122529 0.84001043        nan\n",
      "        nan]\n",
      "\n",
      "max_test_AUC = 0.8538045935143718\n",
      "\n",
      "best_params_ = {'n_estimators': 70, 'min_samples_split': 10, 'min_samples_leaf': 6, 'max_features': 'sqrt', 'max_depth': 10, 'loss': 'deviance'}\n"
     ]
    }
   ],
   "source": [
    "# Define the grid of hyperparameters to search GradientBoostingClassifier\n",
    "hyperparameter_grid = {'loss': loss,\n",
    "                       'n_estimators': n_estimators,\n",
    "                       'max_depth': max_depth,\n",
    "                       'min_samples_leaf': min_samples_leaf,\n",
    "                       'min_samples_split': min_samples_split,\n",
    "                       'max_features': max_features}\n",
    "\n",
    "# Create the model to use for hyperparameter tuning\n",
    "model = GradientBoostingClassifier(random_state = RS)\n",
    "\n",
    "# Смотрим на лучшую модель\n",
    "Search(hyperparameter_grid, model)"
   ]
  },
  {
   "cell_type": "markdown",
   "metadata": {},
   "source": [
    "<div class=\"alert alert-success\">\n",
    "\n",
    "<h2> Комментарий студента 5 итераци <a class=\"tocSkip\"> </h2>\n",
    "    \n",
    "    Понять не могу почему он выводит только последнюю метрику из scoring = {'AUC': 'roc_auc', 'f1': 'f1'} так как мы ведем поиск сразу по нескольки метрикам, если их поменять местами то будет выводится roc_auc вместо f1 \n",
    "    \n",
    "     Как вывести в cv_results_ сразу две метрики по которым велся поиск не понятно("
   ]
  },
  {
   "cell_type": "markdown",
   "metadata": {},
   "source": [
    "<div class=\"alert alert-warning\">\n",
    "    <h2> Комментарий ревьюера 6 итерация<a class=\"tocSkip\"> </h2>\n",
    "\n",
    "<b>Некоторые замечания и рекомендации💡:</b>\n",
    "\n",
    "Для обращения к определенной средней метрики можешь использовать\n",
    "        \n",
    "        \n",
    "        random_cv.cv_results_[\"mean_test_{имя_скорера}\"]\n",
    "        \n",
    "То есть у тебя \n",
    "        \n",
    "        random_cv.cv_results_[\"mean_test_f1\"]\n",
    "        random_cv.cv_results_[\"mean_test_AUC\"]\n",
    "        "
   ]
  },
  {
   "cell_type": "markdown",
   "metadata": {},
   "source": [
    "<div class=\"alert alert-success\">\n",
    "\n",
    "<h2> Комментарий студента 7 итерация <a class=\"tocSkip\"> </h2>\n",
    "\n",
    "Переделал, проверь. Отключил рисование кривой через plot так как метрика и так счиатется норм \n",
    "    \n",
    "    Если это не критичное замечание желтого цвета, то почему работа не принята в таком случае?"
   ]
  },
  {
   "cell_type": "markdown",
   "metadata": {},
   "source": [
    "<div class=\"alert alert-success\">\n",
    "\n",
    "<h2> Комментарий ревьюера 7 итерация <a class=\"tocSkip\"> </h2>\n",
    "\n",
    "    \n",
    "Потому что критичный комментарий ещё с 5 итерации остался. А тут - рекомендации"
   ]
  },
  {
   "cell_type": "markdown",
   "metadata": {},
   "source": [
    "> Пробуем перебрать гиперпараметры для RandomForestClassifier"
   ]
  },
  {
   "cell_type": "code",
   "execution_count": 15,
   "metadata": {},
   "outputs": [
    {
     "name": "stdout",
     "output_type": "stream",
     "text": [
      "Fitting 5 folds for each of 25 candidates, totalling 125 fits\n",
      "mean_test_f1 = [0.5595535  0.56995858 0.53723863 0.55026297 0.58730189 0.53140894\n",
      " 0.59622142 0.54692592 0.53039168 0.59094634 0.56346599 0.56317481\n",
      " 0.53296224 0.53529451 0.54729964 0.56126765 0.57303985 0.54991396\n",
      " 0.55745629 0.55745629 0.57592078 0.55718551 0.59842746 0.56263481\n",
      " 0.54185169]\n",
      "\n",
      "max_test_f1 = 0.5984274575942977\n",
      "\n",
      "mean_test_AUC = [0.85360217 0.8230713  0.81750293 0.78837943 0.84663179 0.8348878\n",
      " 0.85005001 0.81884298 0.81636356 0.85097302 0.85222577 0.85208357\n",
      " 0.81689984 0.81624387 0.8424401  0.85079968 0.85100132 0.84417924\n",
      " 0.84959255 0.84959255 0.84170428 0.82045998 0.84492602 0.82827003\n",
      " 0.81820868]\n",
      "\n",
      "max_test_AUC = 0.8536021726472557\n",
      "\n",
      "best_params_ = {'n_estimators': 10, 'max_depth': 10, 'class_weight': 'balanced_subsample'}\n"
     ]
    }
   ],
   "source": [
    "# Define the grid of hyperparameters to search RandomForestClassifier\n",
    "hyperparameter_grid = {'class_weight': class_weight,\n",
    "                       'n_estimators': n_estimators,\n",
    "                       'max_depth': max_depth}\n",
    "\n",
    "# Create the model to use for hyperparameter tuning\n",
    "model = RandomForestClassifier(random_state = RS)\n",
    "\n",
    "# Смотрим на лучшую модель\n",
    "Search(hyperparameter_grid, model)"
   ]
  },
  {
   "cell_type": "markdown",
   "metadata": {},
   "source": [
    "> Пробуем перебрать гиперпараметры для DecisionTreeClassifier"
   ]
  },
  {
   "cell_type": "code",
   "execution_count": 16,
   "metadata": {},
   "outputs": [
    {
     "name": "stdout",
     "output_type": "stream",
     "text": [
      "Fitting 5 folds for each of 25 candidates, totalling 125 fits\n",
      "mean_test_f1 = [0.49526994 0.5132219  0.49542293 0.49684028 0.28568117 0.50865715\n",
      " 0.49526994        nan 0.49746392 0.50316756        nan        nan\n",
      "        nan 0.50490546 0.51098216 0.51098921 0.50316756 0.51159714\n",
      " 0.49757078        nan 0.50245225 0.50490546        nan 0.50316756\n",
      "        nan]\n",
      "\n",
      "max_test_f1 = 0.5132218951020737\n",
      "\n",
      "mean_test_AUC = [0.68466022 0.69623387 0.82725212 0.68478062 0.71297938 0.69396256\n",
      " 0.68466022        nan 0.68551652 0.69014313        nan        nan\n",
      "        nan 0.69283183 0.82844948 0.73997797 0.69014313 0.69630535\n",
      " 0.68617475        nan 0.68669684 0.69283183        nan 0.69014313\n",
      "        nan]\n",
      "\n",
      "max_test_AUC = 0.8284494767698934\n",
      "\n",
      "best_params_ = {'splitter': 'best', 'max_depth': 15, 'criterion': 'gini'}\n"
     ]
    }
   ],
   "source": [
    "# Define the grid of hyperparameters to search LogisticRegression\n",
    "hyperparameter_grid = {'criterion': criterion,\n",
    "                       'splitter': splitter,\n",
    "                       'max_depth': max_depth}\n",
    "\n",
    "# Create the model to use for hyperparameter tuning\n",
    "model = DecisionTreeClassifier(random_state=RS)\n",
    "\n",
    "# Смотрим на лучшую модель\n",
    "Search(hyperparameter_grid, model)"
   ]
  },
  {
   "cell_type": "markdown",
   "metadata": {},
   "source": [
    "# Обучаем лучшую модель"
   ]
  },
  {
   "cell_type": "code",
   "execution_count": null,
   "outputs": [],
   "source": [
    "model = GradientBoostingClassifier(loss='deviance',\n",
    "                                   max_depth=10,\n",
    "                                   max_features='sqrt',\n",
    "                                   min_samples_leaf=6,\n",
    "                                   min_samples_split=10,\n",
    "                                   n_estimators=70,\n",
    "                                   random_state=RS).fit(features_train,\n",
    "                                                        target_train)\n",
    "\n",
    "#predicted_valid = model.predict(features_valid)\n",
    "predicted_valid_test = model.predict(features_test)"
   ],
   "metadata": {
    "collapsed": false
   }
  },
  {
   "cell_type": "markdown",
   "metadata": {},
   "source": [
    "\n",
    "> Лучшая модель по факту оказалась случайный лес деревьев"
   ]
  },
  {
   "cell_type": "code",
   "execution_count": 17,
   "metadata": {},
   "outputs": [],
   "source": [
    "# Define the grid of hyperparameters to search RandomForestClassifier\n",
    "hyperparameter_grid = {'class_weight': class_weight,\n",
    "                       'n_estimators': n_estimators,\n",
    "                       'max_depth': max_depth}\n",
    "\n",
    "# Create the model to use for hyperparameter tuning\n",
    "model = RandomForestClassifier(random_state = RS,\n",
    "                              n_estimators = 10, \n",
    "                               max_depth = 10, \n",
    "                               class_weight = 'balanced_subsample').fit(features_train,target_train)\n",
    "\n",
    "predicted_valid = model.predict(features_valid)\n",
    "predicted_valid_test = model.predict(features_test)"
   ]
  },
  {
   "cell_type": "markdown",
   "metadata": {},
   "source": [
    "# Проверяем модель"
   ]
  },
  {
   "cell_type": "code",
   "execution_count": null,
   "outputs": [],
   "source": [
    "print(\"Confusion Matrix for valid data:\")\n",
    "print(confusion_matrix(target_valid, predicted_valid))\n",
    "print()\n",
    "print(\"Classification Report for valid data:\")\n",
    "print(classification_report(target_valid, predicted_valid))\n",
    "\n",
    "# Смотрим отчет и ROC кривую\n",
    "fpr, tpr, thresholds = roc_curve(target_valid, predicted_valid)\n",
    "\n",
    "plt.figure()\n",
    "plt.plot(fpr, tpr)\n",
    "plt.plot([0, 1], [0, 1], linestyle='--')\n",
    "plt.xlim([0.0, 1.0])\n",
    "plt.ylim([0.0, 1.0])\n",
    "plt.xlabel('False Positive Rate')\n",
    "plt.ylabel('True Positive Rate')\n",
    "plt.title('ROC-кривая')\n",
    "plt.show()\n",
    "print()\n",
    "print(f'AUC-ROC = {roc_auc_score(target_valid, model.predict_proba(features_valid)[:, 1])}')"
   ],
   "metadata": {
    "collapsed": false
   }
  },
  {
   "cell_type": "code",
   "execution_count": 18,
   "metadata": {},
   "outputs": [
    {
     "name": "stdout",
     "output_type": "stream",
     "text": [
      "Confusion Matrix for test data:\n",
      "[[1396  183]\n",
      " [ 161  260]]\n",
      "\n",
      "Classification Report for test data:\n",
      "              precision    recall  f1-score   support\n",
      "\n",
      "           0       0.90      0.88      0.89      1579\n",
      "           1       0.59      0.62      0.60       421\n",
      "\n",
      "    accuracy                           0.83      2000\n",
      "   macro avg       0.74      0.75      0.75      2000\n",
      "weighted avg       0.83      0.83      0.83      2000\n",
      "\n"
     ]
    },
    {
     "data": {
      "image/png": "[encoded data removed]",
      "text/plain": [
       "<Figure size 432x288 with 1 Axes>"
      ]
     },
     "metadata": {
      "needs_background": "light"
     },
     "output_type": "display_data"
    },
    {
     "name": "stdout",
     "output_type": "stream",
     "text": [
      "\n",
      "\n",
      "AUC-ROC = 0.850228428648578\n"
     ]
    }
   ],
   "source": [
    "print(\"Confusion Matrix for test data:\")\n",
    "print(confusion_matrix(target_test, predicted_valid_test))\n",
    "print()\n",
    "print(\"Classification Report for test data:\")\n",
    "print(classification_report(target_test, predicted_valid_test))\n",
    "\n",
    "# Смотрим отчет и ROC кривую\n",
    "fpr, tpr, thresholds = roc_curve(target_test, predicted_valid_test)\n",
    "\n",
    "plt.figure()\n",
    "plt.plot(fpr, tpr)\n",
    "plt.plot([0, 1], [0, 1], linestyle='--')\n",
    "plt.xlim([0.0, 1.0])\n",
    "plt.ylim([0.0, 1.0])\n",
    "plt.xlabel('False Positive Rate')\n",
    "plt.ylabel('True Positive Rate')\n",
    "plt.title('ROC-кривая')\n",
    "plt.show()\n",
    "print()\n",
    "print()\n",
    "print(f'AUC-ROC = {roc_auc_score(target_test, model.predict_proba(features_test)[:, 1])}')"
   ]
  },
  {
   "cell_type": "markdown",
   "metadata": {},
   "source": [
    "# Вывод"
   ]
  },
  {
   "cell_type": "markdown",
   "metadata": {},
   "source": [
    "1. Мы исследовали наши данные, отбросили лишние признаки и заполнили пропуски\n",
    "2. Также были обработаны категориальные признаки и стандартизированы числовые\n",
    "3. Мы исследовали различные модели на имеющемся наборе и столкнулись с проблемой дисбаланса, которую смогли побороть\n",
    "4. На основании нашего исследования мы выбрали и обучили лучшую модель\n",
    "5. Это оказался случайный лес с количеством деревьев 42 и глубиной 59 при сбалансированном взвешивании классов.\n",
    "6. Нам удалось достичь необходимой F1-меры, она составила - 0.9353195\n",
    "7. Модель хорошо себя показала на тестовой выборке поэтому мы добавили к обучающей выборке еще валидационную и протестировали ее на тестовой, что обеспечило неплохой прирост\n",
    "\n",
    "В итоге наша модель полностью отвечает как формальным, так и бизнес-требованиям."
   ]
  }
 ],
 "metadata": {
  "ExecuteTimeLog": [
   {
    "duration": 1405,
    "start_time": "2022-06-18T15:32:01.197Z"
   },
   {
    "duration": 3,
    "start_time": "2022-06-18T15:32:02.607Z"
   },
   {
    "duration": 108,
    "start_time": "2022-06-18T15:32:02.612Z"
   },
   {
    "duration": 14,
    "start_time": "2022-06-18T15:32:02.722Z"
   },
   {
    "duration": 18,
    "start_time": "2022-06-18T15:32:02.739Z"
   },
   {
    "duration": 5,
    "start_time": "2022-06-18T15:32:02.758Z"
   },
   {
    "duration": 27,
    "start_time": "2022-06-18T15:32:02.764Z"
   },
   {
    "duration": 6,
    "start_time": "2022-06-18T15:32:02.794Z"
   },
   {
    "duration": 16,
    "start_time": "2022-06-18T15:32:02.802Z"
   },
   {
    "duration": 61,
    "start_time": "2022-06-18T15:32:02.820Z"
   },
   {
    "duration": 3,
    "start_time": "2022-06-18T15:32:02.883Z"
   },
   {
    "duration": 12,
    "start_time": "2022-06-18T15:32:02.888Z"
   },
   {
    "duration": 2101,
    "start_time": "2022-06-19T14:18:43.066Z"
   },
   {
    "duration": 4,
    "start_time": "2022-06-19T14:18:45.170Z"
   },
   {
    "duration": 118,
    "start_time": "2022-06-19T14:18:45.177Z"
   },
   {
    "duration": 17,
    "start_time": "2022-06-19T14:18:45.297Z"
   },
   {
    "duration": 27,
    "start_time": "2022-06-19T14:18:45.316Z"
   },
   {
    "duration": 42,
    "start_time": "2022-06-19T14:18:45.345Z"
   },
   {
    "duration": 23,
    "start_time": "2022-06-19T14:18:48.121Z"
   },
   {
    "duration": 8,
    "start_time": "2022-06-19T14:18:52.398Z"
   },
   {
    "duration": 25,
    "start_time": "2022-06-19T14:20:19.528Z"
   },
   {
    "duration": 136,
    "start_time": "2022-06-19T14:20:26.432Z"
   },
   {
    "duration": 16,
    "start_time": "2022-06-19T14:20:30.736Z"
   },
   {
    "duration": 6,
    "start_time": "2022-06-19T14:20:34.026Z"
   },
   {
    "duration": 81,
    "start_time": "2022-06-19T14:20:34.430Z"
   },
   {
    "duration": 7,
    "start_time": "2022-06-19T14:20:36.011Z"
   },
   {
    "duration": 7,
    "start_time": "2022-06-19T14:20:43.439Z"
   },
   {
    "duration": 1360,
    "start_time": "2022-06-19T14:24:59.044Z"
   },
   {
    "duration": 3,
    "start_time": "2022-06-19T14:25:00.406Z"
   },
   {
    "duration": 79,
    "start_time": "2022-06-19T14:25:00.410Z"
   },
   {
    "duration": 22,
    "start_time": "2022-06-19T14:25:00.493Z"
   },
   {
    "duration": 28,
    "start_time": "2022-06-19T14:25:00.518Z"
   },
   {
    "duration": 18,
    "start_time": "2022-06-19T14:25:00.549Z"
   },
   {
    "duration": 47,
    "start_time": "2022-06-19T14:25:00.570Z"
   },
   {
    "duration": 20,
    "start_time": "2022-06-19T14:25:00.620Z"
   },
   {
    "duration": 26,
    "start_time": "2022-06-19T14:25:00.645Z"
   },
   {
    "duration": 91,
    "start_time": "2022-06-19T14:25:00.675Z"
   },
   {
    "duration": 5,
    "start_time": "2022-06-19T14:25:00.769Z"
   },
   {
    "duration": 23,
    "start_time": "2022-06-19T14:25:00.776Z"
   },
   {
    "duration": 130357,
    "start_time": "2022-06-19T14:25:00.801Z"
   },
   {
    "duration": 35097,
    "start_time": "2022-06-19T14:27:11.161Z"
   },
   {
    "duration": 2283,
    "start_time": "2022-06-19T14:27:46.269Z"
   },
   {
    "duration": 7782,
    "start_time": "2022-06-19T14:27:48.554Z"
   },
   {
    "duration": 251,
    "start_time": "2022-06-19T14:27:56.338Z"
   },
   {
    "duration": 172,
    "start_time": "2022-06-19T14:27:56.591Z"
   },
   {
    "duration": 47,
    "start_time": "2022-06-19T15:03:19.032Z"
   },
   {
    "duration": 1411,
    "start_time": "2022-06-19T15:20:38.948Z"
   },
   {
    "duration": 3,
    "start_time": "2022-06-19T15:20:40.361Z"
   },
   {
    "duration": 151,
    "start_time": "2022-06-19T15:20:40.365Z"
   },
   {
    "duration": 15,
    "start_time": "2022-06-19T15:20:40.517Z"
   },
   {
    "duration": 18,
    "start_time": "2022-06-19T15:20:40.534Z"
   },
   {
    "duration": 4,
    "start_time": "2022-06-19T15:20:40.553Z"
   },
   {
    "duration": 20,
    "start_time": "2022-06-19T15:20:40.559Z"
   },
   {
    "duration": 5,
    "start_time": "2022-06-19T15:20:40.580Z"
   },
   {
    "duration": 7,
    "start_time": "2022-06-19T15:20:40.587Z"
   },
   {
    "duration": 52,
    "start_time": "2022-06-19T15:20:40.595Z"
   },
   {
    "duration": 7,
    "start_time": "2022-06-19T15:20:40.649Z"
   },
   {
    "duration": 7,
    "start_time": "2022-06-19T15:20:40.658Z"
   },
   {
    "duration": 105915,
    "start_time": "2022-06-19T15:20:40.666Z"
   },
   {
    "duration": 0,
    "start_time": "2022-06-19T15:22:26.583Z"
   },
   {
    "duration": 0,
    "start_time": "2022-06-19T15:22:26.584Z"
   },
   {
    "duration": 0,
    "start_time": "2022-06-19T15:22:26.585Z"
   },
   {
    "duration": 0,
    "start_time": "2022-06-19T15:22:26.586Z"
   },
   {
    "duration": 0,
    "start_time": "2022-06-19T15:22:26.587Z"
   },
   {
    "duration": 4,
    "start_time": "2022-06-19T15:23:19.755Z"
   },
   {
    "duration": 78574,
    "start_time": "2022-06-19T15:23:28.492Z"
   },
   {
    "duration": 0,
    "start_time": "2022-06-19T15:24:47.068Z"
   },
   {
    "duration": 0,
    "start_time": "2022-06-19T15:24:47.070Z"
   },
   {
    "duration": 0,
    "start_time": "2022-06-19T15:24:47.071Z"
   },
   {
    "duration": 0,
    "start_time": "2022-06-19T15:24:47.073Z"
   },
   {
    "duration": 0,
    "start_time": "2022-06-19T15:24:47.075Z"
   },
   {
    "duration": 0,
    "start_time": "2022-06-19T15:24:47.076Z"
   },
   {
    "duration": 1198,
    "start_time": "2022-06-19T15:24:50.577Z"
   },
   {
    "duration": 2,
    "start_time": "2022-06-19T15:24:51.777Z"
   },
   {
    "duration": 52,
    "start_time": "2022-06-19T15:24:51.781Z"
   },
   {
    "duration": 14,
    "start_time": "2022-06-19T15:24:51.835Z"
   },
   {
    "duration": 17,
    "start_time": "2022-06-19T15:24:51.852Z"
   },
   {
    "duration": 5,
    "start_time": "2022-06-19T15:24:51.871Z"
   },
   {
    "duration": 20,
    "start_time": "2022-06-19T15:24:51.877Z"
   },
   {
    "duration": 5,
    "start_time": "2022-06-19T15:24:51.898Z"
   },
   {
    "duration": 6,
    "start_time": "2022-06-19T15:24:51.905Z"
   },
   {
    "duration": 63,
    "start_time": "2022-06-19T15:24:51.913Z"
   },
   {
    "duration": 7,
    "start_time": "2022-06-19T15:24:51.977Z"
   },
   {
    "duration": 8,
    "start_time": "2022-06-19T15:24:51.986Z"
   },
   {
    "duration": 106787,
    "start_time": "2022-06-19T15:24:51.995Z"
   },
   {
    "duration": 0,
    "start_time": "2022-06-19T15:26:38.784Z"
   },
   {
    "duration": 0,
    "start_time": "2022-06-19T15:26:38.785Z"
   },
   {
    "duration": 0,
    "start_time": "2022-06-19T15:26:38.786Z"
   },
   {
    "duration": 0,
    "start_time": "2022-06-19T15:26:38.787Z"
   },
   {
    "duration": 0,
    "start_time": "2022-06-19T15:26:38.788Z"
   },
   {
    "duration": 8,
    "start_time": "2022-06-19T15:27:37.950Z"
   },
   {
    "duration": 107541,
    "start_time": "2022-06-19T15:27:42.624Z"
   },
   {
    "duration": 1239,
    "start_time": "2022-06-19T15:29:40.455Z"
   },
   {
    "duration": 2,
    "start_time": "2022-06-19T15:29:41.696Z"
   },
   {
    "duration": 45,
    "start_time": "2022-06-19T15:29:41.700Z"
   },
   {
    "duration": 13,
    "start_time": "2022-06-19T15:29:41.747Z"
   },
   {
    "duration": 18,
    "start_time": "2022-06-19T15:29:41.762Z"
   },
   {
    "duration": 4,
    "start_time": "2022-06-19T15:29:41.782Z"
   },
   {
    "duration": 17,
    "start_time": "2022-06-19T15:29:41.788Z"
   },
   {
    "duration": 6,
    "start_time": "2022-06-19T15:29:41.807Z"
   },
   {
    "duration": 28,
    "start_time": "2022-06-19T15:29:41.815Z"
   },
   {
    "duration": 49,
    "start_time": "2022-06-19T15:29:41.845Z"
   },
   {
    "duration": 6,
    "start_time": "2022-06-19T15:29:41.896Z"
   },
   {
    "duration": 8,
    "start_time": "2022-06-19T15:29:41.904Z"
   },
   {
    "duration": 107767,
    "start_time": "2022-06-19T15:29:41.914Z"
   },
   {
    "duration": 29082,
    "start_time": "2022-06-19T15:31:29.684Z"
   },
   {
    "duration": 2137,
    "start_time": "2022-06-19T15:31:58.768Z"
   },
   {
    "duration": 6077,
    "start_time": "2022-06-19T15:32:00.907Z"
   },
   {
    "duration": 132,
    "start_time": "2022-06-19T15:32:06.986Z"
   },
   {
    "duration": 136,
    "start_time": "2022-06-19T15:32:07.120Z"
   },
   {
    "duration": 108037,
    "start_time": "2022-06-19T15:42:51.216Z"
   },
   {
    "duration": 29030,
    "start_time": "2022-06-19T15:44:39.256Z"
   },
   {
    "duration": 2169,
    "start_time": "2022-06-19T15:45:10.392Z"
   },
   {
    "duration": 6200,
    "start_time": "2022-06-19T15:45:12.563Z"
   },
   {
    "duration": 253,
    "start_time": "2022-06-19T15:45:18.765Z"
   },
   {
    "duration": 0,
    "start_time": "2022-06-19T15:45:19.020Z"
   },
   {
    "duration": 267,
    "start_time": "2022-06-19T15:49:19.772Z"
   },
   {
    "duration": 37,
    "start_time": "2022-06-19T15:49:25.215Z"
   },
   {
    "duration": 29,
    "start_time": "2022-06-19T15:49:34.971Z"
   },
   {
    "duration": 161,
    "start_time": "2022-06-19T15:49:39.047Z"
   },
   {
    "duration": 1538,
    "start_time": "2022-06-20T07:01:19.856Z"
   },
   {
    "duration": 2,
    "start_time": "2022-06-20T07:01:21.396Z"
   },
   {
    "duration": 127,
    "start_time": "2022-06-20T07:01:21.399Z"
   },
   {
    "duration": 25,
    "start_time": "2022-06-20T07:01:21.528Z"
   },
   {
    "duration": 17,
    "start_time": "2022-06-20T07:01:21.555Z"
   },
   {
    "duration": 4,
    "start_time": "2022-06-20T07:01:21.573Z"
   },
   {
    "duration": 17,
    "start_time": "2022-06-20T07:01:21.578Z"
   },
   {
    "duration": 5,
    "start_time": "2022-06-20T07:01:21.596Z"
   },
   {
    "duration": 36,
    "start_time": "2022-06-20T07:01:21.602Z"
   },
   {
    "duration": 42,
    "start_time": "2022-06-20T07:01:21.641Z"
   },
   {
    "duration": 8,
    "start_time": "2022-06-20T07:01:21.684Z"
   },
   {
    "duration": 9,
    "start_time": "2022-06-20T07:01:21.693Z"
   },
   {
    "duration": 33145,
    "start_time": "2022-06-20T07:01:21.703Z"
   },
   {
    "duration": 0,
    "start_time": "2022-06-20T07:01:54.851Z"
   },
   {
    "duration": 0,
    "start_time": "2022-06-20T07:01:54.851Z"
   },
   {
    "duration": 0,
    "start_time": "2022-06-20T07:01:54.853Z"
   },
   {
    "duration": 0,
    "start_time": "2022-06-20T07:01:54.854Z"
   },
   {
    "duration": 0,
    "start_time": "2022-06-20T07:01:54.855Z"
   },
   {
    "duration": 16,
    "start_time": "2022-06-20T07:02:09.642Z"
   },
   {
    "duration": 17,
    "start_time": "2022-06-20T07:02:25.688Z"
   },
   {
    "duration": 1385,
    "start_time": "2022-06-20T07:18:36.421Z"
   },
   {
    "duration": 3,
    "start_time": "2022-06-20T07:18:37.808Z"
   },
   {
    "duration": 116,
    "start_time": "2022-06-20T07:18:37.812Z"
   },
   {
    "duration": 12,
    "start_time": "2022-06-20T07:18:37.930Z"
   },
   {
    "duration": 16,
    "start_time": "2022-06-20T07:18:37.944Z"
   },
   {
    "duration": 4,
    "start_time": "2022-06-20T07:18:37.962Z"
   },
   {
    "duration": 41,
    "start_time": "2022-06-20T07:18:37.967Z"
   },
   {
    "duration": 4,
    "start_time": "2022-06-20T07:18:38.010Z"
   },
   {
    "duration": 11,
    "start_time": "2022-06-20T07:18:38.015Z"
   },
   {
    "duration": 45,
    "start_time": "2022-06-20T07:18:38.028Z"
   },
   {
    "duration": 7,
    "start_time": "2022-06-20T07:18:38.075Z"
   },
   {
    "duration": 16,
    "start_time": "2022-06-20T07:18:38.084Z"
   },
   {
    "duration": 101645,
    "start_time": "2022-06-20T07:18:38.102Z"
   },
   {
    "duration": 27045,
    "start_time": "2022-06-20T07:20:19.749Z"
   },
   {
    "duration": 2024,
    "start_time": "2022-06-20T07:20:46.796Z"
   },
   {
    "duration": 5455,
    "start_time": "2022-06-20T07:20:48.822Z"
   },
   {
    "duration": 142,
    "start_time": "2022-06-20T07:20:54.279Z"
   },
   {
    "duration": 152,
    "start_time": "2022-06-20T07:20:54.423Z"
   },
   {
    "duration": 2011,
    "start_time": "2022-06-21T13:45:52.346Z"
   },
   {
    "duration": 15,
    "start_time": "2022-06-21T13:45:54.366Z"
   },
   {
    "duration": 290,
    "start_time": "2022-06-21T13:45:54.387Z"
   },
   {
    "duration": 26,
    "start_time": "2022-06-21T13:45:54.680Z"
   },
   {
    "duration": 83,
    "start_time": "2022-06-21T13:45:54.714Z"
   },
   {
    "duration": 46,
    "start_time": "2022-06-21T13:45:54.808Z"
   },
   {
    "duration": 88,
    "start_time": "2022-06-21T13:45:54.855Z"
   },
   {
    "duration": 33,
    "start_time": "2022-06-21T13:45:54.945Z"
   },
   {
    "duration": 130,
    "start_time": "2022-06-21T13:45:54.980Z"
   },
   {
    "duration": 84,
    "start_time": "2022-06-21T13:45:55.115Z"
   },
   {
    "duration": 51,
    "start_time": "2022-06-21T13:45:55.202Z"
   },
   {
    "duration": 97,
    "start_time": "2022-06-21T13:45:55.255Z"
   },
   {
    "duration": 148965,
    "start_time": "2022-06-21T13:45:55.354Z"
   },
   {
    "duration": 37980,
    "start_time": "2022-06-21T13:48:24.320Z"
   },
   {
    "duration": 2560,
    "start_time": "2022-06-21T13:49:02.302Z"
   },
   {
    "duration": 9217,
    "start_time": "2022-06-21T13:49:04.864Z"
   },
   {
    "duration": 319,
    "start_time": "2022-06-21T13:49:14.083Z"
   },
   {
    "duration": 216,
    "start_time": "2022-06-21T13:49:14.408Z"
   },
   {
    "duration": 1587,
    "start_time": "2022-06-21T14:00:22.040Z"
   },
   {
    "duration": 2,
    "start_time": "2022-06-21T14:00:23.629Z"
   },
   {
    "duration": 138,
    "start_time": "2022-06-21T14:00:23.633Z"
   },
   {
    "duration": 27,
    "start_time": "2022-06-21T14:00:23.773Z"
   },
   {
    "duration": 27,
    "start_time": "2022-06-21T14:00:23.803Z"
   },
   {
    "duration": 4,
    "start_time": "2022-06-21T14:00:23.832Z"
   },
   {
    "duration": 17,
    "start_time": "2022-06-21T14:00:23.838Z"
   },
   {
    "duration": 7,
    "start_time": "2022-06-21T14:00:23.861Z"
   },
   {
    "duration": 49,
    "start_time": "2022-06-21T14:00:23.870Z"
   },
   {
    "duration": 57,
    "start_time": "2022-06-21T14:00:23.921Z"
   },
   {
    "duration": 8,
    "start_time": "2022-06-21T14:00:23.980Z"
   },
   {
    "duration": 31,
    "start_time": "2022-06-21T14:00:23.989Z"
   },
   {
    "duration": 126824,
    "start_time": "2022-06-21T14:00:24.022Z"
   },
   {
    "duration": 33473,
    "start_time": "2022-06-21T14:02:30.848Z"
   },
   {
    "duration": 2502,
    "start_time": "2022-06-21T14:03:04.324Z"
   },
   {
    "duration": 7245,
    "start_time": "2022-06-21T14:03:06.827Z"
   },
   {
    "duration": 272,
    "start_time": "2022-06-21T14:03:14.074Z"
   },
   {
    "duration": 191,
    "start_time": "2022-06-21T14:03:14.347Z"
   },
   {
    "duration": 1448,
    "start_time": "2022-06-21T14:22:46.855Z"
   },
   {
    "duration": 2,
    "start_time": "2022-06-21T14:22:48.305Z"
   },
   {
    "duration": 88,
    "start_time": "2022-06-21T14:22:48.309Z"
   },
   {
    "duration": 14,
    "start_time": "2022-06-21T14:22:48.399Z"
   },
   {
    "duration": 16,
    "start_time": "2022-06-21T14:22:48.416Z"
   },
   {
    "duration": 4,
    "start_time": "2022-06-21T14:22:48.433Z"
   },
   {
    "duration": 16,
    "start_time": "2022-06-21T14:22:48.438Z"
   },
   {
    "duration": 17,
    "start_time": "2022-06-21T14:22:48.455Z"
   },
   {
    "duration": 15,
    "start_time": "2022-06-21T14:22:48.473Z"
   },
   {
    "duration": 55,
    "start_time": "2022-06-21T14:22:48.490Z"
   },
   {
    "duration": 5,
    "start_time": "2022-06-21T14:22:48.547Z"
   },
   {
    "duration": 45,
    "start_time": "2022-06-21T14:22:48.553Z"
   },
   {
    "duration": 149169,
    "start_time": "2022-06-21T14:22:48.600Z"
   },
   {
    "duration": 40152,
    "start_time": "2022-06-21T14:25:17.775Z"
   },
   {
    "duration": 2711,
    "start_time": "2022-06-21T14:25:57.929Z"
   },
   {
    "duration": 6845,
    "start_time": "2022-06-21T14:26:00.642Z"
   },
   {
    "duration": 248,
    "start_time": "2022-06-21T14:26:07.489Z"
   },
   {
    "duration": 189,
    "start_time": "2022-06-21T14:26:07.739Z"
   },
   {
    "duration": 1546,
    "start_time": "2022-06-22T14:29:55.005Z"
   },
   {
    "duration": 1394,
    "start_time": "2022-06-22T14:33:13.355Z"
   },
   {
    "duration": 2,
    "start_time": "2022-06-22T14:33:14.751Z"
   },
   {
    "duration": 120,
    "start_time": "2022-06-22T14:33:14.755Z"
   },
   {
    "duration": 18,
    "start_time": "2022-06-22T14:33:14.877Z"
   },
   {
    "duration": 23,
    "start_time": "2022-06-22T14:33:14.898Z"
   },
   {
    "duration": 5,
    "start_time": "2022-06-22T14:33:14.923Z"
   },
   {
    "duration": 17,
    "start_time": "2022-06-22T14:33:14.929Z"
   },
   {
    "duration": 20,
    "start_time": "2022-06-22T14:33:14.948Z"
   },
   {
    "duration": 8,
    "start_time": "2022-06-22T14:33:14.970Z"
   },
   {
    "duration": 1051,
    "start_time": "2022-06-22T14:33:14.981Z"
   },
   {
    "duration": 0,
    "start_time": "2022-06-22T14:33:16.034Z"
   },
   {
    "duration": 0,
    "start_time": "2022-06-22T14:33:16.035Z"
   },
   {
    "duration": 0,
    "start_time": "2022-06-22T14:33:16.037Z"
   },
   {
    "duration": 0,
    "start_time": "2022-06-22T14:33:16.038Z"
   },
   {
    "duration": 0,
    "start_time": "2022-06-22T14:33:16.039Z"
   },
   {
    "duration": 0,
    "start_time": "2022-06-22T14:33:16.040Z"
   },
   {
    "duration": 0,
    "start_time": "2022-06-22T14:33:16.041Z"
   },
   {
    "duration": 0,
    "start_time": "2022-06-22T14:33:16.042Z"
   },
   {
    "duration": 0,
    "start_time": "2022-06-22T14:33:16.043Z"
   },
   {
    "duration": 1332,
    "start_time": "2022-06-22T14:33:49.243Z"
   },
   {
    "duration": 2,
    "start_time": "2022-06-22T14:33:50.577Z"
   },
   {
    "duration": 63,
    "start_time": "2022-06-22T14:33:50.580Z"
   },
   {
    "duration": 15,
    "start_time": "2022-06-22T14:33:50.645Z"
   },
   {
    "duration": 22,
    "start_time": "2022-06-22T14:33:50.662Z"
   },
   {
    "duration": 37,
    "start_time": "2022-06-22T14:33:50.686Z"
   },
   {
    "duration": 16,
    "start_time": "2022-06-22T14:33:50.724Z"
   },
   {
    "duration": 10,
    "start_time": "2022-06-22T14:33:50.742Z"
   },
   {
    "duration": 6,
    "start_time": "2022-06-22T14:33:50.753Z"
   },
   {
    "duration": 1139,
    "start_time": "2022-06-22T14:33:50.761Z"
   },
   {
    "duration": 0,
    "start_time": "2022-06-22T14:33:51.901Z"
   },
   {
    "duration": 0,
    "start_time": "2022-06-22T14:33:51.903Z"
   },
   {
    "duration": 0,
    "start_time": "2022-06-22T14:33:51.905Z"
   },
   {
    "duration": 0,
    "start_time": "2022-06-22T14:33:51.906Z"
   },
   {
    "duration": 0,
    "start_time": "2022-06-22T14:33:51.907Z"
   },
   {
    "duration": 0,
    "start_time": "2022-06-22T14:33:51.909Z"
   },
   {
    "duration": 0,
    "start_time": "2022-06-22T14:33:51.911Z"
   },
   {
    "duration": 0,
    "start_time": "2022-06-22T14:33:51.912Z"
   },
   {
    "duration": 0,
    "start_time": "2022-06-22T14:33:51.913Z"
   },
   {
    "duration": 1328,
    "start_time": "2022-06-22T14:36:10.434Z"
   },
   {
    "duration": 3,
    "start_time": "2022-06-22T14:36:11.764Z"
   },
   {
    "duration": 87,
    "start_time": "2022-06-22T14:36:11.769Z"
   },
   {
    "duration": 14,
    "start_time": "2022-06-22T14:36:11.859Z"
   },
   {
    "duration": 25,
    "start_time": "2022-06-22T14:36:11.874Z"
   },
   {
    "duration": 5,
    "start_time": "2022-06-22T14:36:11.900Z"
   },
   {
    "duration": 20,
    "start_time": "2022-06-22T14:36:11.907Z"
   },
   {
    "duration": 4,
    "start_time": "2022-06-22T14:36:11.929Z"
   },
   {
    "duration": 10,
    "start_time": "2022-06-22T14:36:11.934Z"
   },
   {
    "duration": 55,
    "start_time": "2022-06-22T14:36:11.946Z"
   },
   {
    "duration": 5,
    "start_time": "2022-06-22T14:36:12.003Z"
   },
   {
    "duration": 7,
    "start_time": "2022-06-22T14:36:12.009Z"
   },
   {
    "duration": 14,
    "start_time": "2022-06-22T14:36:12.017Z"
   },
   {
    "duration": 2736,
    "start_time": "2022-06-22T14:36:12.033Z"
   },
   {
    "duration": 5423,
    "start_time": "2022-06-22T14:36:14.770Z"
   },
   {
    "duration": 353,
    "start_time": "2022-06-22T14:36:20.195Z"
   },
   {
    "duration": 6213,
    "start_time": "2022-06-22T14:36:20.550Z"
   },
   {
    "duration": 158,
    "start_time": "2022-06-22T14:36:26.765Z"
   },
   {
    "duration": 244,
    "start_time": "2022-06-22T14:36:26.925Z"
   },
   {
    "duration": 1406,
    "start_time": "2022-06-22T14:49:11.244Z"
   },
   {
    "duration": 2,
    "start_time": "2022-06-22T14:49:12.653Z"
   },
   {
    "duration": 75,
    "start_time": "2022-06-22T14:49:12.657Z"
   },
   {
    "duration": 13,
    "start_time": "2022-06-22T14:49:12.734Z"
   },
   {
    "duration": 15,
    "start_time": "2022-06-22T14:49:12.750Z"
   },
   {
    "duration": 5,
    "start_time": "2022-06-22T14:49:12.767Z"
   },
   {
    "duration": 19,
    "start_time": "2022-06-22T14:49:12.774Z"
   },
   {
    "duration": 4,
    "start_time": "2022-06-22T14:49:12.794Z"
   },
   {
    "duration": 5,
    "start_time": "2022-06-22T14:49:12.800Z"
   },
   {
    "duration": 33,
    "start_time": "2022-06-22T14:49:12.806Z"
   },
   {
    "duration": 30,
    "start_time": "2022-06-22T14:49:12.841Z"
   },
   {
    "duration": 12,
    "start_time": "2022-06-22T14:49:12.872Z"
   },
   {
    "duration": 6,
    "start_time": "2022-06-22T14:49:12.885Z"
   },
   {
    "duration": 2579,
    "start_time": "2022-06-22T14:49:12.894Z"
   },
   {
    "duration": 4942,
    "start_time": "2022-06-22T14:49:15.475Z"
   },
   {
    "duration": 321,
    "start_time": "2022-06-22T14:49:20.418Z"
   },
   {
    "duration": 5981,
    "start_time": "2022-06-22T14:49:20.740Z"
   },
   {
    "duration": 153,
    "start_time": "2022-06-22T14:49:26.723Z"
   },
   {
    "duration": 228,
    "start_time": "2022-06-22T14:49:26.878Z"
   },
   {
    "duration": 1379,
    "start_time": "2022-06-22T14:53:58.737Z"
   },
   {
    "duration": 2,
    "start_time": "2022-06-22T14:54:00.118Z"
   },
   {
    "duration": 68,
    "start_time": "2022-06-22T14:54:00.122Z"
   },
   {
    "duration": 14,
    "start_time": "2022-06-22T14:54:00.191Z"
   },
   {
    "duration": 21,
    "start_time": "2022-06-22T14:54:00.206Z"
   },
   {
    "duration": 4,
    "start_time": "2022-06-22T14:54:00.228Z"
   },
   {
    "duration": 17,
    "start_time": "2022-06-22T14:54:00.234Z"
   },
   {
    "duration": 21,
    "start_time": "2022-06-22T14:54:00.253Z"
   },
   {
    "duration": 14,
    "start_time": "2022-06-22T14:54:00.276Z"
   },
   {
    "duration": 30,
    "start_time": "2022-06-22T14:54:00.292Z"
   },
   {
    "duration": 5,
    "start_time": "2022-06-22T14:54:00.324Z"
   },
   {
    "duration": 37,
    "start_time": "2022-06-22T14:54:00.330Z"
   },
   {
    "duration": 13,
    "start_time": "2022-06-22T14:54:00.368Z"
   },
   {
    "duration": 2651,
    "start_time": "2022-06-22T14:54:00.383Z"
   },
   {
    "duration": 4986,
    "start_time": "2022-06-22T14:54:03.036Z"
   },
   {
    "duration": 372,
    "start_time": "2022-06-22T14:54:08.023Z"
   },
   {
    "duration": 6142,
    "start_time": "2022-06-22T14:54:08.397Z"
   },
   {
    "duration": 163,
    "start_time": "2022-06-22T14:54:14.541Z"
   },
   {
    "duration": 101,
    "start_time": "2022-06-22T14:54:40.703Z"
   },
   {
    "duration": 9,
    "start_time": "2022-06-22T15:00:35.299Z"
   },
   {
    "duration": 2563,
    "start_time": "2022-06-22T15:01:21.700Z"
   },
   {
    "duration": 1308,
    "start_time": "2022-06-22T15:12:40.216Z"
   },
   {
    "duration": 3,
    "start_time": "2022-06-22T15:12:41.526Z"
   },
   {
    "duration": 73,
    "start_time": "2022-06-22T15:12:41.532Z"
   },
   {
    "duration": 16,
    "start_time": "2022-06-22T15:12:41.606Z"
   },
   {
    "duration": 28,
    "start_time": "2022-06-22T15:12:41.626Z"
   },
   {
    "duration": 13,
    "start_time": "2022-06-22T15:12:41.655Z"
   },
   {
    "duration": 15,
    "start_time": "2022-06-22T15:12:41.670Z"
   },
   {
    "duration": 5,
    "start_time": "2022-06-22T15:12:41.687Z"
   },
   {
    "duration": 8,
    "start_time": "2022-06-22T15:12:41.694Z"
   },
   {
    "duration": 39,
    "start_time": "2022-06-22T15:12:41.704Z"
   },
   {
    "duration": 25,
    "start_time": "2022-06-22T15:12:41.745Z"
   },
   {
    "duration": 6,
    "start_time": "2022-06-22T15:12:41.771Z"
   },
   {
    "duration": 128,
    "start_time": "2022-06-22T15:12:41.779Z"
   },
   {
    "duration": 0,
    "start_time": "2022-06-22T15:12:41.909Z"
   },
   {
    "duration": 0,
    "start_time": "2022-06-22T15:12:41.911Z"
   },
   {
    "duration": 0,
    "start_time": "2022-06-22T15:12:41.913Z"
   },
   {
    "duration": 0,
    "start_time": "2022-06-22T15:12:41.914Z"
   },
   {
    "duration": 0,
    "start_time": "2022-06-22T15:12:41.918Z"
   },
   {
    "duration": 0,
    "start_time": "2022-06-22T15:12:41.919Z"
   },
   {
    "duration": 1351,
    "start_time": "2022-06-22T15:13:24.397Z"
   },
   {
    "duration": 3,
    "start_time": "2022-06-22T15:13:25.749Z"
   },
   {
    "duration": 80,
    "start_time": "2022-06-22T15:13:25.753Z"
   },
   {
    "duration": 15,
    "start_time": "2022-06-22T15:13:25.835Z"
   },
   {
    "duration": 22,
    "start_time": "2022-06-22T15:13:25.852Z"
   },
   {
    "duration": 5,
    "start_time": "2022-06-22T15:13:25.876Z"
   },
   {
    "duration": 17,
    "start_time": "2022-06-22T15:13:25.882Z"
   },
   {
    "duration": 4,
    "start_time": "2022-06-22T15:13:25.900Z"
   },
   {
    "duration": 6,
    "start_time": "2022-06-22T15:13:25.905Z"
   },
   {
    "duration": 57,
    "start_time": "2022-06-22T15:13:25.913Z"
   },
   {
    "duration": 4,
    "start_time": "2022-06-22T15:13:25.972Z"
   },
   {
    "duration": 7,
    "start_time": "2022-06-22T15:13:25.977Z"
   },
   {
    "duration": 8,
    "start_time": "2022-06-22T15:13:25.985Z"
   },
   {
    "duration": 127,
    "start_time": "2022-06-22T15:13:25.995Z"
   },
   {
    "duration": 0,
    "start_time": "2022-06-22T15:13:26.123Z"
   },
   {
    "duration": 0,
    "start_time": "2022-06-22T15:13:26.125Z"
   },
   {
    "duration": 0,
    "start_time": "2022-06-22T15:13:26.126Z"
   },
   {
    "duration": 0,
    "start_time": "2022-06-22T15:13:26.127Z"
   },
   {
    "duration": 13,
    "start_time": "2022-06-22T15:15:21.937Z"
   },
   {
    "duration": 52,
    "start_time": "2022-06-22T15:17:45.823Z"
   },
   {
    "duration": 59,
    "start_time": "2022-06-22T15:17:54.413Z"
   },
   {
    "duration": 51,
    "start_time": "2022-06-22T15:18:08.969Z"
   },
   {
    "duration": 19,
    "start_time": "2022-06-22T15:18:53.476Z"
   },
   {
    "duration": 12,
    "start_time": "2022-06-22T15:19:51.431Z"
   },
   {
    "duration": 84,
    "start_time": "2022-06-22T15:21:29.535Z"
   },
   {
    "duration": 78,
    "start_time": "2022-06-22T15:21:41.047Z"
   },
   {
    "duration": 80,
    "start_time": "2022-06-22T15:21:50.011Z"
   },
   {
    "duration": 17,
    "start_time": "2022-06-22T15:22:29.731Z"
   },
   {
    "duration": 14,
    "start_time": "2022-06-22T15:22:55.087Z"
   },
   {
    "duration": 51,
    "start_time": "2022-06-22T15:23:13.424Z"
   },
   {
    "duration": 9,
    "start_time": "2022-06-22T15:23:16.410Z"
   },
   {
    "duration": 9,
    "start_time": "2022-06-22T15:23:56.985Z"
   },
   {
    "duration": 49,
    "start_time": "2022-06-22T15:24:07.912Z"
   },
   {
    "duration": 3,
    "start_time": "2022-06-22T15:24:19.592Z"
   },
   {
    "duration": 4,
    "start_time": "2022-06-22T15:24:28.184Z"
   },
   {
    "duration": 4,
    "start_time": "2022-06-22T15:24:42.487Z"
   },
   {
    "duration": 2421,
    "start_time": "2022-06-22T15:24:55.207Z"
   },
   {
    "duration": 2652,
    "start_time": "2022-06-22T15:25:00.279Z"
   },
   {
    "duration": 2490,
    "start_time": "2022-06-22T15:25:18.095Z"
   },
   {
    "duration": 2438,
    "start_time": "2022-06-22T15:25:27.911Z"
   },
   {
    "duration": 2380,
    "start_time": "2022-06-22T15:25:46.426Z"
   },
   {
    "duration": 2529,
    "start_time": "2022-06-22T15:31:09.811Z"
   },
   {
    "duration": 2455,
    "start_time": "2022-06-22T15:32:11.809Z"
   },
   {
    "duration": 1351,
    "start_time": "2022-06-22T15:33:34.190Z"
   },
   {
    "duration": 3,
    "start_time": "2022-06-22T15:33:35.543Z"
   },
   {
    "duration": 89,
    "start_time": "2022-06-22T15:33:35.547Z"
   },
   {
    "duration": 14,
    "start_time": "2022-06-22T15:33:35.638Z"
   },
   {
    "duration": 33,
    "start_time": "2022-06-22T15:33:35.655Z"
   },
   {
    "duration": 6,
    "start_time": "2022-06-22T15:33:35.690Z"
   },
   {
    "duration": 19,
    "start_time": "2022-06-22T15:33:35.698Z"
   },
   {
    "duration": 6,
    "start_time": "2022-06-22T15:33:35.719Z"
   },
   {
    "duration": 21,
    "start_time": "2022-06-22T15:33:35.726Z"
   },
   {
    "duration": 56,
    "start_time": "2022-06-22T15:33:35.749Z"
   },
   {
    "duration": 5,
    "start_time": "2022-06-22T15:33:35.806Z"
   },
   {
    "duration": 10,
    "start_time": "2022-06-22T15:33:35.813Z"
   },
   {
    "duration": 13,
    "start_time": "2022-06-22T15:33:35.825Z"
   },
   {
    "duration": 13,
    "start_time": "2022-06-22T15:33:35.840Z"
   },
   {
    "duration": 8,
    "start_time": "2022-06-22T15:33:35.855Z"
   },
   {
    "duration": 110,
    "start_time": "2022-06-22T15:33:35.865Z"
   },
   {
    "duration": 0,
    "start_time": "2022-06-22T15:33:35.977Z"
   },
   {
    "duration": 0,
    "start_time": "2022-06-22T15:33:35.978Z"
   },
   {
    "duration": 0,
    "start_time": "2022-06-22T15:33:35.979Z"
   },
   {
    "duration": 0,
    "start_time": "2022-06-22T15:33:35.980Z"
   },
   {
    "duration": 2455,
    "start_time": "2022-06-22T15:34:05.647Z"
   },
   {
    "duration": 6,
    "start_time": "2022-06-22T15:34:25.606Z"
   },
   {
    "duration": 1321,
    "start_time": "2022-06-22T15:34:35.894Z"
   },
   {
    "duration": 3,
    "start_time": "2022-06-22T15:34:37.217Z"
   },
   {
    "duration": 71,
    "start_time": "2022-06-22T15:34:37.221Z"
   },
   {
    "duration": 15,
    "start_time": "2022-06-22T15:34:37.294Z"
   },
   {
    "duration": 19,
    "start_time": "2022-06-22T15:34:37.312Z"
   },
   {
    "duration": 5,
    "start_time": "2022-06-22T15:34:37.333Z"
   },
   {
    "duration": 40,
    "start_time": "2022-06-22T15:34:37.340Z"
   },
   {
    "duration": 7,
    "start_time": "2022-06-22T15:34:37.382Z"
   },
   {
    "duration": 13,
    "start_time": "2022-06-22T15:34:37.391Z"
   },
   {
    "duration": 43,
    "start_time": "2022-06-22T15:34:37.406Z"
   },
   {
    "duration": 5,
    "start_time": "2022-06-22T15:34:37.451Z"
   },
   {
    "duration": 13,
    "start_time": "2022-06-22T15:34:37.458Z"
   },
   {
    "duration": 10,
    "start_time": "2022-06-22T15:34:37.472Z"
   },
   {
    "duration": 9,
    "start_time": "2022-06-22T15:34:37.485Z"
   },
   {
    "duration": 9,
    "start_time": "2022-06-22T15:34:37.495Z"
   },
   {
    "duration": 2667,
    "start_time": "2022-06-22T15:34:37.506Z"
   },
   {
    "duration": 4971,
    "start_time": "2022-06-22T15:34:40.175Z"
   },
   {
    "duration": 346,
    "start_time": "2022-06-22T15:34:45.148Z"
   },
   {
    "duration": 6122,
    "start_time": "2022-06-22T15:34:45.496Z"
   },
   {
    "duration": 159,
    "start_time": "2022-06-22T15:34:51.620Z"
   },
   {
    "duration": 1329,
    "start_time": "2022-06-22T15:42:18.688Z"
   },
   {
    "duration": 2,
    "start_time": "2022-06-22T15:42:20.019Z"
   },
   {
    "duration": 97,
    "start_time": "2022-06-22T15:42:20.023Z"
   },
   {
    "duration": 13,
    "start_time": "2022-06-22T15:42:20.122Z"
   },
   {
    "duration": 16,
    "start_time": "2022-06-22T15:42:20.137Z"
   },
   {
    "duration": 4,
    "start_time": "2022-06-22T15:42:20.154Z"
   },
   {
    "duration": 18,
    "start_time": "2022-06-22T15:42:20.160Z"
   },
   {
    "duration": 5,
    "start_time": "2022-06-22T15:42:20.179Z"
   },
   {
    "duration": 10,
    "start_time": "2022-06-22T15:42:20.185Z"
   },
   {
    "duration": 31,
    "start_time": "2022-06-22T15:42:20.196Z"
   },
   {
    "duration": 4,
    "start_time": "2022-06-22T15:42:20.229Z"
   },
   {
    "duration": 5,
    "start_time": "2022-06-22T15:42:20.235Z"
   },
   {
    "duration": 8,
    "start_time": "2022-06-22T15:42:20.242Z"
   },
   {
    "duration": 2543,
    "start_time": "2022-06-22T15:42:20.268Z"
   },
   {
    "duration": 4873,
    "start_time": "2022-06-22T15:42:22.813Z"
   },
   {
    "duration": 357,
    "start_time": "2022-06-22T15:42:27.688Z"
   },
   {
    "duration": 6336,
    "start_time": "2022-06-22T15:42:28.046Z"
   },
   {
    "duration": 172,
    "start_time": "2022-06-22T15:42:34.384Z"
   },
   {
    "duration": 54,
    "start_time": "2022-06-22T15:48:27.800Z"
   },
   {
    "duration": 97,
    "start_time": "2022-06-22T15:49:56.399Z"
   },
   {
    "duration": 10,
    "start_time": "2022-06-22T15:49:59.474Z"
   },
   {
    "duration": 9,
    "start_time": "2022-06-22T15:50:05.633Z"
   },
   {
    "duration": 10,
    "start_time": "2022-06-22T15:50:15.707Z"
   },
   {
    "duration": 5,
    "start_time": "2022-06-22T15:50:57.574Z"
   },
   {
    "duration": 10,
    "start_time": "2022-06-22T15:54:14.990Z"
   },
   {
    "duration": 10,
    "start_time": "2022-06-22T15:58:14.895Z"
   },
   {
    "duration": 10,
    "start_time": "2022-06-22T16:05:09.966Z"
   },
   {
    "duration": 1638,
    "start_time": "2022-06-23T13:42:53.835Z"
   },
   {
    "duration": 4,
    "start_time": "2022-06-23T13:42:55.475Z"
   },
   {
    "duration": 140,
    "start_time": "2022-06-23T13:42:55.480Z"
   },
   {
    "duration": 15,
    "start_time": "2022-06-23T13:42:55.623Z"
   },
   {
    "duration": 22,
    "start_time": "2022-06-23T13:42:55.640Z"
   },
   {
    "duration": 6,
    "start_time": "2022-06-23T13:42:56.044Z"
   },
   {
    "duration": 23,
    "start_time": "2022-06-23T13:42:56.911Z"
   },
   {
    "duration": 6,
    "start_time": "2022-06-23T13:42:58.604Z"
   },
   {
    "duration": 2,
    "start_time": "2022-06-23T13:42:59.593Z"
   },
   {
    "duration": 31,
    "start_time": "2022-06-23T13:43:00.126Z"
   },
   {
    "duration": 5,
    "start_time": "2022-06-23T13:43:02.088Z"
   },
   {
    "duration": 5,
    "start_time": "2022-06-23T13:43:09.186Z"
   },
   {
    "duration": 5,
    "start_time": "2022-06-23T13:43:17.095Z"
   },
   {
    "duration": 4,
    "start_time": "2022-06-23T13:43:23.151Z"
   },
   {
    "duration": 4,
    "start_time": "2022-06-23T13:45:44.668Z"
   },
   {
    "duration": 138,
    "start_time": "2022-06-23T13:45:48.872Z"
   },
   {
    "duration": 4,
    "start_time": "2022-06-23T13:46:03.969Z"
   },
   {
    "duration": 9,
    "start_time": "2022-06-23T13:46:06.101Z"
   },
   {
    "duration": 6,
    "start_time": "2022-06-23T13:46:23.548Z"
   },
   {
    "duration": 5,
    "start_time": "2022-06-23T13:46:35.447Z"
   },
   {
    "duration": 5,
    "start_time": "2022-06-23T13:46:48.951Z"
   },
   {
    "duration": 3,
    "start_time": "2022-06-23T13:46:52.648Z"
   },
   {
    "duration": 4,
    "start_time": "2022-06-23T13:46:57.083Z"
   },
   {
    "duration": 6,
    "start_time": "2022-06-23T14:00:23.270Z"
   },
   {
    "duration": 4,
    "start_time": "2022-06-23T14:00:27.815Z"
   },
   {
    "duration": 2904,
    "start_time": "2022-06-23T14:00:29.668Z"
   },
   {
    "duration": 6,
    "start_time": "2022-06-23T14:01:00.698Z"
   },
   {
    "duration": 4,
    "start_time": "2022-06-23T14:01:03.664Z"
   },
   {
    "duration": 147435,
    "start_time": "2022-06-23T14:01:04.590Z"
   },
   {
    "duration": 36825,
    "start_time": "2022-06-23T14:05:35.934Z"
   },
   {
    "duration": 1469,
    "start_time": "2022-06-23T14:07:15.771Z"
   },
   {
    "duration": 3,
    "start_time": "2022-06-23T14:07:17.242Z"
   },
   {
    "duration": 88,
    "start_time": "2022-06-23T14:07:17.247Z"
   },
   {
    "duration": 14,
    "start_time": "2022-06-23T14:07:17.338Z"
   },
   {
    "duration": 18,
    "start_time": "2022-06-23T14:07:17.354Z"
   },
   {
    "duration": 4,
    "start_time": "2022-06-23T14:07:17.373Z"
   },
   {
    "duration": 17,
    "start_time": "2022-06-23T14:07:17.379Z"
   },
   {
    "duration": 6,
    "start_time": "2022-06-23T14:07:17.397Z"
   },
   {
    "duration": 9,
    "start_time": "2022-06-23T14:07:17.404Z"
   },
   {
    "duration": 51,
    "start_time": "2022-06-23T14:07:17.416Z"
   },
   {
    "duration": 5,
    "start_time": "2022-06-23T14:07:17.470Z"
   },
   {
    "duration": 7,
    "start_time": "2022-06-23T14:07:17.477Z"
   },
   {
    "duration": 8,
    "start_time": "2022-06-23T14:07:17.486Z"
   },
   {
    "duration": 900,
    "start_time": "2022-06-23T14:07:17.495Z"
   },
   {
    "duration": 0,
    "start_time": "2022-06-23T14:07:18.397Z"
   },
   {
    "duration": 0,
    "start_time": "2022-06-23T14:07:18.398Z"
   },
   {
    "duration": 0,
    "start_time": "2022-06-23T14:07:18.400Z"
   },
   {
    "duration": 0,
    "start_time": "2022-06-23T14:07:18.401Z"
   },
   {
    "duration": 1511,
    "start_time": "2022-06-23T17:08:56.617Z"
   },
   {
    "duration": 4,
    "start_time": "2022-06-23T17:08:58.130Z"
   },
   {
    "duration": 114,
    "start_time": "2022-06-23T17:08:58.135Z"
   },
   {
    "duration": 13,
    "start_time": "2022-06-23T17:08:58.251Z"
   },
   {
    "duration": 16,
    "start_time": "2022-06-23T17:08:58.265Z"
   },
   {
    "duration": 4,
    "start_time": "2022-06-23T17:08:58.282Z"
   },
   {
    "duration": 16,
    "start_time": "2022-06-23T17:08:58.288Z"
   },
   {
    "duration": 5,
    "start_time": "2022-06-23T17:08:58.305Z"
   },
   {
    "duration": 3,
    "start_time": "2022-06-23T17:08:58.323Z"
   },
   {
    "duration": 29,
    "start_time": "2022-06-23T17:08:58.329Z"
   },
   {
    "duration": 5,
    "start_time": "2022-06-23T17:08:58.360Z"
   },
   {
    "duration": 6,
    "start_time": "2022-06-23T17:08:58.366Z"
   },
   {
    "duration": 9,
    "start_time": "2022-06-23T17:08:58.373Z"
   },
   {
    "duration": 141222,
    "start_time": "2022-06-23T17:08:58.383Z"
   },
   {
    "duration": 33393,
    "start_time": "2022-06-23T17:11:19.606Z"
   },
   {
    "duration": 2012,
    "start_time": "2022-06-23T17:11:53.000Z"
   },
   {
    "duration": 6157,
    "start_time": "2022-06-23T17:11:55.014Z"
   },
   {
    "duration": 236,
    "start_time": "2022-06-23T17:12:01.173Z"
   },
   {
    "duration": 1327,
    "start_time": "2022-06-23T17:13:14.784Z"
   },
   {
    "duration": 3,
    "start_time": "2022-06-23T17:13:16.113Z"
   },
   {
    "duration": 98,
    "start_time": "2022-06-23T17:13:16.117Z"
   },
   {
    "duration": 13,
    "start_time": "2022-06-23T17:13:16.217Z"
   },
   {
    "duration": 17,
    "start_time": "2022-06-23T17:13:16.232Z"
   },
   {
    "duration": 4,
    "start_time": "2022-06-23T17:13:16.251Z"
   },
   {
    "duration": 17,
    "start_time": "2022-06-23T17:13:16.256Z"
   },
   {
    "duration": 4,
    "start_time": "2022-06-23T17:13:16.275Z"
   },
   {
    "duration": 8,
    "start_time": "2022-06-23T17:13:16.281Z"
   },
   {
    "duration": 53,
    "start_time": "2022-06-23T17:13:16.291Z"
   },
   {
    "duration": 5,
    "start_time": "2022-06-23T17:13:16.346Z"
   },
   {
    "duration": 56,
    "start_time": "2022-06-23T17:13:16.353Z"
   },
   {
    "duration": 0,
    "start_time": "2022-06-23T17:13:16.411Z"
   },
   {
    "duration": 0,
    "start_time": "2022-06-23T17:13:16.412Z"
   },
   {
    "duration": 0,
    "start_time": "2022-06-23T17:13:16.414Z"
   },
   {
    "duration": 0,
    "start_time": "2022-06-23T17:13:16.415Z"
   },
   {
    "duration": 0,
    "start_time": "2022-06-23T17:13:16.416Z"
   },
   {
    "duration": 0,
    "start_time": "2022-06-23T17:13:16.418Z"
   },
   {
    "duration": 1372,
    "start_time": "2022-06-23T17:14:06.934Z"
   },
   {
    "duration": 3,
    "start_time": "2022-06-23T17:14:08.308Z"
   },
   {
    "duration": 67,
    "start_time": "2022-06-23T17:14:08.312Z"
   },
   {
    "duration": 13,
    "start_time": "2022-06-23T17:14:08.382Z"
   },
   {
    "duration": 19,
    "start_time": "2022-06-23T17:14:08.396Z"
   },
   {
    "duration": 3,
    "start_time": "2022-06-23T17:14:08.417Z"
   },
   {
    "duration": 15,
    "start_time": "2022-06-23T17:14:08.422Z"
   },
   {
    "duration": 13,
    "start_time": "2022-06-23T17:14:08.439Z"
   },
   {
    "duration": 11,
    "start_time": "2022-06-23T17:14:08.454Z"
   },
   {
    "duration": 28,
    "start_time": "2022-06-23T17:14:08.467Z"
   },
   {
    "duration": 4,
    "start_time": "2022-06-23T17:14:08.496Z"
   },
   {
    "duration": 5,
    "start_time": "2022-06-23T17:14:08.501Z"
   },
   {
    "duration": 15,
    "start_time": "2022-06-23T17:14:08.508Z"
   },
   {
    "duration": 139603,
    "start_time": "2022-06-23T17:14:08.524Z"
   },
   {
    "duration": 32716,
    "start_time": "2022-06-23T17:16:28.129Z"
   },
   {
    "duration": 2038,
    "start_time": "2022-06-23T17:17:00.847Z"
   },
   {
    "duration": 6420,
    "start_time": "2022-06-23T17:17:02.887Z"
   },
   {
    "duration": 226,
    "start_time": "2022-06-23T17:17:09.308Z"
   },
   {
    "duration": 1383,
    "start_time": "2022-06-23T17:20:12.287Z"
   },
   {
    "duration": 3,
    "start_time": "2022-06-23T17:20:13.672Z"
   },
   {
    "duration": 72,
    "start_time": "2022-06-23T17:20:13.676Z"
   },
   {
    "duration": 13,
    "start_time": "2022-06-23T17:20:13.750Z"
   },
   {
    "duration": 18,
    "start_time": "2022-06-23T17:20:13.765Z"
   },
   {
    "duration": 5,
    "start_time": "2022-06-23T17:20:13.785Z"
   },
   {
    "duration": 32,
    "start_time": "2022-06-23T17:20:13.791Z"
   },
   {
    "duration": 5,
    "start_time": "2022-06-23T17:20:13.825Z"
   },
   {
    "duration": 7,
    "start_time": "2022-06-23T17:20:13.832Z"
   },
   {
    "duration": 30,
    "start_time": "2022-06-23T17:20:13.840Z"
   },
   {
    "duration": 5,
    "start_time": "2022-06-23T17:20:13.872Z"
   },
   {
    "duration": 6,
    "start_time": "2022-06-23T17:20:13.878Z"
   },
   {
    "duration": 10,
    "start_time": "2022-06-23T17:20:13.885Z"
   },
   {
    "duration": 140482,
    "start_time": "2022-06-23T17:20:13.897Z"
   },
   {
    "duration": 32908,
    "start_time": "2022-06-23T17:22:34.381Z"
   },
   {
    "duration": 2021,
    "start_time": "2022-06-23T17:23:07.290Z"
   },
   {
    "duration": 6194,
    "start_time": "2022-06-23T17:23:09.312Z"
   },
   {
    "duration": 233,
    "start_time": "2022-06-23T17:23:15.508Z"
   },
   {
    "duration": 1351,
    "start_time": "2022-06-23T17:24:48.750Z"
   },
   {
    "duration": 3,
    "start_time": "2022-06-23T17:24:50.103Z"
   },
   {
    "duration": 66,
    "start_time": "2022-06-23T17:24:50.108Z"
   },
   {
    "duration": 13,
    "start_time": "2022-06-23T17:24:50.176Z"
   },
   {
    "duration": 15,
    "start_time": "2022-06-23T17:24:50.191Z"
   },
   {
    "duration": 4,
    "start_time": "2022-06-23T17:24:50.208Z"
   },
   {
    "duration": 17,
    "start_time": "2022-06-23T17:24:50.214Z"
   },
   {
    "duration": 5,
    "start_time": "2022-06-23T17:24:50.232Z"
   },
   {
    "duration": 7,
    "start_time": "2022-06-23T17:24:50.238Z"
   },
   {
    "duration": 29,
    "start_time": "2022-06-23T17:24:50.248Z"
   },
   {
    "duration": 5,
    "start_time": "2022-06-23T17:24:50.279Z"
   },
   {
    "duration": 6,
    "start_time": "2022-06-23T17:24:50.285Z"
   },
   {
    "duration": 7,
    "start_time": "2022-06-23T17:24:50.292Z"
   },
   {
    "duration": 142102,
    "start_time": "2022-06-23T17:24:50.301Z"
   },
   {
    "duration": 33271,
    "start_time": "2022-06-23T17:27:12.405Z"
   },
   {
    "duration": 1932,
    "start_time": "2022-06-23T17:27:45.677Z"
   },
   {
    "duration": 6276,
    "start_time": "2022-06-23T17:27:47.610Z"
   },
   {
    "duration": 223,
    "start_time": "2022-06-23T17:27:53.888Z"
   },
   {
    "duration": 1272,
    "start_time": "2022-06-23T17:33:34.360Z"
   },
   {
    "duration": 2,
    "start_time": "2022-06-23T17:33:35.635Z"
   },
   {
    "duration": 70,
    "start_time": "2022-06-23T17:33:35.638Z"
   },
   {
    "duration": 13,
    "start_time": "2022-06-23T17:33:35.710Z"
   },
   {
    "duration": 17,
    "start_time": "2022-06-23T17:33:35.725Z"
   },
   {
    "duration": 4,
    "start_time": "2022-06-23T17:33:35.744Z"
   },
   {
    "duration": 18,
    "start_time": "2022-06-23T17:33:35.750Z"
   },
   {
    "duration": 5,
    "start_time": "2022-06-23T17:33:35.769Z"
   },
   {
    "duration": 9,
    "start_time": "2022-06-23T17:33:35.775Z"
   },
   {
    "duration": 55,
    "start_time": "2022-06-23T17:33:35.786Z"
   },
   {
    "duration": 5,
    "start_time": "2022-06-23T17:33:35.842Z"
   },
   {
    "duration": 59,
    "start_time": "2022-06-23T17:33:35.849Z"
   },
   {
    "duration": 0,
    "start_time": "2022-06-23T17:33:35.922Z"
   },
   {
    "duration": 0,
    "start_time": "2022-06-23T17:33:35.923Z"
   },
   {
    "duration": 0,
    "start_time": "2022-06-23T17:33:35.926Z"
   },
   {
    "duration": 0,
    "start_time": "2022-06-23T17:33:35.927Z"
   },
   {
    "duration": 0,
    "start_time": "2022-06-23T17:33:35.929Z"
   },
   {
    "duration": 0,
    "start_time": "2022-06-23T17:33:35.930Z"
   },
   {
    "duration": 51,
    "start_time": "2022-06-23T17:33:52.763Z"
   },
   {
    "duration": 52,
    "start_time": "2022-06-23T17:34:01.349Z"
   },
   {
    "duration": 52,
    "start_time": "2022-06-23T17:34:08.134Z"
   },
   {
    "duration": 6,
    "start_time": "2022-06-23T17:34:13.704Z"
   },
   {
    "duration": 1407,
    "start_time": "2022-06-23T17:34:18.234Z"
   },
   {
    "duration": 3,
    "start_time": "2022-06-23T17:34:19.643Z"
   },
   {
    "duration": 82,
    "start_time": "2022-06-23T17:34:19.648Z"
   },
   {
    "duration": 13,
    "start_time": "2022-06-23T17:34:19.733Z"
   },
   {
    "duration": 19,
    "start_time": "2022-06-23T17:34:19.747Z"
   },
   {
    "duration": 4,
    "start_time": "2022-06-23T17:34:19.767Z"
   },
   {
    "duration": 15,
    "start_time": "2022-06-23T17:34:19.773Z"
   },
   {
    "duration": 33,
    "start_time": "2022-06-23T17:34:19.790Z"
   },
   {
    "duration": 9,
    "start_time": "2022-06-23T17:34:19.825Z"
   },
   {
    "duration": 33,
    "start_time": "2022-06-23T17:34:19.836Z"
   },
   {
    "duration": 4,
    "start_time": "2022-06-23T17:34:19.871Z"
   },
   {
    "duration": 6,
    "start_time": "2022-06-23T17:34:19.877Z"
   },
   {
    "duration": 7,
    "start_time": "2022-06-23T17:34:19.885Z"
   },
   {
    "duration": 148055,
    "start_time": "2022-06-23T17:34:19.894Z"
   },
   {
    "duration": 0,
    "start_time": "2022-06-23T17:36:47.950Z"
   },
   {
    "duration": 0,
    "start_time": "2022-06-23T17:36:47.952Z"
   },
   {
    "duration": 0,
    "start_time": "2022-06-23T17:36:47.953Z"
   },
   {
    "duration": 0,
    "start_time": "2022-06-23T17:36:47.954Z"
   },
   {
    "duration": 9,
    "start_time": "2022-06-23T17:37:33.933Z"
   },
   {
    "duration": 1372,
    "start_time": "2022-06-23T17:40:58.427Z"
   },
   {
    "duration": 3,
    "start_time": "2022-06-23T17:40:59.801Z"
   },
   {
    "duration": 63,
    "start_time": "2022-06-23T17:40:59.806Z"
   },
   {
    "duration": 15,
    "start_time": "2022-06-23T17:40:59.871Z"
   },
   {
    "duration": 16,
    "start_time": "2022-06-23T17:40:59.887Z"
   },
   {
    "duration": 4,
    "start_time": "2022-06-23T17:40:59.905Z"
   },
   {
    "duration": 17,
    "start_time": "2022-06-23T17:40:59.910Z"
   },
   {
    "duration": 5,
    "start_time": "2022-06-23T17:40:59.928Z"
   },
   {
    "duration": 8,
    "start_time": "2022-06-23T17:40:59.934Z"
   },
   {
    "duration": 35,
    "start_time": "2022-06-23T17:40:59.945Z"
   },
   {
    "duration": 5,
    "start_time": "2022-06-23T17:40:59.981Z"
   },
   {
    "duration": 6,
    "start_time": "2022-06-23T17:40:59.987Z"
   },
   {
    "duration": 34,
    "start_time": "2022-06-23T17:40:59.994Z"
   },
   {
    "duration": 145393,
    "start_time": "2022-06-23T17:41:00.030Z"
   },
   {
    "duration": 39234,
    "start_time": "2022-06-23T17:43:25.425Z"
   },
   {
    "duration": 2337,
    "start_time": "2022-06-23T17:44:04.661Z"
   },
   {
    "duration": 6282,
    "start_time": "2022-06-23T17:44:06.999Z"
   },
   {
    "duration": 158,
    "start_time": "2022-06-23T17:44:13.282Z"
   },
   {
    "duration": 1318,
    "start_time": "2022-06-23T17:48:22.168Z"
   },
   {
    "duration": 3,
    "start_time": "2022-06-23T17:48:23.488Z"
   },
   {
    "duration": 65,
    "start_time": "2022-06-23T17:48:23.492Z"
   },
   {
    "duration": 12,
    "start_time": "2022-06-23T17:48:23.560Z"
   },
   {
    "duration": 15,
    "start_time": "2022-06-23T17:48:23.574Z"
   },
   {
    "duration": 4,
    "start_time": "2022-06-23T17:48:23.591Z"
   },
   {
    "duration": 15,
    "start_time": "2022-06-23T17:48:23.596Z"
   },
   {
    "duration": 11,
    "start_time": "2022-06-23T17:48:23.612Z"
   },
   {
    "duration": 9,
    "start_time": "2022-06-23T17:48:23.625Z"
   },
   {
    "duration": 27,
    "start_time": "2022-06-23T17:48:23.636Z"
   },
   {
    "duration": 4,
    "start_time": "2022-06-23T17:48:23.665Z"
   },
   {
    "duration": 4,
    "start_time": "2022-06-23T17:48:23.670Z"
   },
   {
    "duration": 8,
    "start_time": "2022-06-23T17:48:23.676Z"
   },
   {
    "duration": 146556,
    "start_time": "2022-06-23T17:48:23.685Z"
   },
   {
    "duration": 19687,
    "start_time": "2022-06-23T17:50:50.242Z"
   },
   {
    "duration": 0,
    "start_time": "2022-06-23T17:51:09.932Z"
   },
   {
    "duration": 0,
    "start_time": "2022-06-23T17:51:09.933Z"
   },
   {
    "duration": 0,
    "start_time": "2022-06-23T17:51:09.935Z"
   },
   {
    "duration": 1302,
    "start_time": "2022-06-23T17:51:37.175Z"
   },
   {
    "duration": 3,
    "start_time": "2022-06-23T17:51:38.479Z"
   },
   {
    "duration": 67,
    "start_time": "2022-06-23T17:51:38.483Z"
   },
   {
    "duration": 12,
    "start_time": "2022-06-23T17:51:38.552Z"
   },
   {
    "duration": 16,
    "start_time": "2022-06-23T17:51:38.566Z"
   },
   {
    "duration": 4,
    "start_time": "2022-06-23T17:51:38.584Z"
   },
   {
    "duration": 18,
    "start_time": "2022-06-23T17:51:38.590Z"
   },
   {
    "duration": 13,
    "start_time": "2022-06-23T17:51:38.610Z"
   },
   {
    "duration": 11,
    "start_time": "2022-06-23T17:51:38.624Z"
   },
   {
    "duration": 38,
    "start_time": "2022-06-23T17:51:38.637Z"
   },
   {
    "duration": 4,
    "start_time": "2022-06-23T17:51:38.676Z"
   },
   {
    "duration": 11,
    "start_time": "2022-06-23T17:51:38.681Z"
   },
   {
    "duration": 10,
    "start_time": "2022-06-23T17:51:38.693Z"
   },
   {
    "duration": 145647,
    "start_time": "2022-06-23T17:51:38.705Z"
   },
   {
    "duration": 40082,
    "start_time": "2022-06-23T17:54:04.354Z"
   },
   {
    "duration": 2361,
    "start_time": "2022-06-23T17:54:44.438Z"
   },
   {
    "duration": 6394,
    "start_time": "2022-06-23T17:54:46.801Z"
   },
   {
    "duration": 168,
    "start_time": "2022-06-23T17:54:53.197Z"
   },
   {
    "duration": 1287,
    "start_time": "2022-06-23T17:57:34.850Z"
   },
   {
    "duration": 2,
    "start_time": "2022-06-23T17:57:36.140Z"
   },
   {
    "duration": 66,
    "start_time": "2022-06-23T17:57:36.143Z"
   },
   {
    "duration": 13,
    "start_time": "2022-06-23T17:57:36.211Z"
   },
   {
    "duration": 17,
    "start_time": "2022-06-23T17:57:36.225Z"
   },
   {
    "duration": 4,
    "start_time": "2022-06-23T17:57:36.244Z"
   },
   {
    "duration": 21,
    "start_time": "2022-06-23T17:57:36.250Z"
   },
   {
    "duration": 4,
    "start_time": "2022-06-23T17:57:36.272Z"
   },
   {
    "duration": 14,
    "start_time": "2022-06-23T17:57:36.278Z"
   },
   {
    "duration": 44,
    "start_time": "2022-06-23T17:57:36.295Z"
   },
   {
    "duration": 5,
    "start_time": "2022-06-23T17:57:36.341Z"
   },
   {
    "duration": 8,
    "start_time": "2022-06-23T17:57:36.348Z"
   },
   {
    "duration": 13,
    "start_time": "2022-06-23T17:57:36.358Z"
   },
   {
    "duration": 145667,
    "start_time": "2022-06-23T17:57:36.373Z"
   },
   {
    "duration": 0,
    "start_time": "2022-06-23T18:00:02.042Z"
   },
   {
    "duration": 0,
    "start_time": "2022-06-23T18:00:02.043Z"
   },
   {
    "duration": 0,
    "start_time": "2022-06-23T18:00:02.044Z"
   },
   {
    "duration": 0,
    "start_time": "2022-06-23T18:00:02.045Z"
   },
   {
    "duration": 1411,
    "start_time": "2022-06-23T18:03:37.849Z"
   },
   {
    "duration": 3,
    "start_time": "2022-06-23T18:03:39.263Z"
   },
   {
    "duration": 92,
    "start_time": "2022-06-23T18:03:39.267Z"
   },
   {
    "duration": 17,
    "start_time": "2022-06-23T18:03:39.362Z"
   },
   {
    "duration": 21,
    "start_time": "2022-06-23T18:03:39.381Z"
   },
   {
    "duration": 11,
    "start_time": "2022-06-23T18:03:39.404Z"
   },
   {
    "duration": 22,
    "start_time": "2022-06-23T18:03:39.416Z"
   },
   {
    "duration": 4,
    "start_time": "2022-06-23T18:03:39.440Z"
   },
   {
    "duration": 9,
    "start_time": "2022-06-23T18:03:39.446Z"
   },
   {
    "duration": 34,
    "start_time": "2022-06-23T18:03:39.457Z"
   },
   {
    "duration": 6,
    "start_time": "2022-06-23T18:03:39.492Z"
   },
   {
    "duration": 24,
    "start_time": "2022-06-23T18:03:39.499Z"
   },
   {
    "duration": 9,
    "start_time": "2022-06-23T18:03:39.525Z"
   },
   {
    "duration": 142995,
    "start_time": "2022-06-23T18:03:39.536Z"
   },
   {
    "duration": 39291,
    "start_time": "2022-06-23T18:06:02.533Z"
   },
   {
    "duration": 2299,
    "start_time": "2022-06-23T18:06:41.826Z"
   },
   {
    "duration": 6093,
    "start_time": "2022-06-23T18:06:44.127Z"
   },
   {
    "duration": 167,
    "start_time": "2022-06-23T18:06:50.222Z"
   },
   {
    "duration": 1379,
    "start_time": "2022-06-23T18:26:21.269Z"
   },
   {
    "duration": 3,
    "start_time": "2022-06-23T18:26:22.650Z"
   },
   {
    "duration": 80,
    "start_time": "2022-06-23T18:26:22.654Z"
   },
   {
    "duration": 15,
    "start_time": "2022-06-23T18:26:22.736Z"
   },
   {
    "duration": 18,
    "start_time": "2022-06-23T18:26:22.753Z"
   },
   {
    "duration": 4,
    "start_time": "2022-06-23T18:26:22.773Z"
   },
   {
    "duration": 15,
    "start_time": "2022-06-23T18:26:22.779Z"
   },
   {
    "duration": 30,
    "start_time": "2022-06-23T18:26:22.796Z"
   },
   {
    "duration": 11,
    "start_time": "2022-06-23T18:26:22.828Z"
   },
   {
    "duration": 36,
    "start_time": "2022-06-23T18:26:22.842Z"
   },
   {
    "duration": 4,
    "start_time": "2022-06-23T18:26:22.879Z"
   },
   {
    "duration": 7,
    "start_time": "2022-06-23T18:26:22.885Z"
   },
   {
    "duration": 11,
    "start_time": "2022-06-23T18:26:22.893Z"
   },
   {
    "duration": 141621,
    "start_time": "2022-06-23T18:26:22.905Z"
   },
   {
    "duration": 39826,
    "start_time": "2022-06-23T18:28:44.528Z"
   },
   {
    "duration": 2357,
    "start_time": "2022-06-23T18:29:24.356Z"
   },
   {
    "duration": 6292,
    "start_time": "2022-06-23T18:29:26.715Z"
   },
   {
    "duration": 168,
    "start_time": "2022-06-23T18:29:33.008Z"
   },
   {
    "duration": 1327,
    "start_time": "2022-06-23T18:45:55.636Z"
   },
   {
    "duration": 3,
    "start_time": "2022-06-23T18:45:56.965Z"
   },
   {
    "duration": 68,
    "start_time": "2022-06-23T18:45:56.969Z"
   },
   {
    "duration": 13,
    "start_time": "2022-06-23T18:45:57.039Z"
   },
   {
    "duration": 16,
    "start_time": "2022-06-23T18:45:57.053Z"
   },
   {
    "duration": 4,
    "start_time": "2022-06-23T18:45:57.071Z"
   },
   {
    "duration": 26,
    "start_time": "2022-06-23T18:45:57.077Z"
   },
   {
    "duration": 20,
    "start_time": "2022-06-23T18:45:57.105Z"
   },
   {
    "duration": 25,
    "start_time": "2022-06-23T18:45:57.126Z"
   },
   {
    "duration": 33,
    "start_time": "2022-06-23T18:45:57.154Z"
   },
   {
    "duration": 4,
    "start_time": "2022-06-23T18:45:57.189Z"
   },
   {
    "duration": 8,
    "start_time": "2022-06-23T18:45:57.194Z"
   },
   {
    "duration": 16,
    "start_time": "2022-06-23T18:45:57.204Z"
   },
   {
    "duration": 1950,
    "start_time": "2022-06-23T18:45:57.222Z"
   },
   {
    "duration": 0,
    "start_time": "2022-06-23T18:45:59.174Z"
   },
   {
    "duration": 0,
    "start_time": "2022-06-23T18:45:59.175Z"
   },
   {
    "duration": 0,
    "start_time": "2022-06-23T18:45:59.175Z"
   },
   {
    "duration": 0,
    "start_time": "2022-06-23T18:45:59.176Z"
   },
   {
    "duration": 1275,
    "start_time": "2022-06-23T18:48:57.613Z"
   },
   {
    "duration": 2,
    "start_time": "2022-06-23T18:48:58.890Z"
   },
   {
    "duration": 67,
    "start_time": "2022-06-23T18:48:58.894Z"
   },
   {
    "duration": 14,
    "start_time": "2022-06-23T18:48:58.963Z"
   },
   {
    "duration": 22,
    "start_time": "2022-06-23T18:48:58.980Z"
   },
   {
    "duration": 6,
    "start_time": "2022-06-23T18:48:59.004Z"
   },
   {
    "duration": 30,
    "start_time": "2022-06-23T18:48:59.012Z"
   },
   {
    "duration": 4,
    "start_time": "2022-06-23T18:48:59.044Z"
   },
   {
    "duration": 7,
    "start_time": "2022-06-23T18:48:59.050Z"
   },
   {
    "duration": 31,
    "start_time": "2022-06-23T18:48:59.059Z"
   },
   {
    "duration": 5,
    "start_time": "2022-06-23T18:48:59.092Z"
   },
   {
    "duration": 7,
    "start_time": "2022-06-23T18:48:59.098Z"
   },
   {
    "duration": 17,
    "start_time": "2022-06-23T18:48:59.106Z"
   },
   {
    "duration": 1394,
    "start_time": "2022-06-23T18:49:51.308Z"
   },
   {
    "duration": 3,
    "start_time": "2022-06-23T18:49:52.705Z"
   },
   {
    "duration": 96,
    "start_time": "2022-06-23T18:49:52.712Z"
   },
   {
    "duration": 19,
    "start_time": "2022-06-23T18:49:52.810Z"
   },
   {
    "duration": 20,
    "start_time": "2022-06-23T18:49:52.832Z"
   },
   {
    "duration": 4,
    "start_time": "2022-06-23T18:49:52.853Z"
   },
   {
    "duration": 16,
    "start_time": "2022-06-23T18:49:52.859Z"
   },
   {
    "duration": 5,
    "start_time": "2022-06-23T18:49:52.876Z"
   },
   {
    "duration": 7,
    "start_time": "2022-06-23T18:49:52.883Z"
   },
   {
    "duration": 56,
    "start_time": "2022-06-23T18:49:52.891Z"
   },
   {
    "duration": 5,
    "start_time": "2022-06-23T18:49:52.948Z"
   },
   {
    "duration": 8,
    "start_time": "2022-06-23T18:49:52.954Z"
   },
   {
    "duration": 10,
    "start_time": "2022-06-23T18:49:52.964Z"
   },
   {
    "duration": 142827,
    "start_time": "2022-06-23T18:49:52.975Z"
   },
   {
    "duration": 39158,
    "start_time": "2022-06-23T18:52:15.804Z"
   },
   {
    "duration": 2402,
    "start_time": "2022-06-23T18:52:54.964Z"
   },
   {
    "duration": 6211,
    "start_time": "2022-06-23T18:52:57.368Z"
   },
   {
    "duration": 168,
    "start_time": "2022-06-23T18:53:03.580Z"
   },
   {
    "duration": 1380,
    "start_time": "2022-06-23T19:00:21.525Z"
   },
   {
    "duration": 2,
    "start_time": "2022-06-23T19:00:22.908Z"
   },
   {
    "duration": 75,
    "start_time": "2022-06-23T19:00:22.912Z"
   },
   {
    "duration": 13,
    "start_time": "2022-06-23T19:00:22.990Z"
   },
   {
    "duration": 27,
    "start_time": "2022-06-23T19:00:23.005Z"
   },
   {
    "duration": 7,
    "start_time": "2022-06-23T19:00:23.033Z"
   },
   {
    "duration": 17,
    "start_time": "2022-06-23T19:00:23.041Z"
   },
   {
    "duration": 4,
    "start_time": "2022-06-23T19:00:23.060Z"
   },
   {
    "duration": 16,
    "start_time": "2022-06-23T19:00:23.066Z"
   },
   {
    "duration": 30,
    "start_time": "2022-06-23T19:00:23.085Z"
   },
   {
    "duration": 5,
    "start_time": "2022-06-23T19:00:23.123Z"
   },
   {
    "duration": 6,
    "start_time": "2022-06-23T19:00:23.129Z"
   },
   {
    "duration": 14,
    "start_time": "2022-06-23T19:00:23.136Z"
   },
   {
    "duration": 1468,
    "start_time": "2022-06-24T08:28:03.282Z"
   },
   {
    "duration": 2,
    "start_time": "2022-06-24T08:28:04.752Z"
   },
   {
    "duration": 123,
    "start_time": "2022-06-24T08:28:04.756Z"
   },
   {
    "duration": 14,
    "start_time": "2022-06-24T08:28:04.881Z"
   },
   {
    "duration": 19,
    "start_time": "2022-06-24T08:28:04.897Z"
   },
   {
    "duration": 4,
    "start_time": "2022-06-24T08:28:04.918Z"
   },
   {
    "duration": 19,
    "start_time": "2022-06-24T08:28:05.427Z"
   },
   {
    "duration": 6,
    "start_time": "2022-06-24T08:28:06.367Z"
   },
   {
    "duration": 3,
    "start_time": "2022-06-24T08:28:07.153Z"
   },
   {
    "duration": 37,
    "start_time": "2022-06-24T08:28:07.366Z"
   },
   {
    "duration": 6,
    "start_time": "2022-06-24T08:28:09.665Z"
   },
   {
    "duration": 10,
    "start_time": "2022-06-24T08:28:13.083Z"
   },
   {
    "duration": 6,
    "start_time": "2022-06-24T08:28:18.971Z"
   },
   {
    "duration": 3588,
    "start_time": "2022-06-24T08:28:19.894Z"
   },
   {
    "duration": 6,
    "start_time": "2022-06-24T08:29:29.903Z"
   },
   {
    "duration": 2886,
    "start_time": "2022-06-24T08:29:34.912Z"
   },
   {
    "duration": 1787,
    "start_time": "2022-06-24T08:47:26.092Z"
   },
   {
    "duration": 5,
    "start_time": "2022-06-24T08:47:27.882Z"
   },
   {
    "duration": 292,
    "start_time": "2022-06-24T08:47:27.888Z"
   },
   {
    "duration": 14,
    "start_time": "2022-06-24T08:47:28.183Z"
   },
   {
    "duration": 16,
    "start_time": "2022-06-24T08:47:28.199Z"
   },
   {
    "duration": 4,
    "start_time": "2022-06-24T08:47:28.217Z"
   },
   {
    "duration": 48,
    "start_time": "2022-06-24T08:47:28.222Z"
   },
   {
    "duration": 14,
    "start_time": "2022-06-24T08:47:28.275Z"
   },
   {
    "duration": 10,
    "start_time": "2022-06-24T08:47:28.291Z"
   },
   {
    "duration": 57,
    "start_time": "2022-06-24T08:47:28.302Z"
   },
   {
    "duration": 7,
    "start_time": "2022-06-24T08:47:28.361Z"
   },
   {
    "duration": 21,
    "start_time": "2022-06-24T08:47:28.369Z"
   },
   {
    "duration": 9,
    "start_time": "2022-06-24T08:47:28.392Z"
   },
   {
    "duration": 179922,
    "start_time": "2022-06-24T08:47:28.403Z"
   },
   {
    "duration": 46671,
    "start_time": "2022-06-24T08:50:28.344Z"
   },
   {
    "duration": 2796,
    "start_time": "2022-06-24T08:51:15.017Z"
   },
   {
    "duration": 7608,
    "start_time": "2022-06-24T08:51:17.814Z"
   },
   {
    "duration": 236,
    "start_time": "2022-06-24T08:51:25.423Z"
   },
   {
    "duration": 1407,
    "start_time": "2022-06-24T10:20:49.182Z"
   },
   {
    "duration": 3,
    "start_time": "2022-06-24T10:20:50.591Z"
   },
   {
    "duration": 103,
    "start_time": "2022-06-24T10:20:50.596Z"
   },
   {
    "duration": 13,
    "start_time": "2022-06-24T10:20:50.702Z"
   },
   {
    "duration": 48,
    "start_time": "2022-06-24T10:20:50.716Z"
   },
   {
    "duration": 6,
    "start_time": "2022-06-24T10:20:50.766Z"
   },
   {
    "duration": 41,
    "start_time": "2022-06-24T10:20:50.774Z"
   },
   {
    "duration": 36,
    "start_time": "2022-06-24T10:20:50.816Z"
   },
   {
    "duration": 15,
    "start_time": "2022-06-24T10:20:50.854Z"
   },
   {
    "duration": 40,
    "start_time": "2022-06-24T10:20:50.872Z"
   },
   {
    "duration": 5,
    "start_time": "2022-06-24T10:20:50.914Z"
   },
   {
    "duration": 43,
    "start_time": "2022-06-24T10:20:50.920Z"
   },
   {
    "duration": 27,
    "start_time": "2022-06-24T10:20:50.965Z"
   },
   {
    "duration": 144461,
    "start_time": "2022-06-24T10:20:50.994Z"
   },
   {
    "duration": 40208,
    "start_time": "2022-06-24T10:23:15.457Z"
   },
   {
    "duration": 2431,
    "start_time": "2022-06-24T10:23:55.667Z"
   },
   {
    "duration": 6388,
    "start_time": "2022-06-24T10:23:58.100Z"
   },
   {
    "duration": 169,
    "start_time": "2022-06-24T10:24:04.490Z"
   },
   {
    "duration": 1014,
    "start_time": "2022-06-24T10:24:52.867Z"
   },
   {
    "duration": 157,
    "start_time": "2022-06-24T10:24:53.943Z"
   },
   {
    "duration": 1031,
    "start_time": "2022-06-24T10:25:04.986Z"
   },
   {
    "duration": 203,
    "start_time": "2022-06-24T10:25:06.263Z"
   },
   {
    "duration": 87,
    "start_time": "2022-06-24T10:26:43.250Z"
   },
   {
    "duration": 117,
    "start_time": "2022-06-24T10:26:55.379Z"
   },
   {
    "duration": 98,
    "start_time": "2022-06-24T10:27:10.242Z"
   },
   {
    "duration": 90,
    "start_time": "2022-06-24T10:27:28.138Z"
   },
   {
    "duration": 131,
    "start_time": "2022-06-24T10:27:30.354Z"
   },
   {
    "duration": 94,
    "start_time": "2022-06-24T10:29:39.933Z"
   },
   {
    "duration": 135,
    "start_time": "2022-06-24T10:29:43.072Z"
   },
   {
    "duration": 1647,
    "start_time": "2022-06-24T11:41:36.557Z"
   },
   {
    "duration": 2,
    "start_time": "2022-06-24T11:41:38.206Z"
   },
   {
    "duration": 153,
    "start_time": "2022-06-24T11:41:38.210Z"
   },
   {
    "duration": 18,
    "start_time": "2022-06-24T11:41:38.365Z"
   },
   {
    "duration": 29,
    "start_time": "2022-06-24T11:41:38.387Z"
   },
   {
    "duration": 6,
    "start_time": "2022-06-24T11:41:38.418Z"
   },
   {
    "duration": 27,
    "start_time": "2022-06-24T11:41:38.426Z"
   },
   {
    "duration": 17,
    "start_time": "2022-06-24T11:41:38.455Z"
   },
   {
    "duration": 29,
    "start_time": "2022-06-24T11:41:38.473Z"
   },
   {
    "duration": 44,
    "start_time": "2022-06-24T11:41:38.504Z"
   },
   {
    "duration": 4,
    "start_time": "2022-06-24T11:41:38.550Z"
   },
   {
    "duration": 5,
    "start_time": "2022-06-24T11:41:38.555Z"
   },
   {
    "duration": 23,
    "start_time": "2022-06-24T11:41:38.562Z"
   },
   {
    "duration": 151830,
    "start_time": "2022-06-24T11:41:38.587Z"
   },
   {
    "duration": 42882,
    "start_time": "2022-06-24T11:44:10.419Z"
   },
   {
    "duration": 2650,
    "start_time": "2022-06-24T11:44:53.303Z"
   },
   {
    "duration": 125,
    "start_time": "2022-06-24T11:44:55.955Z"
   },
   {
    "duration": 157,
    "start_time": "2022-06-24T11:44:56.082Z"
   }
  ],
  "kernelspec": {
   "display_name": "Python 3 (ipykernel)",
   "language": "python",
   "name": "python3"
  },
  "language_info": {
   "codemirror_mode": {
    "name": "ipython",
    "version": 3
   },
   "file_extension": ".py",
   "mimetype": "text/x-python",
   "name": "python",
   "nbconvert_exporter": "python",
   "pygments_lexer": "ipython3",
   "version": "3.9.5"
  },
  "toc": {
   "base_numbering": 1,
   "nav_menu": {},
   "number_sections": true,
   "sideBar": true,
   "skip_h1_title": true,
   "title_cell": "Table of Contents",
   "title_sidebar": "Contents",
   "toc_cell": false,
   "toc_position": {},
   "toc_section_display": true,
   "toc_window_display": false
  }
 },
 "nbformat": 4,
 "nbformat_minor": 1
}
